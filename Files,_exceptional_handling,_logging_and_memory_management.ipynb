{
  "nbformat": 4,
  "nbformat_minor": 0,
  "metadata": {
    "colab": {
      "provenance": []
    },
    "kernelspec": {
      "name": "python3",
      "display_name": "Python 3"
    },
    "language_info": {
      "name": "python"
    }
  },
  "cells": [
    {
      "cell_type": "markdown",
      "source": [
        "# **Files, exceptional handling, logging and memory management Assignment**\n",
        "#***Files, exceptional handling, logging and memory management Theory Questions***\n"
      ],
      "metadata": {
        "id": "j3GAouAP_pQ2"
      }
    },
    {
      "cell_type": "markdown",
      "source": [
        "## Q1. What is the difference between interpreted and compiled languages?\n",
        "### **Compiled Languages**\n",
        "**Definition:** The source code is translated (compiled) into machine code by a compiler before execution.\n",
        "\n",
        "**Execution Process:**\n",
        "\n",
        "1. You write code (e.g., main.c).\n",
        "\n",
        "2. A compiler translates it into a standalone executable file (e.g., main.exe or a.out).\n",
        "\n",
        "3. The CPU directly runs that executable.\n",
        "\n",
        "**Examples:** C, C++, Rust, Go, Swift.\n",
        "\n",
        "**Pros:**\n",
        "\n",
        "- Faster execution (since the code is already in machine language).\n",
        "\n",
        "- Optimizations done by the compiler can make code more efficient.\n",
        "\n",
        "- Doesn’t need the source code to run — only the executable.\n",
        "\n",
        "**Cons:**\n",
        "\n",
        "- Slower to develop/test — you must recompile after every change.\n",
        "\n",
        "- Platform-dependent executables (e.g., compiled on Windows might not run on Linux without recompilation)."
      ],
      "metadata": {
        "id": "HDynGG53AOJ2"
      }
    },
    {
      "cell_type": "markdown",
      "source": [
        "### **Interpreted Languages**\n",
        "\n",
        "**Definition:** The source code is executed line by line (or statement by statement) by an interpreter at runtime.\n",
        "\n",
        "**Execution Process:**\n",
        "\n",
        "1. You write code (e.g., script.py).\n",
        "\n",
        "2. The interpreter reads and executes it directly.\n",
        "\n",
        "**Examples:** Python, JavaScript, Ruby, PHP.\n",
        "\n",
        "**Pros:**\n",
        "\n",
        "- Easier to test and debug (no need to compile first).\n",
        "\n",
        "- More portable (runs wherever the interpreter exists).\n",
        "\n",
        "- Great for scripting and rapid development.\n",
        "\n",
        "**Cons:**\n",
        "\n",
        "- Slower execution (since code is translated on the fly).\n",
        "\n",
        "- Requires the interpreter to be installed to run the program."
      ],
      "metadata": {
        "id": "8PeptnrfBVRA"
      }
    },
    {
      "cell_type": "markdown",
      "source": [
        "### **Summary Table**"
      ],
      "metadata": {
        "id": "Xv7O0SqyBzMe"
      }
    },
    {
      "cell_type": "code",
      "source": [
        "| Feature     | Compiled Language         | Interpreted Language            |\n",
        "| ----------- | ------------------------- | ------------------------------- |\n",
        "| Translation | Before execution          | During execution                |\n",
        "| Output      | Executable file           | Direct execution by interpreter |\n",
        "| Speed       | Faster                    | Slower                          |\n",
        "| Portability | Lower (platform-specific) | Higher (needs interpreter)      |\n",
        "| Examples    | C, C++, Go, Rust          | Python, JavaScript, Ruby        |\n"
      ],
      "metadata": {
        "id": "MQ_6pKbIBtMf"
      },
      "execution_count": null,
      "outputs": []
    },
    {
      "cell_type": "markdown",
      "source": [
        "## Q2. What is exception handling in Python?"
      ],
      "metadata": {
        "id": "k-WAHJrdB56G"
      }
    },
    {
      "cell_type": "markdown",
      "source": [
        "**Exception handling in Python** lets you manage errors without crashing your program.\n",
        "\n",
        "It uses try, except, else, and finally blocks to catch and handle exceptions.\n",
        "### **Example:**"
      ],
      "metadata": {
        "id": "NJGY5MpyCV6m"
      }
    },
    {
      "cell_type": "code",
      "source": [
        "try:\n",
        "    x = 10 / 0\n",
        "except ZeroDivisionError:\n",
        "    print(\"Cannot divide by zero!\")\n"
      ],
      "metadata": {
        "id": "Q14Sd68YChmm"
      },
      "execution_count": null,
      "outputs": []
    },
    {
      "cell_type": "markdown",
      "source": [
        "### **Keywords:**\n",
        "\n",
        "- try → code that may cause an error\n",
        "\n",
        "- except → handles the error\n",
        "\n",
        "- else → runs if no error\n",
        "\n",
        "- finally → always runs (cleanup)"
      ],
      "metadata": {
        "id": "1Eo6DsDxCknm"
      }
    },
    {
      "cell_type": "markdown",
      "source": [
        "## Q3. What is the purpose of the finally block in exception handling?"
      ],
      "metadata": {
        "id": "soL-WULYCvwm"
      }
    },
    {
      "cell_type": "markdown",
      "source": [
        "The **finally block** in Python is used to define code that always runs, no matter what — whether an exception occurs or not.\n",
        "\n",
        "It’s typically used for cleanup actions like closing files, releasing resources, or ending database connections.\n",
        "### **Example:**"
      ],
      "metadata": {
        "id": "5d6UQgUODDx3"
      }
    },
    {
      "cell_type": "code",
      "source": [
        "try:\n",
        "    x = 10 / 0\n",
        "except ZeroDivisionError:\n",
        "    print(\"Error occurred.\")\n",
        "finally:\n",
        "    print(\"This will always run.\")\n"
      ],
      "metadata": {
        "id": "swKj1p9gDMW3"
      },
      "execution_count": null,
      "outputs": []
    },
    {
      "cell_type": "markdown",
      "source": [
        "### **Output:**"
      ],
      "metadata": {
        "id": "IylUArK6DOUm"
      }
    },
    {
      "cell_type": "code",
      "source": [
        "Error occurred.\n",
        "This will always run.\n"
      ],
      "metadata": {
        "id": "ahxr35uvDSbW"
      },
      "execution_count": null,
      "outputs": []
    },
    {
      "cell_type": "markdown",
      "source": [
        "## Q4.  What is logging in Python?"
      ],
      "metadata": {
        "id": "bTzx4Qa9Dlbf"
      }
    },
    {
      "cell_type": "markdown",
      "source": [
        "**Logging in Python** is the process of recording messages (like errors, warnings, or status updates) from your program to help you track its behavior and debug issues.\n",
        "\n",
        "It’s done using Python’s built-in logging module."
      ],
      "metadata": {
        "id": "Ga8H5KewD12v"
      }
    },
    {
      "cell_type": "markdown",
      "source": [
        "### **Example:**"
      ],
      "metadata": {
        "id": "kuEqkMRyD7Dw"
      }
    },
    {
      "cell_type": "code",
      "source": [
        "import logging\n",
        "\n",
        "logging.basicConfig(level=logging.INFO)\n",
        "logging.info(\"Program started\")\n",
        "logging.warning(\"Low disk space\")\n",
        "logging.error(\"An error occurred\")\n"
      ],
      "metadata": {
        "id": "dH_LBItlD-z4"
      },
      "execution_count": null,
      "outputs": []
    },
    {
      "cell_type": "markdown",
      "source": [
        "### **Common Log Levels:**"
      ],
      "metadata": {
        "id": "KbED884mEBOX"
      }
    },
    {
      "cell_type": "code",
      "source": [
        "| Level      | Purpose                               |\n",
        "| ---------- | ------------------------------------- |\n",
        "| `DEBUG`    | Detailed information for debugging    |\n",
        "| `INFO`     | General events (normal operation)     |\n",
        "| `WARNING`  | Something unexpected but not critical |\n",
        "| `ERROR`    | A serious issue that needs attention  |\n",
        "| `CRITICAL` | Very serious error, program may stop  |\n"
      ],
      "metadata": {
        "id": "tKoT6u9XEE8o"
      },
      "execution_count": null,
      "outputs": []
    },
    {
      "cell_type": "markdown",
      "source": [
        "### **In short:**\n",
        "Logging helps monitor what your program is doing and diagnose problems without using print statements."
      ],
      "metadata": {
        "id": "9PCLTOwjEvG3"
      }
    },
    {
      "cell_type": "markdown",
      "source": [
        "## Q5. What is the significance of the __del__ method in Python?"
      ],
      "metadata": {
        "id": "apL-dPRUEHf_"
      }
    },
    {
      "cell_type": "markdown",
      "source": [
        "The __del__ method in Python is a destructor — a special method called automatically when an object is about to be destroyed (i.e., when it’s no longer in use and its memory is being freed).\n",
        "\n",
        "It’s typically used for cleanup tasks, like closing files or releasing resources."
      ],
      "metadata": {
        "id": "VnsxkUMYEUBv"
      }
    },
    {
      "cell_type": "markdown",
      "source": [
        "### **Example:**"
      ],
      "metadata": {
        "id": "lAadPC1DEbeQ"
      }
    },
    {
      "cell_type": "code",
      "source": [
        "class Demo:\n",
        "    def __del__(self):\n",
        "        print(\"Object is being deleted\")\n",
        "\n",
        "obj = Demo()\n",
        "del obj\n"
      ],
      "metadata": {
        "id": "IJM7JP0sEe0H"
      },
      "execution_count": null,
      "outputs": []
    },
    {
      "cell_type": "markdown",
      "source": [
        "### **Output:**"
      ],
      "metadata": {
        "id": "4ua742sZEhWA"
      }
    },
    {
      "cell_type": "code",
      "source": [
        "Object is being deleted\n"
      ],
      "metadata": {
        "id": "XqggYvG1Eg_4"
      },
      "execution_count": null,
      "outputs": []
    },
    {
      "cell_type": "markdown",
      "source": [
        "### **In short:**\n",
        "__del__ is used to define what should happen when an object is deleted, such as cleaning up resources before the object is destroyed."
      ],
      "metadata": {
        "id": "RwAP_wUVEpMI"
      }
    },
    {
      "cell_type": "markdown",
      "source": [
        "## Q6. What is the difference between import and from ... import in Python?"
      ],
      "metadata": {
        "id": "c96S1NrHEyRP"
      }
    },
    {
      "cell_type": "markdown",
      "source": [
        "\n",
        "The difference between import and from ... import in Python lies in how you access functions or variables from a module."
      ],
      "metadata": {
        "id": "aQTuG584E6GI"
      }
    },
    {
      "cell_type": "markdown",
      "source": [
        "**import**\n",
        "\n",
        "- Imports the whole module.\n",
        "\n",
        "- You must use the module name to access its contents."
      ],
      "metadata": {
        "id": "kvkbuR_FFDEH"
      }
    },
    {
      "cell_type": "markdown",
      "source": [
        "### **Example:**"
      ],
      "metadata": {
        "id": "lf6V5KPVFKcQ"
      }
    },
    {
      "cell_type": "code",
      "source": [
        "import math\n",
        "print(math.sqrt(16))   # Access using module name\n"
      ],
      "metadata": {
        "id": "ceo7O3A7FOGY"
      },
      "execution_count": null,
      "outputs": []
    },
    {
      "cell_type": "markdown",
      "source": [
        "**from ... import**\n",
        "\n",
        "- Imports specific items (functions, classes, variables) from a module.\n",
        "\n",
        "- You can use them directly without the module name."
      ],
      "metadata": {
        "id": "4G-jmdbSFQev"
      }
    },
    {
      "cell_type": "markdown",
      "source": [
        "### **Example:**"
      ],
      "metadata": {
        "id": "z43BdCvZFdMQ"
      }
    },
    {
      "cell_type": "code",
      "source": [
        "from math import sqrt\n",
        "print(sqrt(16))   # No need for math.\n"
      ],
      "metadata": {
        "id": "wshCu1_8FfQR"
      },
      "execution_count": null,
      "outputs": []
    },
    {
      "cell_type": "markdown",
      "source": [
        "### **Summary**"
      ],
      "metadata": {
        "id": "qQx-i_SXFhOo"
      }
    },
    {
      "cell_type": "code",
      "source": [
        "| Statement               | Imports          | Access Method   |\n",
        "| ----------------------- | ---------------- | --------------- |\n",
        "| `import math`           | Whole module     | `math.sqrt(16)` |\n",
        "| `from math import sqrt` | Specific item(s) | `sqrt(16)`      |\n"
      ],
      "metadata": {
        "id": "rcUDDZoZFmBg"
      },
      "execution_count": null,
      "outputs": []
    },
    {
      "cell_type": "markdown",
      "source": [
        "### **In short:**\n",
        "import loads the entire module, while from ... import brings specific parts directly into your program."
      ],
      "metadata": {
        "id": "O4vW0T9iFoef"
      }
    },
    {
      "cell_type": "markdown",
      "source": [
        "## Q7.  How can you handle multiple exceptions in Python?"
      ],
      "metadata": {
        "id": "kf86B8dqFvFw"
      }
    },
    {
      "cell_type": "markdown",
      "source": [
        "You can handle multiple exceptions in Python by using multiple except blocks or by grouping exceptions in a single block."
      ],
      "metadata": {
        "id": "2rMBy-gUF4fQ"
      }
    },
    {
      "cell_type": "markdown",
      "source": [
        "### **1. Multiple except blocks**\n",
        "Handle each exception type separately:"
      ],
      "metadata": {
        "id": "jd9AZjFMF_3C"
      }
    },
    {
      "cell_type": "code",
      "source": [
        "try:\n",
        "    x = int(input(\"Enter a number: \"))\n",
        "    result = 10 / x\n",
        "except ValueError:\n",
        "    print(\"Invalid input!\")\n",
        "except ZeroDivisionError:\n",
        "    print(\"Cannot divide by zero!\")\n"
      ],
      "metadata": {
        "id": "fvpXYrOAGIPw"
      },
      "execution_count": null,
      "outputs": []
    },
    {
      "cell_type": "markdown",
      "source": [
        "### **2. Single except block with a tuple**\n",
        "\n",
        "Handle multiple exceptions with the same message:"
      ],
      "metadata": {
        "id": "jb8nrq23GKzo"
      }
    },
    {
      "cell_type": "code",
      "source": [
        "try:\n",
        "    x = int(input(\"Enter a number: \"))\n",
        "    result = 10 / x\n",
        "except (ValueError, ZeroDivisionError):\n",
        "    print(\"Invalid input or division by zero!\")\n"
      ],
      "metadata": {
        "id": "fDpyZNboGPEg"
      },
      "execution_count": null,
      "outputs": []
    },
    {
      "cell_type": "markdown",
      "source": [
        "### **In short:**\n",
        "You can handle multiple exceptions by using separate except blocks or grouping exception types in parentheses."
      ],
      "metadata": {
        "id": "shGqbIinGRTQ"
      }
    },
    {
      "cell_type": "markdown",
      "source": [
        "## Q8. What is the purpose of the with statement when handling files in Python?"
      ],
      "metadata": {
        "id": "4CwMcgqhGVAA"
      }
    },
    {
      "cell_type": "markdown",
      "source": [
        "The with statement in Python is used to automatically manage resources like files.\n",
        "\n",
        "When handling files, it ensures the file is properly closed after its block of code is executed — even if an error occurs."
      ],
      "metadata": {
        "id": "g96Oc2YXHriZ"
      }
    },
    {
      "cell_type": "markdown",
      "source": [
        "### **Example:**"
      ],
      "metadata": {
        "id": "TsjugICtHzXz"
      }
    },
    {
      "cell_type": "code",
      "source": [
        "with open(\"data.txt\", \"r\") as file:\n",
        "    content = file.read()\n",
        "    print(content)\n"
      ],
      "metadata": {
        "id": "XpBc_PPtH3RB"
      },
      "execution_count": null,
      "outputs": []
    },
    {
      "cell_type": "markdown",
      "source": [
        "Here, you don’t need to call file.close() — Python does it automatically."
      ],
      "metadata": {
        "id": "sVMuKrgBH5pw"
      }
    },
    {
      "cell_type": "markdown",
      "source": [
        "### **In short:**\n",
        "The with statement makes file handling safer and cleaner by automatically closing files after use."
      ],
      "metadata": {
        "id": "b-SYq1t1H_gg"
      }
    },
    {
      "cell_type": "markdown",
      "source": [
        "## Q9. What is the difference between multithreading and multiprocessing?"
      ],
      "metadata": {
        "id": "pDbbJSEdIF4h"
      }
    },
    {
      "cell_type": "markdown",
      "source": [
        "The difference between multithreading and multiprocessing in Python lies in how tasks are executed concurrently and how system resources are used."
      ],
      "metadata": {
        "id": "A2-E22hVIOGg"
      }
    },
    {
      "cell_type": "markdown",
      "source": [
        "### **Multithreading**\n",
        "\n",
        "- Uses multiple threads within the same process.\n",
        "\n",
        "- Threads share the same memory space.\n",
        "\n",
        "- Best for I/O-bound tasks (e.g., reading files, network requests).\n",
        "\n",
        "- Limited by the Global Interpreter Lock (GIL) in CPython — only one thread runs Python code at a time."
      ],
      "metadata": {
        "id": "2VwEiipJIVVQ"
      }
    },
    {
      "cell_type": "markdown",
      "source": [
        "### **Example:**"
      ],
      "metadata": {
        "id": "Zu7kXJxIIiwY"
      }
    },
    {
      "cell_type": "code",
      "source": [
        "import threading\n",
        "\n",
        "def task():\n",
        "    print(\"Running in a thread\")\n",
        "\n",
        "t1 = threading.Thread(target=task)\n",
        "t1.start()\n"
      ],
      "metadata": {
        "id": "LuLBOSEVInBY"
      },
      "execution_count": null,
      "outputs": []
    },
    {
      "cell_type": "markdown",
      "source": [
        "### **Multiprocessing**\n",
        "\n",
        "- Uses multiple processes, each with its own memory space.\n",
        "\n",
        "- True parallel execution on multiple CPU cores.\n",
        "\n",
        "- Best for CPU-bound tasks (e.g., heavy computation, data processing).\n",
        "\n",
        "- No GIL limitation since each process has its own interpreter."
      ],
      "metadata": {
        "id": "cGsIyWDUIpjI"
      }
    },
    {
      "cell_type": "markdown",
      "source": [
        "### **Example:**"
      ],
      "metadata": {
        "id": "4bWyzcF_IzrQ"
      }
    },
    {
      "cell_type": "code",
      "source": [
        "import multiprocessing\n",
        "\n",
        "def task():\n",
        "    print(\"Running in a process\")\n",
        "\n",
        "p1 = multiprocessing.Process(target=task)\n",
        "p1.start()\n"
      ],
      "metadata": {
        "id": "hop8sWlRI3F5"
      },
      "execution_count": null,
      "outputs": []
    },
    {
      "cell_type": "markdown",
      "source": [
        "### **Summary**"
      ],
      "metadata": {
        "id": "xRJA05pZI5e5"
      }
    },
    {
      "cell_type": "code",
      "source": [
        "| Feature           | Multithreading         | Multiprocessing                |\n",
        "| ----------------- | ---------------------- | ------------------------------ |\n",
        "| Execution         | Multiple threads       | Multiple processes             |\n",
        "| Memory            | Shared                 | Separate                       |\n",
        "| Speed (CPU tasks) | Slower (GIL-limited)   | Faster (true parallelism)      |\n",
        "| Best for          | I/O-bound tasks        | CPU-bound tasks                |\n",
        "| Example           | Web requests, file I/O | Image processing, calculations |\n"
      ],
      "metadata": {
        "id": "YuPcl2lKI9Xy"
      },
      "execution_count": null,
      "outputs": []
    },
    {
      "cell_type": "markdown",
      "source": [
        "**✅ In short:**\n",
        "\n",
        "Multithreading is good for tasks that wait (I/O-bound),\n",
        "while multiprocessing is good for tasks that compute (CPU-bound)."
      ],
      "metadata": {
        "id": "qRk14-CtJAbi"
      }
    },
    {
      "cell_type": "markdown",
      "source": [
        "## Q10. What are the advantages of using logging in a program?"
      ],
      "metadata": {
        "id": "lBfncgooJGYJ"
      }
    },
    {
      "cell_type": "markdown",
      "source": [
        "The advantages of using logging in a program are:\n",
        "\n",
        "**1. Debugging Made Easier:**\n",
        "\n",
        "- Helps track the flow of execution and identify issues without stopping the program.\n",
        "\n",
        "**2. Error Monitoring:**\n",
        "\n",
        "- Records errors, warnings, and exceptions for analysis later.\n",
        "\n",
        "**3. Permanent Record:**\n",
        "\n",
        "- Logs can be saved to files, providing a history of program activity.\n",
        "\n",
        "**4. Better than print() Statements:**\n",
        "\n",
        "- Allows different log levels (DEBUG, INFO, WARNING, ERROR, CRITICAL) and can be turned on/off or redirected easily.\n",
        "\n",
        "**5. Maintains Program Flow:**\n",
        "\n",
        "- Errors can be logged without crashing the program.\n",
        "\n",
        "**6. Supports Production Environments:**\n",
        "\n",
        "- Helps monitor live applications and detect issues proactively."
      ],
      "metadata": {
        "id": "8ZtTa1YBJO2B"
      }
    },
    {
      "cell_type": "markdown",
      "source": [
        "### **In short:**\n",
        "Logging provides structured, flexible, and persistent tracking of program behavior, making debugging and monitoring much easier."
      ],
      "metadata": {
        "id": "eNVz7d56KBAr"
      }
    },
    {
      "cell_type": "markdown",
      "source": [
        "## Q11. What is memory management in Python?"
      ],
      "metadata": {
        "id": "uAQVKt1oKaPB"
      }
    },
    {
      "cell_type": "markdown",
      "source": [
        "**Memory management in Python** is the process by which Python allocates and deallocates memory for objects to ensure efficient use of resources.\n",
        "\n",
        "Python handles most of this automatically, so developers don’t usually need to manage memory manually."
      ],
      "metadata": {
        "id": "PR7XRaGSKoL7"
      }
    },
    {
      "cell_type": "markdown",
      "source": [
        "### **Key Features:**\n",
        "\n",
        "**1. Automatic Allocation:**\n",
        "\n",
        "- Memory is allocated when you create objects (like lists, dictionaries, or custom objects).\n",
        "\n",
        "**2. Automatic Deallocation:**\n",
        "\n",
        "- Memory is freed when objects are no longer in use.\n",
        "\n",
        "**3. Garbage Collection:**\n",
        "\n",
        "- Python uses a garbage collector to track objects and remove those with no references.\n",
        "\n",
        "- It mainly uses reference counting and cycle detection.\n",
        "\n",
        "**4. Memory Pools:**\n",
        "\n",
        "- Python maintains memory pools for small objects to reduce fragmentation and improve performance."
      ],
      "metadata": {
        "id": "HD-A1cDkKwZJ"
      }
    },
    {
      "cell_type": "markdown",
      "source": [
        "### **Example:**"
      ],
      "metadata": {
        "id": "tydhDZl8LJ3a"
      }
    },
    {
      "cell_type": "code",
      "source": [
        "a = [1, 2, 3]  # Memory allocated for list\n",
        "b = a          # Reference count increases\n",
        "del a          # Reference count decreases, memory still used by b\n",
        "del b          # Reference count becomes 0 → memory freed by garbage collector\n"
      ],
      "metadata": {
        "id": "kwhHotKyLL-C"
      },
      "execution_count": null,
      "outputs": []
    },
    {
      "cell_type": "markdown",
      "source": [
        "### **✅ In short:**\n",
        "Python’s memory management automatically allocates, tracks, and frees memory using reference counting and garbage collection, reducing the risk of memory leaks and simplifying programming."
      ],
      "metadata": {
        "id": "ObIvgY8xLNpS"
      }
    },
    {
      "cell_type": "markdown",
      "source": [
        "## Q12.  What are the basic steps involved in exception handling in Python?"
      ],
      "metadata": {
        "id": "Iufl_yl8LUSC"
      }
    },
    {
      "cell_type": "markdown",
      "source": [
        "The basic steps involved in exception handling in Python are:\n",
        "### **1. Write the code that may raise an exception inside a try block**"
      ],
      "metadata": {
        "id": "cYe4SfOXLfpi"
      }
    },
    {
      "cell_type": "code",
      "source": [
        "try:\n",
        "    x = 10 / 0\n"
      ],
      "metadata": {
        "id": "-dqI07MFMYQS"
      },
      "execution_count": null,
      "outputs": []
    },
    {
      "cell_type": "markdown",
      "source": [
        "### **2. Catch and handle specific exceptions using except blocks**"
      ],
      "metadata": {
        "id": "M9U-8hbCMZQS"
      }
    },
    {
      "cell_type": "code",
      "source": [
        "except ZeroDivisionError:\n",
        "    print(\"Cannot divide by zero!\")\n"
      ],
      "metadata": {
        "id": "AWF56vQqMfeb"
      },
      "execution_count": null,
      "outputs": []
    },
    {
      "cell_type": "markdown",
      "source": [
        "### **3. Optionally, use else for code that runs if no exception occurs**"
      ],
      "metadata": {
        "id": "dlXLtl4zMhtT"
      }
    },
    {
      "cell_type": "code",
      "source": [
        "else:\n",
        "    print(\"Division successful\")\n"
      ],
      "metadata": {
        "id": "-Dqwlz6GMmp7"
      },
      "execution_count": null,
      "outputs": []
    },
    {
      "cell_type": "markdown",
      "source": [
        "### **4. Optionally, use finally for cleanup actions that run regardless of exceptions**"
      ],
      "metadata": {
        "id": "_iSNT8rXMoma"
      }
    },
    {
      "cell_type": "code",
      "source": [
        "finally:\n",
        "    print(\"End of program\")\n"
      ],
      "metadata": {
        "id": "Q36ARnE1M05i"
      },
      "execution_count": null,
      "outputs": []
    },
    {
      "cell_type": "markdown",
      "source": [
        "### **In short:**\n",
        "\n",
        "1. try → run risky code\n",
        "\n",
        "2. except → handle errors\n",
        "\n",
        "3. else → run if no errors\n",
        "\n",
        "4. finally → always run for cleanup"
      ],
      "metadata": {
        "id": "OHBuuUC6M3Cb"
      }
    },
    {
      "cell_type": "markdown",
      "source": [
        "## Q13. Why is memory management important in Python?"
      ],
      "metadata": {
        "id": "L0qUwdqCNBvS"
      }
    },
    {
      "cell_type": "markdown",
      "source": [
        "Memory management is important in Python because it ensures that your program uses system resources efficiently and safely."
      ],
      "metadata": {
        "id": "Rga40TGjNJ8z"
      }
    },
    {
      "cell_type": "markdown",
      "source": [
        "### **Key Reasons:**\n",
        "\n",
        "**1. Prevents Memory Leaks:**\n",
        "\n",
        "- Automatically frees memory of objects no longer in use to avoid wasting RAM.\n",
        "\n",
        "**2. Optimizes Performance:**\n",
        "\n",
        "- Efficient memory allocation and deallocation make programs faster and more responsive.\n",
        "\n",
        "**3. Supports Large Applications:**\n",
        "\n",
        "- Proper memory management allows handling large datasets without crashing.\n",
        "\n",
        "**4. Simplifies Development:**\n",
        "\n",
        "- Python’s automatic memory management lets developers focus on logic rather than manually managing memory.\n",
        "\n",
        "**5. Improves Stability:**\n",
        "\n",
        "- Reduces the chances of program crashes due to memory exhaustion."
      ],
      "metadata": {
        "id": "f1-sOdI_NRlc"
      }
    },
    {
      "cell_type": "markdown",
      "source": [
        "### **In short:**\n",
        "Memory management in Python ensures efficient use of memory, prevents leaks, and maintains program stability."
      ],
      "metadata": {
        "id": "rsICdJkaNwDD"
      }
    },
    {
      "cell_type": "markdown",
      "source": [
        "## Q14. What is the role of try and except in exception handling?"
      ],
      "metadata": {
        "id": "XlsqUdjINztM"
      }
    },
    {
      "cell_type": "markdown",
      "source": [
        "\n",
        "In Python’s exception handling, try and except work together to detect and handle errors without crashing the program."
      ],
      "metadata": {
        "id": "eTzor89TOEs1"
      }
    },
    {
      "cell_type": "markdown",
      "source": [
        "**try block**\n",
        "\n",
        "- Contains the code that might raise an exception.\n",
        "\n",
        "- Python “tries” to execute this code.\n",
        "\n",
        "### **Example:**"
      ],
      "metadata": {
        "id": "dPHLruQdOHT0"
      }
    },
    {
      "cell_type": "code",
      "source": [
        "try:\n",
        "    x = 10 / 0  # Risky code\n"
      ],
      "metadata": {
        "id": "XHV-FdaPON1E"
      },
      "execution_count": null,
      "outputs": []
    },
    {
      "cell_type": "markdown",
      "source": [
        "**except block**\n",
        "\n",
        "- Catches and handles specific exceptions raised in the try block.\n",
        "\n",
        "- Lets the program continue running instead of stopping."
      ],
      "metadata": {
        "id": "H_Xx7lsKOPbc"
      }
    },
    {
      "cell_type": "markdown",
      "source": [
        "### **Example:**"
      ],
      "metadata": {
        "id": "9RqxgpQBOWw8"
      }
    },
    {
      "cell_type": "code",
      "source": [
        "except ZeroDivisionError:\n",
        "    print(\"Cannot divide by zero!\")\n"
      ],
      "metadata": {
        "id": "-v_QhOd5OfrD"
      },
      "execution_count": null,
      "outputs": []
    },
    {
      "cell_type": "markdown",
      "source": [
        "### **In short:**\n",
        "\n",
        "- try → execute code that might fail\n",
        "\n",
        "- except → handle the error if it occurs"
      ],
      "metadata": {
        "id": "50LYltOlOhoc"
      }
    },
    {
      "cell_type": "markdown",
      "source": [
        "## Q15.  How does Python's garbage collection system work?"
      ],
      "metadata": {
        "id": "DPI-KEM5OrhE"
      }
    },
    {
      "cell_type": "markdown",
      "source": [
        "Python’s garbage collection (GC) system automatically manages memory by reclaiming objects that are no longer in use, helping prevent memory leaks."
      ],
      "metadata": {
        "id": "wfzMtnwIQHb8"
      }
    },
    {
      "cell_type": "markdown",
      "source": [
        "### **How It Works:**\n",
        "\n",
        "**1. Reference Counting**\n",
        "\n",
        "- Each object keeps track of the number of references pointing to it.\n",
        "\n",
        "- When the reference count drops to zero, the object’s memory is immediately freed."
      ],
      "metadata": {
        "id": "QCU6Wx1CQO5U"
      }
    },
    {
      "cell_type": "code",
      "source": [
        "a = [1, 2, 3]  # reference count = 1\n",
        "b = a          # reference count = 2\n",
        "del a          # reference count = 1\n",
        "del b          # reference count = 0 → object deleted\n"
      ],
      "metadata": {
        "id": "d0IRSmNrQbfU"
      },
      "execution_count": null,
      "outputs": []
    },
    {
      "cell_type": "markdown",
      "source": [
        "**2. Cycle Detection (Generational Garbage Collector)**\n",
        "- Reference counting alone can’t handle circular references (objects referencing each other).\n",
        "\n",
        "- Python’s gc module detects and collects these cycles periodically."
      ],
      "metadata": {
        "id": "gSLknu-vQcQc"
      }
    },
    {
      "cell_type": "code",
      "source": [
        "import gc\n",
        "gc.collect()  # Forces garbage collection\n"
      ],
      "metadata": {
        "id": "cy99X3JVQpUW"
      },
      "execution_count": null,
      "outputs": []
    },
    {
      "cell_type": "markdown",
      "source": [
        "**3. Memory Pools**\n",
        "\n",
        "- Python allocates memory in pools for small objects to reduce fragmentation and improve performance."
      ],
      "metadata": {
        "id": "Gb5LR1RRQnF8"
      }
    },
    {
      "cell_type": "markdown",
      "source": [
        "### **Key Points:**\n",
        "\n",
        "- Automatic memory management reduces the risk of memory leaks.\n",
        "\n",
        "- Developers don’t usually need to manually free memory.\n",
        "\n",
        "- Circular references are handled by the cycle-detecting garbage collector."
      ],
      "metadata": {
        "id": "2QcO6PFaQzmc"
      }
    },
    {
      "cell_type": "markdown",
      "source": [
        "### **In short:**\n",
        "Python’s garbage collection works by reference counting and cycle detection, automatically freeing memory used by objects that are no longer needed."
      ],
      "metadata": {
        "id": "bS6880ueQ-g3"
      }
    },
    {
      "cell_type": "markdown",
      "source": [
        "## Q16. What is the purpose of the else block in exception handling?"
      ],
      "metadata": {
        "id": "PGvSjJJNRCXE"
      }
    },
    {
      "cell_type": "markdown",
      "source": [
        "In Python’s exception handling, the else block is used to define code that should run only if no exceptions occur in the try block."
      ],
      "metadata": {
        "id": "nLYH5dxHRQ4c"
      }
    },
    {
      "cell_type": "markdown",
      "source": [
        "### **Purpose:**\n",
        "\n",
        "- Executes normal code when the try block succeeds.\n",
        "\n",
        "- Keeps the try block focused on risky code, while else handles success cases."
      ],
      "metadata": {
        "id": "4p77cjfyRUkM"
      }
    },
    {
      "cell_type": "markdown",
      "source": [
        "### **Example:**"
      ],
      "metadata": {
        "id": "5B1xBUNrRa_1"
      }
    },
    {
      "cell_type": "code",
      "source": [
        "try:\n",
        "    x = int(input(\"Enter a number: \"))\n",
        "    result = 10 / x\n",
        "except ZeroDivisionError:\n",
        "    print(\"Cannot divide by zero!\")\n",
        "except ValueError:\n",
        "    print(\"Invalid input!\")\n",
        "else:\n",
        "    print(\"Division successful, result =\", result)\n"
      ],
      "metadata": {
        "id": "DoRb2ptyRc1u"
      },
      "execution_count": null,
      "outputs": []
    },
    {
      "cell_type": "markdown",
      "source": [
        "**Output (if input is 2):**"
      ],
      "metadata": {
        "id": "OeE0Cq33RejG"
      }
    },
    {
      "cell_type": "code",
      "source": [
        "Division successful, result = 5.0\n"
      ],
      "metadata": {
        "id": "cXs4GBM8RiAk"
      },
      "execution_count": null,
      "outputs": []
    },
    {
      "cell_type": "markdown",
      "source": [
        "### **In short:**\n",
        "The else block runs only when no exception occurs, separating normal execution from error handling."
      ],
      "metadata": {
        "id": "ws2POW6ERjyN"
      }
    },
    {
      "cell_type": "markdown",
      "source": [
        "## Q17. What are the common logging levels in Python?"
      ],
      "metadata": {
        "id": "18Q2_TxLRpUu"
      }
    },
    {
      "cell_type": "markdown",
      "source": [
        "Python’s logging module provides different logging levels to indicate the severity of events in a program."
      ],
      "metadata": {
        "id": "y1foWol6RzdF"
      }
    },
    {
      "cell_type": "markdown",
      "source": [
        "### **Common Logging Levels**"
      ],
      "metadata": {
        "id": "AUMDH4D5R38m"
      }
    },
    {
      "cell_type": "code",
      "source": [
        "| Level      | Description                                           | Numeric Value |\n",
        "| ---------- | ----------------------------------------------------- | ------------- |\n",
        "| `DEBUG`    | Detailed information for diagnosing problems          | 10            |\n",
        "| `INFO`     | General events or program flow information            | 20            |\n",
        "| `WARNING`  | Something unexpected, but the program continues       | 30            |\n",
        "| `ERROR`    | Serious problem that prevents a function from working | 40            |\n",
        "| `CRITICAL` | Very severe error, program may stop                   | 50            |\n"
      ],
      "metadata": {
        "id": "9azbBDz2R8bm"
      },
      "execution_count": null,
      "outputs": []
    },
    {
      "cell_type": "markdown",
      "source": [
        "### **Example:**"
      ],
      "metadata": {
        "id": "1dKcj79PR-et"
      }
    },
    {
      "cell_type": "code",
      "source": [
        "import logging\n",
        "\n",
        "logging.basicConfig(level=logging.DEBUG)\n",
        "logging.debug(\"Debugging info\")\n",
        "logging.info(\"Program started\")\n",
        "logging.warning(\"Low disk space\")\n",
        "logging.error(\"An error occurred\")\n",
        "logging.critical(\"Critical failure!\")\n"
      ],
      "metadata": {
        "id": "HeXDi5fKSBzI"
      },
      "execution_count": null,
      "outputs": []
    },
    {
      "cell_type": "markdown",
      "source": [
        "### **In short:**\n",
        "Logging levels let you categorize messages by severity, making it easier to monitor and debug your program."
      ],
      "metadata": {
        "id": "IKr6JF8SSD1F"
      }
    },
    {
      "cell_type": "markdown",
      "source": [
        "## Q18. What is the difference between os.fork() and multiprocessing in Python?"
      ],
      "metadata": {
        "id": "2vUiSANrSIBO"
      }
    },
    {
      "cell_type": "markdown",
      "source": [
        "The difference between os.fork() and multiprocessing in Python lies in how new processes are created and managed."
      ],
      "metadata": {
        "id": "gMS5iRHGSPKl"
      }
    },
    {
      "cell_type": "markdown",
      "source": [
        "**os.fork()**\n",
        "\n",
        "- Creates a new process by duplicating the current process.\n",
        "\n",
        "- The new process (child) is a copy of the parent process.\n",
        "\n",
        "- Available only on Unix/Linux systems (not Windows).\n",
        "\n",
        "- Low-level function; requires manual handling of process control.\n",
        "\n",
        "### **Example:**"
      ],
      "metadata": {
        "id": "OrFin_N_SUgu"
      }
    },
    {
      "cell_type": "code",
      "source": [
        "import os\n",
        "\n",
        "pid = os.fork()\n",
        "if pid == 0:\n",
        "    print(\"Child process\")\n",
        "else:\n",
        "    print(\"Parent process\")\n"
      ],
      "metadata": {
        "id": "x6Xoz-l6ScVl"
      },
      "execution_count": null,
      "outputs": []
    },
    {
      "cell_type": "markdown",
      "source": [
        "**multiprocessing module**\n",
        "\n",
        "- High-level module to create and manage processes portably (works on Windows, Linux, macOS).\n",
        "\n",
        "- Provides Process objects, pools, queues, pipes, etc., for easier parallel programming.\n",
        "\n",
        "- Each process has its own memory space.\n",
        "### **Example:**"
      ],
      "metadata": {
        "id": "jRzSmDWQSfBH"
      }
    },
    {
      "cell_type": "code",
      "source": [
        "from multiprocessing import Process\n",
        "\n",
        "def task():\n",
        "    print(\"Running in a process\")\n",
        "\n",
        "p = Process(target=task)\n",
        "p.start()\n",
        "p.join()\n"
      ],
      "metadata": {
        "id": "8pelTYFvSr0F"
      },
      "execution_count": null,
      "outputs": []
    },
    {
      "cell_type": "markdown",
      "source": [
        "### **Key Differences**"
      ],
      "metadata": {
        "id": "yYAcYJKUSt1d"
      }
    },
    {
      "cell_type": "code",
      "source": [
        "| Feature     | `os.fork()`                 | `multiprocessing`                    |\n",
        "| ----------- | --------------------------- | ------------------------------------ |\n",
        "| Portability | Unix/Linux only             | Cross-platform                       |\n",
        "| Complexity  | Low-level, manual handling  | High-level, easier API               |\n",
        "| Memory      | Child shares some resources | Separate memory per process          |\n",
        "| Features    | Basic process creation      | Advanced tools: pools, queues, pipes |\n"
      ],
      "metadata": {
        "id": "8BLlIZaESxD3"
      },
      "execution_count": null,
      "outputs": []
    },
    {
      "cell_type": "markdown",
      "source": [
        "### **In short:**\n",
        "\n",
        "- os.fork() is low-level and Unix-only, duplicating the current process.\n",
        "\n",
        "- multiprocessing is high-level, cross-platform, and provides robust tools for parallel programming."
      ],
      "metadata": {
        "id": "0mhuqoVrSy_-"
      }
    },
    {
      "cell_type": "markdown",
      "source": [
        "## Q19.  What is the importance of closing a file in Python?"
      ],
      "metadata": {
        "id": "6YSV9hRYS5wm"
      }
    },
    {
      "cell_type": "markdown",
      "source": [
        "Closing a file in Python is important because it releases system resources and ensures data integrity."
      ],
      "metadata": {
        "id": "mnVwhU9FTDEV"
      }
    },
    {
      "cell_type": "markdown",
      "source": [
        "### **Reasons to Close a File:**\n",
        "\n",
        "**1. Free System Resources:**\n",
        "\n",
        "- Open files consume memory and file descriptors. Closing them prevents resource leaks.\n",
        "\n",
        "**2. Ensure Data is Written:**\n",
        "\n",
        "- For writable files, close() flushes the buffer, ensuring all data is saved to disk.\n",
        "\n",
        "**3. Avoid File Corruption:**\n",
        "\n",
        "- Leaving files open can lead to incomplete writes or corruption.\n",
        "\n",
        "**4. Enable Other Programs to Access the File:**\n",
        "\n",
        "- Some operating systems lock open files; closing allows other programs to read/write them."
      ],
      "metadata": {
        "id": "juJ-GhwjTIAW"
      }
    },
    {
      "cell_type": "markdown",
      "source": [
        "### **Example:**"
      ],
      "metadata": {
        "id": "x09dJ0RRTasO"
      }
    },
    {
      "cell_type": "code",
      "source": [
        "file = open(\"data.txt\", \"w\")\n",
        "file.write(\"Hello, Python!\")\n",
        "file.close()  # Ensures data is saved and resources are freed\n"
      ],
      "metadata": {
        "id": "4jiGpPUxTcX1"
      },
      "execution_count": null,
      "outputs": []
    },
    {
      "cell_type": "markdown",
      "source": [
        "Better Approach: Using with automatically closes the file:"
      ],
      "metadata": {
        "id": "3852QqPFTeZ2"
      }
    },
    {
      "cell_type": "code",
      "source": [
        "with open(\"data.txt\", \"w\") as file:\n",
        "    file.write(\"Hello, Python!\")\n"
      ],
      "metadata": {
        "id": "_fjMwJ-PTg42"
      },
      "execution_count": null,
      "outputs": []
    },
    {
      "cell_type": "markdown",
      "source": [
        "### **In short:**\n",
        "Closing a file frees resources, saves data, and prevents corruption, making it a good programming practice."
      ],
      "metadata": {
        "id": "DFBXDma9TjHP"
      }
    },
    {
      "cell_type": "markdown",
      "source": [
        "## Q20. What is the difference between file.read() and file.readline() in Python?"
      ],
      "metadata": {
        "id": "DFp5UZi1TsDH"
      }
    },
    {
      "cell_type": "markdown",
      "source": [
        "The difference between file.read() and file.readline() in Python lies in how much data they read from a file:"
      ],
      "metadata": {
        "id": "vUpgeNBxUDwW"
      }
    },
    {
      "cell_type": "markdown",
      "source": [
        "**file.read()**\n",
        "\n",
        "- Reads the entire content of the file (or a specified number of bytes).\n",
        "\n",
        "- Returns a string containing all data.\n",
        "\n",
        "- Can be memory-intensive for very large files.\n",
        "\n",
        "### **Example:**"
      ],
      "metadata": {
        "id": "4ZC-kZMMUKw-"
      }
    },
    {
      "cell_type": "code",
      "source": [
        "with open(\"data.txt\", \"r\") as file:\n",
        "    content = file.read()\n",
        "    print(content)\n"
      ],
      "metadata": {
        "id": "xH6CYjkhUR7v"
      },
      "execution_count": null,
      "outputs": []
    },
    {
      "cell_type": "markdown",
      "source": [
        "**file.readline()**\n",
        "\n",
        "- Reads one line at a time from the file.\n",
        "\n",
        "- Returns a string including the newline character \\n.\n",
        "\n",
        "- Useful for processing large files line by line.\n",
        "\n",
        "### **Example:**"
      ],
      "metadata": {
        "id": "Bw0JJfQ9UTpH"
      }
    },
    {
      "cell_type": "code",
      "source": [
        "with open(\"data.txt\", \"r\") as file:\n",
        "    line = file.readline()\n",
        "    while line:\n",
        "        print(line, end=\"\")\n",
        "        line = file.readline()\n"
      ],
      "metadata": {
        "id": "WctqcDxrUchv"
      },
      "execution_count": null,
      "outputs": []
    },
    {
      "cell_type": "markdown",
      "source": [
        "### **Summary**"
      ],
      "metadata": {
        "id": "YbRwM8h2UcIF"
      }
    },
    {
      "cell_type": "code",
      "source": [
        "| Method       | Reads                 | Use Case                                   |\n",
        "| ------------ | --------------------- | ------------------------------------------ |\n",
        "| `read()`     | Whole file or n bytes | Small files or when full content is needed |\n",
        "| `readline()` | One line at a time    | Large files or line-by-line processing     |\n"
      ],
      "metadata": {
        "id": "r2oK7oRQUlhP"
      },
      "execution_count": null,
      "outputs": []
    },
    {
      "cell_type": "markdown",
      "source": [
        "### **In short:**\n",
        "\n",
        "- read() → entire file at once\n",
        "\n",
        "- readline() → one line at a time"
      ],
      "metadata": {
        "id": "K0BHwLAtUnmv"
      }
    },
    {
      "cell_type": "markdown",
      "source": [
        "## Q21. What is the logging module in Python used for?"
      ],
      "metadata": {
        "id": "AxZiYf8wUuhG"
      }
    },
    {
      "cell_type": "markdown",
      "source": [
        "The logging module in Python is used for recording messages from a program to track its execution, errors, and important events."
      ],
      "metadata": {
        "id": "eWuRLYtGU1bu"
      }
    },
    {
      "cell_type": "markdown",
      "source": [
        "### **Purpose:**\n",
        "\n",
        "**1. Debugging:** Helps identify problems in code without using print statements.\n",
        "\n",
        "**2. Error Tracking:** Logs exceptions and warnings for analysis.\n",
        "\n",
        "**3. Monitoring:** Keeps a record of program activity in development or production.\n",
        "\n",
        "**4. Flexible Output:** Logs can be written to console, files, or external systems.\n",
        "\n",
        "**5. Severity Levels:** Supports different log levels (DEBUG, INFO, WARNING, ERROR, CRITICAL)."
      ],
      "metadata": {
        "id": "XB388VOVU6uG"
      }
    },
    {
      "cell_type": "markdown",
      "source": [
        "### **Example:**"
      ],
      "metadata": {
        "id": "f6jNYE1-VLPa"
      }
    },
    {
      "cell_type": "code",
      "source": [
        "import logging\n",
        "\n",
        "logging.basicConfig(level=logging.INFO)\n",
        "logging.info(\"Program started\")\n",
        "logging.warning(\"Low disk space\")\n",
        "logging.error(\"An error occurred\")\n"
      ],
      "metadata": {
        "id": "9wJ605exVOY2"
      },
      "execution_count": null,
      "outputs": []
    },
    {
      "cell_type": "markdown",
      "source": [
        "### **In short:**\n",
        "The logging module provides a structured, flexible, and persistent way to monitor and debug Python programs."
      ],
      "metadata": {
        "id": "1-QXIO7UVQLe"
      }
    },
    {
      "cell_type": "markdown",
      "source": [
        "## Q22. What is the os module in Python used for in file handling?"
      ],
      "metadata": {
        "id": "lcTTm7lhVTcI"
      }
    },
    {
      "cell_type": "markdown",
      "source": [
        "The os module in Python provides functions to interact with the operating system, and in file handling, it’s used to create, remove, and manipulate files and directories."
      ],
      "metadata": {
        "id": "0wqzHZDBVcbo"
      }
    },
    {
      "cell_type": "markdown",
      "source": [
        "### **Common Uses in File Handling:**\n",
        "\n",
        "**1. Check if a file or directory exists**"
      ],
      "metadata": {
        "id": "X9TncgbEVjSm"
      }
    },
    {
      "cell_type": "code",
      "source": [
        "import os\n",
        "print(os.path.exists(\"data.txt\"))\n"
      ],
      "metadata": {
        "id": "yzaoOQUSVr0A"
      },
      "execution_count": null,
      "outputs": []
    },
    {
      "cell_type": "markdown",
      "source": [
        "**2. Create or remove directories**"
      ],
      "metadata": {
        "id": "IL_jr04NVsmW"
      }
    },
    {
      "cell_type": "code",
      "source": [
        "os.mkdir(\"new_folder\")\n",
        "os.rmdir(\"new_folder\")\n"
      ],
      "metadata": {
        "id": "55mhYEKCVwVH"
      },
      "execution_count": null,
      "outputs": []
    },
    {
      "cell_type": "markdown",
      "source": [
        "**3. Delete files**"
      ],
      "metadata": {
        "id": "8xo1K_eVVyMW"
      }
    },
    {
      "cell_type": "code",
      "source": [
        "os.remove(\"data.txt\")\n"
      ],
      "metadata": {
        "id": "BzA3LG8uV10-"
      },
      "execution_count": null,
      "outputs": []
    },
    {
      "cell_type": "markdown",
      "source": [
        "**4. Get file or directory information**"
      ],
      "metadata": {
        "id": "VcHrD3WVV3x-"
      }
    },
    {
      "cell_type": "code",
      "source": [
        "print(os.path.abspath(\"data.txt\"))  # Full path\n",
        "print(os.path.basename(\"/path/to/data.txt\"))  # File name\n"
      ],
      "metadata": {
        "id": "KEddcb1fV78n"
      },
      "execution_count": null,
      "outputs": []
    },
    {
      "cell_type": "markdown",
      "source": [
        "**5. List files in a directory**"
      ],
      "metadata": {
        "id": "IPpfuuoaV-Fw"
      }
    },
    {
      "cell_type": "code",
      "source": [
        "print(os.listdir(\".\"))  # Current directory\n"
      ],
      "metadata": {
        "id": "0-tWzRKmWCif"
      },
      "execution_count": null,
      "outputs": []
    },
    {
      "cell_type": "markdown",
      "source": [
        "### **In short:**\n",
        "The os module is used to manage files and directories, access their properties, and perform OS-level file operations in Python."
      ],
      "metadata": {
        "id": "poEPR-xvWEQn"
      }
    },
    {
      "cell_type": "markdown",
      "source": [
        "## Q23. What are the challenges associated with memory management in Python?"
      ],
      "metadata": {
        "id": "9FMHiokTWMhe"
      }
    },
    {
      "cell_type": "markdown",
      "source": [
        "The challenges associated with memory management in Python arise mainly from its automatic handling of memory and the way Python objects are managed."
      ],
      "metadata": {
        "id": "Sx86pRiGWUTG"
      }
    },
    {
      "cell_type": "markdown",
      "source": [
        "### **Key Challenges:**\n",
        "\n",
        "**1. Memory Leaks due to Circular References**\n",
        "\n",
        "- Python uses reference counting, but objects referencing each other in a cycle may not be immediately freed.\n",
        "\n",
        "- The garbage collector handles cycles, but delays can cause temporary memory bloat.\n",
        "\n",
        "**2. High Memory Consumption**\n",
        "\n",
        "- Python objects (like integers, lists, and dictionaries) have additional overhead, leading to higher memory usage compared to lower-level languages like C.\n",
        "\n",
        "**3. Unpredictable Garbage Collection Timing**\n",
        "\n",
        "- Automatic garbage collection may not run immediately when memory is freed, which can lead to spikes in memory usage.\n",
        "\n",
        "**4. Managing Large Data Structures**\n",
        "\n",
        "- Handling very large datasets in memory can cause performance issues or even program crashes if memory is exhausted.\n",
        "\n",
        "**5. Reference Count Limitations**\n",
        "\n",
        "- Reference counting alone cannot handle circular references, and excessive reliance on automatic memory management may obscure resource leaks."
      ],
      "metadata": {
        "id": "_A88CgIkWaYX"
      }
    },
    {
      "cell_type": "markdown",
      "source": [
        "### **In short:**\n",
        "Python’s memory management simplifies programming but can face challenges like circular references, high memory overhead, and unpredictable garbage collection, especially in large or complex applications."
      ],
      "metadata": {
        "id": "43HulBkRW42_"
      }
    },
    {
      "cell_type": "markdown",
      "source": [
        "## Q24. How do you raise an exception manually in Python?"
      ],
      "metadata": {
        "id": "mKrOHB-2W9df"
      }
    },
    {
      "cell_type": "markdown",
      "source": [
        "In Python, you can raise an exception manually using the raise statement. This is useful when you want to signal that an error or unusual condition has occurred."
      ],
      "metadata": {
        "id": "N0e6Az2BXE6e"
      }
    },
    {
      "cell_type": "markdown",
      "source": [
        "### **Syntax:**"
      ],
      "metadata": {
        "id": "dHY5M6coXMDH"
      }
    },
    {
      "cell_type": "code",
      "source": [
        "raise ExceptionType(\"Error message\")\n"
      ],
      "metadata": {
        "id": "MrWEo8xVXObG"
      },
      "execution_count": null,
      "outputs": []
    },
    {
      "cell_type": "markdown",
      "source": [
        "- ExceptionType can be a built-in exception like ValueError, TypeError, or a custom exception.\n",
        "\n",
        "- The optional message describes the error."
      ],
      "metadata": {
        "id": "wXbghFbsXQm4"
      }
    },
    {
      "cell_type": "markdown",
      "source": [
        "### **Example with Built-in Exception:**"
      ],
      "metadata": {
        "id": "M-kAYaX5XU8v"
      }
    },
    {
      "cell_type": "code",
      "source": [
        "age = -1\n",
        "if age < 0:\n",
        "    raise ValueError(\"Age cannot be negative\")\n"
      ],
      "metadata": {
        "id": "j0NbYOE9XZIn"
      },
      "execution_count": null,
      "outputs": []
    },
    {
      "cell_type": "markdown",
      "source": [
        "**Output:**"
      ],
      "metadata": {
        "id": "PknfbSBLXapH"
      }
    },
    {
      "cell_type": "code",
      "source": [
        "ValueError: Age cannot be negative\n"
      ],
      "metadata": {
        "id": "SN0H7ttNXdIu"
      },
      "execution_count": null,
      "outputs": []
    },
    {
      "cell_type": "markdown",
      "source": [
        "### **Example with Custom Exception:**"
      ],
      "metadata": {
        "id": "rQeduF_fXfGn"
      }
    },
    {
      "cell_type": "code",
      "source": [
        "class MyError(Exception):\n",
        "    pass\n",
        "\n",
        "raise MyError(\"This is a custom error\")\n"
      ],
      "metadata": {
        "id": "ovFpO7EhXjtm"
      },
      "execution_count": null,
      "outputs": []
    },
    {
      "cell_type": "markdown",
      "source": [
        "### **In short:**\n",
        "Use raise to manually trigger an exception when a condition in your program requires it."
      ],
      "metadata": {
        "id": "7bvDbUgNXmQS"
      }
    },
    {
      "cell_type": "markdown",
      "source": [
        "## Q25. Why is it important to use multithreading in certain applications?"
      ],
      "metadata": {
        "id": "RcZDz0ALXqtJ"
      }
    },
    {
      "cell_type": "markdown",
      "source": [
        "Multithreading is important in certain applications because it allows a program to perform multiple tasks concurrently, improving efficiency and responsiveness."
      ],
      "metadata": {
        "id": "58rVKgs4X1bq"
      }
    },
    {
      "cell_type": "markdown",
      "source": [
        "### **Key Reasons to Use Multithreading:**\n",
        "\n",
        "**1. Improves Responsiveness**\n",
        "\n",
        "- In GUI or network applications, one thread can handle user interaction while another performs background tasks, preventing the program from freezing.\n",
        "\n",
        "**2. Efficient I/O Operations**\n",
        "\n",
        "- Threads can handle tasks like file reading/writing, network requests, or database access simultaneously, reducing wait times.\n",
        "\n",
        "**3. Better Resource Utilization**\n",
        "\n",
        "- Multiple threads share the same memory space, allowing lightweight concurrency without creating separate processes.\n",
        "\n",
        "**4. Simplifies Program Design**\n",
        "\n",
        "- Easier to design programs where tasks need to run in parallel but share data.\n",
        "\n",
        "**5. Faster Execution for I/O-Bound Tasks**\n",
        "\n",
        "- Multithreading can overlap I/O operations, making programs more efficient even if CPU-bound tasks are limited by Python’s GIL."
      ],
      "metadata": {
        "id": "36FbrsINX2aQ"
      }
    },
    {
      "cell_type": "markdown",
      "source": [
        "### **In short:**\n",
        "Multithreading is used to increase performance, responsiveness, and efficiency, especially in I/O-bound or interactive applications."
      ],
      "metadata": {
        "id": "WkNIhP-oYQpX"
      }
    },
    {
      "cell_type": "markdown",
      "source": [
        "# ***Files, exceptional handling, logging and memory management Practical Questions***"
      ],
      "metadata": {
        "id": "a1yJyZ9nYTZ_"
      }
    },
    {
      "cell_type": "markdown",
      "source": [
        "## Q1. How can you open a file for writing in Python and write a string to it?"
      ],
      "metadata": {
        "id": "ktHMKXbTYnPw"
      }
    },
    {
      "cell_type": "code",
      "source": [
        "# Open file for writing\n",
        "with open(\"example.txt\", \"w\") as file:\n",
        "    file.write(\"Hello, Python!\")\n",
        "\n",
        "# The file is automatically closed after the with block\n"
      ],
      "metadata": {
        "id": "kfrZ_NGnZyGI"
      },
      "execution_count": null,
      "outputs": []
    },
    {
      "cell_type": "markdown",
      "source": [
        "## Q2. Write a Python program to read the contents of a file and print each line?"
      ],
      "metadata": {
        "id": "8Vd7EmCyaWIw"
      }
    },
    {
      "cell_type": "code",
      "source": [
        "# Open the file in read mode\n",
        "with open(\"example.txt\", \"r\") as file:\n",
        "    # Read and print each line\n",
        "    for line in file:\n",
        "        print(line, end=\"\")\n"
      ],
      "metadata": {
        "id": "MG95HkReakvA"
      },
      "execution_count": null,
      "outputs": []
    },
    {
      "cell_type": "markdown",
      "source": [
        "## Q3. How would you handle a case where the file doesn't exist while trying to open it for reading?"
      ],
      "metadata": {
        "id": "WBAd0hvMa_vZ"
      }
    },
    {
      "cell_type": "code",
      "source": [
        "try:\n",
        "    with open(\"example.txt\", \"r\") as file:\n",
        "        for line in file:\n",
        "            print(line, end=\"\")\n",
        "except FileNotFoundError:\n",
        "    print(\"Error: The file does not exist.\")\n"
      ],
      "metadata": {
        "id": "ySQyyQldbPzY"
      },
      "execution_count": null,
      "outputs": []
    },
    {
      "cell_type": "markdown",
      "source": [
        "## Q4. Write a Python script that reads from one file and writes its content to another file?"
      ],
      "metadata": {
        "id": "fOM7i4q2bfJI"
      }
    },
    {
      "cell_type": "code",
      "source": [
        "# Specify the source and destination files\n",
        "source_file = \"source.txt\"\n",
        "destination_file = \"destination.txt\"\n",
        "\n",
        "try:\n",
        "    # Open the source file in read mode\n",
        "    with open(source_file, \"r\") as src:\n",
        "        content = src.read()\n",
        "\n",
        "    # Open the destination file in write mode and write the content\n",
        "    with open(destination_file, \"w\") as dest:\n",
        "        dest.write(content)\n",
        "\n",
        "    print(f\"Content copied from {source_file} to {destination_file} successfully.\")\n",
        "\n",
        "except FileNotFoundError:\n",
        "    print(f\"Error: The file {source_file} does not exist.\")\n"
      ],
      "metadata": {
        "id": "pWP26khwbqBJ"
      },
      "execution_count": null,
      "outputs": []
    },
    {
      "cell_type": "markdown",
      "source": [
        "## Q5. How would you catch and handle division by zero error in Python?"
      ],
      "metadata": {
        "id": "d8fLvJhCb016"
      }
    },
    {
      "cell_type": "code",
      "source": [
        "try:\n",
        "    numerator = 10\n",
        "    denominator = 0\n",
        "    result = numerator / denominator\n",
        "except ZeroDivisionError:\n",
        "    print(\"Error: Cannot divide by zero.\")\n",
        "else:\n",
        "    print(\"Result:\", result)\n"
      ],
      "metadata": {
        "id": "Yg8a_Qw3b8Ip"
      },
      "execution_count": null,
      "outputs": []
    },
    {
      "cell_type": "markdown",
      "source": [
        "## Q6. Write a Python program that logs an error message to a log file when a division by zero exception occurs."
      ],
      "metadata": {
        "id": "uq3emQuxcTeZ"
      }
    },
    {
      "cell_type": "code",
      "source": [
        "import logging\n",
        "\n",
        "# Configure logging to write to a file\n",
        "logging.basicConfig(\n",
        "    filename=\"error.log\",\n",
        "    level=logging.ERROR,\n",
        "    format=\"%(asctime)s - %(levelname)s - %(message)s\"\n",
        ")\n",
        "\n",
        "try:\n",
        "    numerator = 10\n",
        "    denominator = 0\n",
        "    result = numerator / denominator\n",
        "except ZeroDivisionError as e:\n",
        "    logging.error(f\"Division by zero error: {e}\")\n",
        "    print(\"An error occurred. Check error.log for details.\")\n",
        "else:\n",
        "    print(\"Result:\", result)\n"
      ],
      "metadata": {
        "id": "SFQyD0_GccuO"
      },
      "execution_count": null,
      "outputs": []
    },
    {
      "cell_type": "markdown",
      "source": [
        "**Output:**"
      ],
      "metadata": {
        "id": "iZIb5JQFcnFx"
      }
    },
    {
      "cell_type": "code",
      "source": [
        "Console: \"An error occurred. Check error.log for details.\"\n",
        "\n",
        "Log file (error.log) will contain a timestamped error message."
      ],
      "metadata": {
        "id": "cM6WCUvTcqKi"
      },
      "execution_count": null,
      "outputs": []
    },
    {
      "cell_type": "markdown",
      "source": [
        "## Q7. How do you log information at different levels (INFO, ERROR, WARNING) in Python using the logging module?"
      ],
      "metadata": {
        "id": "u_Rgh0Kwc61K"
      }
    },
    {
      "cell_type": "code",
      "source": [
        "import logging\n",
        "\n",
        "# Configure logging\n",
        "logging.basicConfig(\n",
        "    filename=\"app.log\",        # Log file\n",
        "    level=logging.DEBUG,        # Minimum level to log\n",
        "    format=\"%(asctime)s - %(levelname)s - %(message)s\"\n",
        ")\n",
        "\n",
        "# Logging messages at different levels\n",
        "logging.info(\"This is an informational message.\")\n",
        "logging.warning(\"This is a warning message.\")\n",
        "logging.error(\"This is an error message.\")\n"
      ],
      "metadata": {
        "id": "BzAn648RdaoM"
      },
      "execution_count": null,
      "outputs": []
    },
    {
      "cell_type": "markdown",
      "source": [
        "## Q8. Write a program to handle a file opening error using exception handling?"
      ],
      "metadata": {
        "id": "Gm_uHtIXdnZT"
      }
    },
    {
      "cell_type": "code",
      "source": [
        "try:\n",
        "    # Attempt to open a file for reading\n",
        "    with open(\"nonexistent_file.txt\", \"r\") as file:\n",
        "        content = file.read()\n",
        "        print(content)\n",
        "except FileNotFoundError:\n",
        "    print(\"Error: The file does not exist.\")\n",
        "except IOError:\n",
        "    print(\"Error: An I/O error occurred while opening the file.\")\n",
        "else:\n",
        "    print(\"File opened and read successfully.\")\n",
        "finally:\n",
        "    print(\"Program execution completed.\")\n"
      ],
      "metadata": {
        "id": "7KxMWy9zd38K"
      },
      "execution_count": null,
      "outputs": []
    },
    {
      "cell_type": "markdown",
      "source": [
        "## Q9. How can you read a file line by line and store its content in a list in Python?"
      ],
      "metadata": {
        "id": "iG0IXG8NeHiC"
      }
    },
    {
      "cell_type": "markdown",
      "source": [
        "**Using a for loop:**"
      ],
      "metadata": {
        "id": "3mm_qnLFeaIU"
      }
    },
    {
      "cell_type": "code",
      "source": [
        "lines = []\n",
        "\n",
        "with open(\"example.txt\", \"r\") as file:\n",
        "    for line in file:\n",
        "        lines.append(line.strip())  # strip() removes newline characters\n",
        "\n",
        "print(lines)\n"
      ],
      "metadata": {
        "id": "zU_0193seO0W"
      },
      "execution_count": null,
      "outputs": []
    },
    {
      "cell_type": "markdown",
      "source": [
        "**Using readlines():**"
      ],
      "metadata": {
        "id": "SYsZm0FNed46"
      }
    },
    {
      "cell_type": "code",
      "source": [
        "with open(\"example.txt\", \"r\") as file:\n",
        "    lines = [line.strip() for line in file.readlines()]\n",
        "\n",
        "print(lines)\n"
      ],
      "metadata": {
        "id": "EGsYFC8WehZr"
      },
      "execution_count": null,
      "outputs": []
    },
    {
      "cell_type": "markdown",
      "source": [
        "## Q10. How can you append data to an existing file in Python?"
      ],
      "metadata": {
        "id": "oiOcdWD3ekLy"
      }
    },
    {
      "cell_type": "code",
      "source": [
        "with open(\"example.txt\", \"a\") as file:\n",
        "    file.write(\"This line will be appended.\\n\")\n"
      ],
      "metadata": {
        "id": "YxVWYMV4eum7"
      },
      "execution_count": null,
      "outputs": []
    },
    {
      "cell_type": "markdown",
      "source": [
        "## Q11. Write a Python program that uses a try-except block to handle an error when attempting to access a dictionary key that doesn't exist."
      ],
      "metadata": {
        "id": "2svDMqRXe6fr"
      }
    },
    {
      "cell_type": "code",
      "source": [
        "# Sample dictionary\n",
        "data = {\"name\": \"Alice\", \"age\": 25}\n",
        "\n",
        "try:\n",
        "    # Attempt to access a key that may not exist\n",
        "    print(\"City:\", data[\"city\"])\n",
        "except KeyError:\n",
        "    print(\"Error: The key 'city' does not exist in the dictionary.\")\n",
        "else:\n",
        "    print(\"Key accessed successfully.\")\n"
      ],
      "metadata": {
        "id": "ZiIhblypfEur"
      },
      "execution_count": null,
      "outputs": []
    },
    {
      "cell_type": "markdown",
      "source": [
        "**Output:**"
      ],
      "metadata": {
        "id": "kNnZPx8_fSa7"
      }
    },
    {
      "cell_type": "code",
      "source": [
        "Error: The key 'city' does not exist in the dictionary.\n"
      ],
      "metadata": {
        "id": "QsT4de4UfVCz"
      },
      "execution_count": null,
      "outputs": []
    },
    {
      "cell_type": "markdown",
      "source": [
        "## Q12.  Write a program that demonstrates using multiple except blocks to handle different types of exceptions."
      ],
      "metadata": {
        "id": "gsMlq-d7fYp7"
      }
    },
    {
      "cell_type": "code",
      "source": [
        "try:\n",
        "    # Input from user\n",
        "    num1 = int(input(\"Enter first number: \"))\n",
        "    num2 = int(input(\"Enter second number: \"))\n",
        "\n",
        "    # Perform division\n",
        "    result = num1 / num2\n",
        "    print(\"Result:\", result)\n",
        "\n",
        "except ValueError:\n",
        "    print(\"Error: Please enter a valid integer.\")\n",
        "\n",
        "except ZeroDivisionError:\n",
        "    print(\"Error: Cannot divide by zero.\")\n",
        "\n",
        "except Exception as e:\n",
        "    print(f\"An unexpected error occurred: {e}\")\n",
        "\n",
        "else:\n",
        "    print(\"Division completed successfully.\")\n",
        "\n",
        "finally:\n",
        "    print(\"Program execution finished.\")\n"
      ],
      "metadata": {
        "id": "VCKKMy4xfg9b"
      },
      "execution_count": null,
      "outputs": []
    },
    {
      "cell_type": "markdown",
      "source": [
        "## Q13. How would you check if a file exists before attempting to read it in Python?"
      ],
      "metadata": {
        "id": "Qe9cjomZfvcD"
      }
    },
    {
      "cell_type": "markdown",
      "source": [
        "**Using os.path.exists():**"
      ],
      "metadata": {
        "id": "eIha44sRgKoz"
      }
    },
    {
      "cell_type": "code",
      "source": [
        "import os\n",
        "\n",
        "file_path = \"example.txt\"\n",
        "\n",
        "if os.path.exists(file_path):\n",
        "    with open(file_path, \"r\") as file:\n",
        "        content = file.read()\n",
        "        print(content)\n",
        "else:\n",
        "    print(f\"Error: The file '{file_path}' does not exist.\")\n"
      ],
      "metadata": {
        "id": "5KR27Izkf8U9"
      },
      "execution_count": null,
      "outputs": []
    },
    {
      "cell_type": "markdown",
      "source": [
        "**Using pathlib.Path.exists():**"
      ],
      "metadata": {
        "id": "fA77kG-fgOPU"
      }
    },
    {
      "cell_type": "code",
      "source": [
        "from pathlib import Path\n",
        "\n",
        "file_path = Path(\"example.txt\")\n",
        "\n",
        "if file_path.exists():\n",
        "    with open(file_path, \"r\") as file:\n",
        "        content = file.read()\n",
        "        print(content)\n",
        "else:\n",
        "    print(f\"Error: The file '{file_path}' does not exist.\")\n"
      ],
      "metadata": {
        "id": "0cWMwRvqgR0b"
      },
      "execution_count": null,
      "outputs": []
    },
    {
      "cell_type": "markdown",
      "source": [
        "## Q14. Write a program that uses the logging module to log both informational and error messages."
      ],
      "metadata": {
        "id": "HZxr-deKgUak"
      }
    },
    {
      "cell_type": "code",
      "source": [
        "import logging\n",
        "\n",
        "# Configure logging to write to a file with time, level, and message\n",
        "logging.basicConfig(\n",
        "    filename=\"app.log\",\n",
        "    level=logging.DEBUG,  # Logs all levels DEBUG and above\n",
        "    format=\"%(asctime)s - %(levelname)s - %(message)s\"\n",
        ")\n",
        "\n",
        "# Log an informational message\n",
        "logging.info(\"Program started successfully.\")\n",
        "\n",
        "try:\n",
        "    # Example operation\n",
        "    num1 = 10\n",
        "    num2 = 0\n",
        "    result = num1 / num2\n",
        "except ZeroDivisionError as e:\n",
        "    # Log an error message\n",
        "    logging.error(f\"Error occurred: {e}\")\n",
        "else:\n",
        "    logging.info(f\"Division result: {result}\")\n",
        "\n",
        "logging.info(\"Program finished.\")\n"
      ],
      "metadata": {
        "id": "2W9BC7N8goSl"
      },
      "execution_count": null,
      "outputs": []
    },
    {
      "cell_type": "markdown",
      "source": [
        "## Q15. Write a Python program that prints the content of a file and handles the case when the file is empty."
      ],
      "metadata": {
        "id": "aTwxZP9Egrk9"
      }
    },
    {
      "cell_type": "code",
      "source": [
        "file_path = \"example.txt\"\n",
        "\n",
        "try:\n",
        "    with open(file_path, \"r\") as file:\n",
        "        content = file.read()\n",
        "        if content:\n",
        "            print(\"File content:\")\n",
        "            print(content)\n",
        "        else:\n",
        "            print(\"The file is empty.\")\n",
        "except FileNotFoundError:\n",
        "    print(f\"Error: The file '{file_path}' does not exist.\")\n",
        "except IOError:\n",
        "    print(\"Error: An I/O error occurred while reading the file.\")\n"
      ],
      "metadata": {
        "id": "4m2VKrFNg0ws"
      },
      "execution_count": null,
      "outputs": []
    },
    {
      "cell_type": "markdown",
      "source": [
        "## Q16. Demonstrate how to use memory profiling to check the memory usage of a small program."
      ],
      "metadata": {
        "id": "Ns-_ouKLg9K0"
      }
    },
    {
      "cell_type": "markdown",
      "source": [
        "**Step 1: Install memory_profiler**"
      ],
      "metadata": {
        "id": "Od-5eiHVh7pc"
      }
    },
    {
      "cell_type": "code",
      "source": [
        "pip install memory-profiler\n"
      ],
      "metadata": {
        "id": "h-vsQUsghvpE"
      },
      "execution_count": null,
      "outputs": []
    },
    {
      "cell_type": "markdown",
      "source": [
        "**Step 2: Use the @profile decorator (or memory_usage function)**"
      ],
      "metadata": {
        "id": "pea5UtIIh_fE"
      }
    },
    {
      "cell_type": "code",
      "source": [
        "from memory_profiler import profile\n",
        "\n",
        "@profile\n",
        "def create_list():\n",
        "    my_list = []\n",
        "    for i in range(100000):\n",
        "        my_list.append(i)\n",
        "    return my_list\n",
        "\n",
        "if __name__ == \"__main__\":\n",
        "    create_list()\n"
      ],
      "metadata": {
        "id": "3tQfy4IkiDiU"
      },
      "execution_count": null,
      "outputs": []
    },
    {
      "cell_type": "markdown",
      "source": [
        "**Step 3: Run the program with memory profiling**"
      ],
      "metadata": {
        "id": "8oQH2KWSiGQr"
      }
    },
    {
      "cell_type": "code",
      "source": [
        "python -m memory_profiler your_script.py\n"
      ],
      "metadata": {
        "id": "BNQa_rYMiKMk"
      },
      "execution_count": null,
      "outputs": []
    },
    {
      "cell_type": "markdown",
      "source": [
        "### **Output Example:**"
      ],
      "metadata": {
        "id": "bpzyBvyTiMk1"
      }
    },
    {
      "cell_type": "code",
      "source": [
        "Line #    Mem usage    Increment   Line Contents\n",
        "================================================\n",
        "     4     14.5 MiB     0.0 MiB   @profile\n",
        "     5                             def create_list():\n",
        "     6     14.6 MiB     0.1 MiB       my_list = []\n",
        "     7     18.5 MiB     3.9 MiB       for i in range(100000):\n",
        "     8     18.5 MiB     0.0 MiB           my_list.append(i)\n",
        "     9     18.5 MiB     0.0 MiB       return my_list\n"
      ],
      "metadata": {
        "id": "xtI6LyJZiR6g"
      },
      "execution_count": null,
      "outputs": []
    },
    {
      "cell_type": "markdown",
      "source": [
        "## Q17. Write a Python program to create and write a list of numbers to a file, one number per line."
      ],
      "metadata": {
        "id": "kBFb5VWxiVf1"
      }
    },
    {
      "cell_type": "code",
      "source": [
        "# List of numbers\n",
        "numbers = [1, 2, 3, 4, 5, 6, 7, 8, 9, 10]\n",
        "\n",
        "# Open a file in write mode\n",
        "with open(\"numbers.txt\", \"w\") as file:\n",
        "    for number in numbers:\n",
        "        file.write(f\"{number}\\n\")  # Write each number on a new line\n",
        "\n",
        "print(\"Numbers have been written to numbers.txt\")\n"
      ],
      "metadata": {
        "id": "7--XiibjidGI"
      },
      "execution_count": null,
      "outputs": []
    },
    {
      "cell_type": "markdown",
      "source": [
        "## Q18. How would you implement a basic logging setup that logs to a file with rotation after 1MB?"
      ],
      "metadata": {
        "id": "klS-5vuyilf7"
      }
    },
    {
      "cell_type": "code",
      "source": [
        "import logging\n",
        "from logging.handlers import RotatingFileHandler\n",
        "\n",
        "# Create a logger\n",
        "logger = logging.getLogger(\"MyLogger\")\n",
        "logger.setLevel(logging.DEBUG)  # Minimum level to log\n",
        "\n",
        "# Create a rotating file handler (1 MB max, keep 3 backups)\n",
        "handler = RotatingFileHandler(\n",
        "    \"app.log\", maxBytes=1*1024*1024, backupCount=3\n",
        ")\n",
        "\n",
        "# Create a formatter and set it for the handler\n",
        "formatter = logging.Formatter(\"%(asctime)s - %(levelname)s - %(message)s\")\n",
        "handler.setFormatter(formatter)\n",
        "\n",
        "# Add handler to the logger\n",
        "logger.addHandler(handler)\n",
        "\n",
        "# Example log messages\n",
        "logger.info(\"Program started\")\n",
        "logger.warning(\"This is a warning\")\n",
        "logger.error(\"An error occurred\")\n"
      ],
      "metadata": {
        "id": "8RFJ5j5QitEO"
      },
      "execution_count": null,
      "outputs": []
    },
    {
      "cell_type": "markdown",
      "source": [
        "## Q19. Write a program that handles both IndexError and KeyError using a try-except block."
      ],
      "metadata": {
        "id": "wZbsun4ai2ZE"
      }
    },
    {
      "cell_type": "code",
      "source": [
        "# Sample list and dictionary\n",
        "my_list = [1, 2, 3]\n",
        "my_dict = {\"name\": \"Alice\", \"age\": 25}\n",
        "\n",
        "try:\n",
        "    # Attempt to access an invalid index\n",
        "    print(\"List element:\", my_list[5])\n",
        "\n",
        "    # Attempt to access a non-existent key\n",
        "    print(\"Dictionary value:\", my_dict[\"city\"])\n",
        "\n",
        "except IndexError:\n",
        "    print(\"Error: List index out of range.\")\n",
        "\n",
        "except KeyError:\n",
        "    print(\"Error: Dictionary key does not exist.\")\n",
        "\n",
        "else:\n",
        "    print(\"Accessed list and dictionary successfully.\")\n",
        "\n",
        "finally:\n",
        "    print(\"Program execution finished.\")\n"
      ],
      "metadata": {
        "id": "5EG-k382jC1z"
      },
      "execution_count": null,
      "outputs": []
    },
    {
      "cell_type": "markdown",
      "source": [
        "## Q20. How would you open a file and read its contents using a context manager in Python?"
      ],
      "metadata": {
        "id": "IPlZtQYnjKtV"
      }
    },
    {
      "cell_type": "code",
      "source": [
        "file_path = \"example.txt\"\n",
        "\n",
        "with open(file_path, \"r\") as file:\n",
        "    content = file.read()\n",
        "\n",
        "print(\"File content:\")\n",
        "print(content)\n"
      ],
      "metadata": {
        "id": "xjf5ra0fjS_L"
      },
      "execution_count": null,
      "outputs": []
    },
    {
      "cell_type": "markdown",
      "source": [
        "## Q21. Write a Python program that reads a file and prints the number of occurrences of a specific word."
      ],
      "metadata": {
        "id": "Y6oCbV6jjaBX"
      }
    },
    {
      "cell_type": "code",
      "source": [
        "file_path = \"example.txt\"\n",
        "word_to_count = \"Python\"\n",
        "\n",
        "try:\n",
        "    with open(file_path, \"r\") as file:\n",
        "        content = file.read()\n",
        "        # Convert to lowercase for case-insensitive counting\n",
        "        count = content.lower().count(word_to_count.lower())\n",
        "    print(f\"The word '{word_to_count}' appears {count} times in the file.\")\n",
        "\n",
        "except FileNotFoundError:\n",
        "    print(f\"Error: The file '{file_path}' does not exist.\")\n",
        "except IOError:\n",
        "    print(\"Error: An I/O error occurred while reading the file.\")\n"
      ],
      "metadata": {
        "id": "quUQI7RxjjKN"
      },
      "execution_count": null,
      "outputs": []
    },
    {
      "cell_type": "markdown",
      "source": [
        "## Q22. How can you check if a file is empty before attempting to read its contents?"
      ],
      "metadata": {
        "id": "VfqQBd_5jwys"
      }
    },
    {
      "cell_type": "markdown",
      "source": [
        "**Using os.path.getsize()**"
      ],
      "metadata": {
        "id": "r9PL1zfzkCEX"
      }
    },
    {
      "cell_type": "code",
      "source": [
        "import os\n",
        "\n",
        "file_path = \"example.txt\"\n",
        "\n",
        "if os.path.exists(file_path) and os.path.getsize(file_path) > 0:\n",
        "    with open(file_path, \"r\") as file:\n",
        "        content = file.read()\n",
        "        print(\"File content:\")\n",
        "        print(content)\n",
        "else:\n",
        "    print(\"The file is empty or does not exist.\")\n"
      ],
      "metadata": {
        "id": "3VCqX9Rqj4w0"
      },
      "execution_count": null,
      "outputs": []
    },
    {
      "cell_type": "markdown",
      "source": [
        "**Using read() or readline() (alternative)**"
      ],
      "metadata": {
        "id": "wG9dLjLTkG1E"
      }
    },
    {
      "cell_type": "code",
      "source": [
        "with open(\"example.txt\", \"r\") as file:\n",
        "    first_char = file.read(1)  # Read the first character\n",
        "    if not first_char:\n",
        "        print(\"The file is empty.\")\n",
        "    else:\n",
        "        file.seek(0)  # Go back to the beginning\n",
        "        content = file.read()\n",
        "        print(\"File content:\")\n",
        "        print(content)\n"
      ],
      "metadata": {
        "id": "zRJDRJ_JkKG8"
      },
      "execution_count": null,
      "outputs": []
    },
    {
      "cell_type": "markdown",
      "source": [
        "## Q23. Write a Python program that writes to a log file when an error occurs during file handling."
      ],
      "metadata": {
        "id": "hssLlj_UkMyP"
      }
    },
    {
      "cell_type": "code",
      "source": [
        "import logging\n",
        "\n",
        "# Configure logging to write to a file\n",
        "logging.basicConfig(\n",
        "    filename=\"file_errors.log\",\n",
        "    level=logging.ERROR,\n",
        "    format=\"%(asctime)s - %(levelname)s - %(message)s\"\n",
        ")\n",
        "\n",
        "file_path = \"nonexistent_file.txt\"\n",
        "\n",
        "try:\n",
        "    # Attempt to open and read the file\n",
        "    with open(file_path, \"r\") as file:\n",
        "        content = file.read()\n",
        "        print(content)\n",
        "\n",
        "except FileNotFoundError as e:\n",
        "    logging.error(f\"FileNotFoundError: {e}\")\n",
        "    print(\"Error: The file does not exist. Check the log for details.\")\n",
        "\n",
        "except IOError as e:\n",
        "    logging.error(f\"IOError: {e}\")\n",
        "    print(\"Error: An I/O error occurred. Check the log for details.\")\n",
        "\n",
        "else:\n",
        "    print(\"File read successfully.\")\n"
      ],
      "metadata": {
        "id": "KqoYyf-YkXJ5"
      },
      "execution_count": null,
      "outputs": []
    }
  ]
}