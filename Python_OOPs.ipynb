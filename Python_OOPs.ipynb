{
  "nbformat": 4,
  "nbformat_minor": 0,
  "metadata": {
    "colab": {
      "provenance": []
    },
    "kernelspec": {
      "name": "python3",
      "display_name": "Python 3"
    },
    "language_info": {
      "name": "python"
    }
  },
  "cells": [
    {
      "cell_type": "markdown",
      "source": [
        "# **Python OOPs Assignment Questions**\n",
        "# ***Python OOPs Theory Questions***  \n",
        "## Q1. What is Object-Oriented Programming (OOP)?\n",
        "\n"
      ],
      "metadata": {
        "id": "i5_Xt82Vy7TJ"
      }
    },
    {
      "cell_type": "markdown",
      "source": [
        "Object-Oriented Programming (OOP) is a programming paradigm (or style of programming) that organizes software design around objects — entities that combine data and behavior into a single unit.\n",
        "\n",
        "In simpler terms, OOP models real-world concepts as objects that have attributes (data) and methods (functions or behaviors).\n",
        "### **Core Concepts of OOP**"
      ],
      "metadata": {
        "id": "-rXNWnjF0IPI"
      }
    },
    {
      "cell_type": "markdown",
      "source": [
        "**1. Class**\n",
        "\n",
        "- A blueprint or template for creating objects.\n",
        "\n",
        "- Defines the properties (attributes) and behaviors (methods) that its objects will have.\n",
        "\n",
        "- Example:"
      ],
      "metadata": {
        "id": "PCyLVPjH0Vcg"
      }
    },
    {
      "cell_type": "code",
      "source": [
        "class Car:\n",
        "    def __init__(self, brand, color):\n",
        "        self.brand = brand\n",
        "        self.color = color\n",
        "\n",
        "    def drive(self):\n",
        "        print(f\"The {self.color} {self.brand} is driving.\")\n"
      ],
      "metadata": {
        "id": "roXtEyRQ0s_n"
      },
      "execution_count": null,
      "outputs": []
    },
    {
      "cell_type": "markdown",
      "source": [
        "**2. Object (Instance)**\n",
        "\n",
        "- An actual instance of a class.\n",
        "\n",
        "- Represents a specific entity with its own unique data.\n",
        "\n",
        "- Example:"
      ],
      "metadata": {
        "id": "MrsXO1t-0w_f"
      }
    },
    {
      "cell_type": "code",
      "source": [
        "my_car = Car(\"Toyota\", \"red\")\n",
        "my_car.drive()  # Output: The red Toyota is driving.\n"
      ],
      "metadata": {
        "id": "3G5K2mE507Jn"
      },
      "execution_count": null,
      "outputs": []
    },
    {
      "cell_type": "markdown",
      "source": [
        "**3. Encapsulation**\n",
        "\n",
        "- Hides internal object details and exposes only what’s necessary.\n",
        "\n",
        "- Protects data integrity by restricting direct access to object attributes.\n",
        "\n",
        "- Example: using private attributes (_balance) and getters/setters."
      ],
      "metadata": {
        "id": "e16DMWm11Ao3"
      }
    },
    {
      "cell_type": "markdown",
      "source": [
        "**4. Abstraction**\n",
        "\n",
        "- Simplifies complex systems by modeling only essential features.\n",
        "\n",
        "- Example: You use a car without needing to know how the engine works internally."
      ],
      "metadata": {
        "id": "mG5tvbmU1JQn"
      }
    },
    {
      "cell_type": "markdown",
      "source": [
        "**5. Inheritance**\n",
        "\n",
        "- Allows a class to inherit properties and methods from another class.\n",
        "\n",
        "- Promotes code reuse.\n",
        "\n",
        "- Example:"
      ],
      "metadata": {
        "id": "_iaB6WpW1X9_"
      }
    },
    {
      "cell_type": "code",
      "source": [
        "class ElectricCar(Car):\n",
        "    def charge(self):\n",
        "        print(\"Charging the electric car.\")\n"
      ],
      "metadata": {
        "id": "L7nOzmc31heP"
      },
      "execution_count": null,
      "outputs": []
    },
    {
      "cell_type": "markdown",
      "source": [
        "**6. Polymorphism**\n",
        "\n",
        "- Allows objects of different classes to be treated as objects of a common superclass.\n",
        "\n",
        "- Enables one interface to represent different underlying data types.\n",
        "\n",
        "- Example:"
      ],
      "metadata": {
        "id": "_Im5-ie71qbf"
      }
    },
    {
      "cell_type": "code",
      "source": [
        "def start(car):\n",
        "    car.drive()\n",
        "\n",
        "start(Car(\"Honda\", \"blue\"))\n",
        "start(ElectricCar(\"Tesla\", \"white\"))\n"
      ],
      "metadata": {
        "id": "qU81O-Xo1z6w"
      },
      "execution_count": null,
      "outputs": []
    },
    {
      "cell_type": "markdown",
      "source": [
        "## Q2. What is a class in OOP?\n",
        "In Object-Oriented Programming (OOP), a class is a blueprint or template used to create objects.\n",
        "\n",
        "It defines the structure (data) and behavior (functions) that the objects created from it will have."
      ],
      "metadata": {
        "id": "BZqgzR5t154Z"
      }
    },
    {
      "cell_type": "markdown",
      "source": [
        "### **Think of it like this:**\n",
        "\n",
        "A class is the recipe, and an object is the cake made from that recipe.\n",
        "You can use the same class to create multiple objects with different data, but all will share the same structure and behavior."
      ],
      "metadata": {
        "id": "k0PRjgn32Rsp"
      }
    },
    {
      "cell_type": "markdown",
      "source": [
        "### **Structure of a Class**\n",
        "\n",
        "A class typically contains:\n",
        "\n",
        "**1. Attributes (Data members) –** Variables that hold information about the object.\n",
        "\n",
        "**2. Methods (Functions) –** Actions or behaviors the object can perform."
      ],
      "metadata": {
        "id": "VSbN8Cnr2cm4"
      }
    },
    {
      "cell_type": "markdown",
      "source": [
        "### **Example (Python)**"
      ],
      "metadata": {
        "id": "NafWujCY2s-g"
      }
    },
    {
      "cell_type": "code",
      "source": [
        "class Car:\n",
        "    # Constructor (used to initialize object attributes)\n",
        "    def __init__(self, brand, color):\n",
        "        self.brand = brand    # attribute\n",
        "        self.color = color    # attribute\n",
        "\n",
        "    # Method (behavior)\n",
        "    def drive(self):\n",
        "        print(f\"The {self.color} {self.brand} is driving.\")\n"
      ],
      "metadata": {
        "id": "35N8Fuus21Ow"
      },
      "execution_count": null,
      "outputs": []
    },
    {
      "cell_type": "markdown",
      "source": [
        "Here:\n",
        "\n",
        "- Car is the class.\n",
        "\n",
        "- brand and color are attributes.\n",
        "\n",
        "- drive() is a method.\n",
        "\n",
        "- __init__() is a constructor that runs when you create an object."
      ],
      "metadata": {
        "id": "g7gTxqty24VH"
      }
    },
    {
      "cell_type": "markdown",
      "source": [
        "### **Creating Objects from a Class**"
      ],
      "metadata": {
        "id": "TJH4Cuz23IHn"
      }
    },
    {
      "cell_type": "code",
      "source": [
        "car1 = Car(\"Toyota\", \"red\")\n",
        "car2 = Car(\"Honda\", \"blue\")\n",
        "\n",
        "car1.drive()   # Output: The red Toyota is driving.\n",
        "car2.drive()   # Output: The blue Honda is driving.\n"
      ],
      "metadata": {
        "id": "10WSgvXU3PjH"
      },
      "execution_count": null,
      "outputs": []
    },
    {
      "cell_type": "markdown",
      "source": [
        "Each object (car1, car2) has its own set of data but shares the same structure and behavior defined in the Car class."
      ],
      "metadata": {
        "id": "zWkrEyhH3Qm4"
      }
    },
    {
      "cell_type": "markdown",
      "source": [
        "## Q3. What is an object in OOP?\n",
        "In Object-Oriented Programming (OOP), an object is an instance of a class — a concrete entity that combines data (attributes) and behavior (methods) defined by its class.\n",
        "\n",
        "Think of a class as a blueprint, and an object as a real-world example built from that blueprint."
      ],
      "metadata": {
        "id": "qAxuCAOM3Uww"
      }
    },
    {
      "cell_type": "markdown",
      "source": [
        "### **Example Analogy**\n",
        "\n",
        "- **Class:** A blueprint for building a house.\n",
        "\n",
        "- **Object:** The actual house built from that blueprint.\n",
        "\n",
        "You can build many houses (objects) from the same blueprint (class), each with its own color, size, or location — but all share the same structure."
      ],
      "metadata": {
        "id": "KT5ya9JN3qLg"
      }
    },
    {
      "cell_type": "markdown",
      "source": [
        "### **Example (Python)**"
      ],
      "metadata": {
        "id": "w-uqHyLF38UI"
      }
    },
    {
      "cell_type": "code",
      "source": [
        "class Car:\n",
        "    def __init__(self, brand, color):\n",
        "        self.brand = brand\n",
        "        self.color = color\n",
        "\n",
        "    def drive(self):\n",
        "        print(f\"The {self.color} {self.brand} is driving.\")\n"
      ],
      "metadata": {
        "id": "K8PkZXJs3_XZ"
      },
      "execution_count": null,
      "outputs": []
    },
    {
      "cell_type": "markdown",
      "source": [
        "Here:\n",
        "\n",
        "- Car is the **class.**\n",
        "\n",
        "- brand and color are **attributes.**\n",
        "\n",
        "- drive() is a **method.**"
      ],
      "metadata": {
        "id": "lOHw3YLo4FTg"
      }
    },
    {
      "cell_type": "markdown",
      "source": [
        "### **Creating Objects from the Class**\n"
      ],
      "metadata": {
        "id": "wOgaOtSy4V64"
      }
    },
    {
      "cell_type": "code",
      "source": [
        "car1 = Car(\"Toyota\", \"red\")\n",
        "car2 = Car(\"Honda\", \"blue\")\n",
        "\n",
        "car1.drive()   # Output: The red Toyota is driving.\n",
        "car2.drive()   # Output: The blue Honda is driving.\n"
      ],
      "metadata": {
        "id": "mUXL5U444c3x"
      },
      "execution_count": null,
      "outputs": []
    },
    {
      "cell_type": "markdown",
      "source": [
        "car1 and car2 are **objects** of the class Car.\n",
        "\n",
        "Each object has its own data (brand and color), but both share the same behavior (drive() method)."
      ],
      "metadata": {
        "id": "9ER1wR4l4eLY"
      }
    },
    {
      "cell_type": "markdown",
      "source": [
        "### **Key Characteristics of an Object**\n",
        "**1. Identity –** Each object is unique, even if it has the same data as another.\n",
        "\n",
        "**2. State –** The data stored in the object’s attributes.\n",
        "\n",
        "**3. Behavior –** The actions (methods) the object can perform."
      ],
      "metadata": {
        "id": "1bQoOy174oFA"
      }
    },
    {
      "cell_type": "markdown",
      "source": [
        "### **In simple terms:**\n",
        "A **class** defines the structure and behavior, while an **object** is the actual entity that holds real data and performs actions."
      ],
      "metadata": {
        "id": "wvhxG7uP44jo"
      }
    },
    {
      "cell_type": "markdown",
      "source": [
        "## Q4. What is the difference between abstraction and encapsulation?"
      ],
      "metadata": {
        "id": "K8gC8njo5LRD"
      }
    },
    {
      "cell_type": "markdown",
      "source": [
        "abstraction and encapsulation are two core concepts in Object-Oriented Programming (OOP) that often work together, but they serve different purposes."
      ],
      "metadata": {
        "id": "qhorAoBa5bnp"
      }
    },
    {
      "cell_type": "markdown",
      "source": [
        "### **1. Abstraction – “What to show”**\n",
        "**Definition:**\n",
        "\n",
        "Abstraction means hiding complex implementation details and showing only the essential features of an object.\n",
        "\n",
        "It focuses on simplifying complexity by modeling classes appropriate to the problem.\n",
        "\n",
        "**Goal:** To reduce complexity and make the code easier to understand and use.\n",
        "\n",
        "**Example:**\n",
        "When you drive a car, you just use the steering wheel and pedals — you don’t need to know how the engine or fuel system works internally."
      ],
      "metadata": {
        "id": "wpW50Z4D8G_a"
      }
    },
    {
      "cell_type": "code",
      "source": [
        "from abc import ABC, abstractmethod\n",
        "\n",
        "class Vehicle(ABC):        # Abstract class\n",
        "    @abstractmethod\n",
        "    def start_engine(self):\n",
        "        pass\n",
        "\n",
        "class Car(Vehicle):\n",
        "    def start_engine(self):\n",
        "        print(\"Engine started with a key.\")\n",
        "\n",
        "my_car = Car()\n",
        "my_car.start_engine()  # Output: Engine started with a key.\n"
      ],
      "metadata": {
        "id": "jOLek1iK8csj"
      },
      "execution_count": null,
      "outputs": []
    },
    {
      "cell_type": "markdown",
      "source": [
        "Here:\n",
        "\n",
        "- The abstract class (Vehicle) defines what should be done (start_engine()).\n",
        "\n",
        "- The subclass (Car) defines how it’s done.\n",
        "\n",
        "- Abstraction hides the internal mechanism and exposes only the necessary interface."
      ],
      "metadata": {
        "id": "bP-b6XJg8Zsi"
      }
    },
    {
      "cell_type": "markdown",
      "source": [
        "### **2. Encapsulation – “How to protect”**"
      ],
      "metadata": {
        "id": "yjrqm9JA8wuz"
      }
    },
    {
      "cell_type": "markdown",
      "source": [
        "**Definition:**\n",
        "\n",
        "Encapsulation is bundling data (attributes) and methods (functions) that operate on that data into a single unit (a class), and restricting direct access to some of the object’s components.\n",
        "\n",
        "It focuses on data protection and controlled access.\n",
        "\n",
        "**Goal:** To keep data safe from unauthorized access or accidental modification.\n",
        "\n",
        "**Example:**"
      ],
      "metadata": {
        "id": "nc0brexn80kC"
      }
    },
    {
      "cell_type": "code",
      "source": [
        "class BankAccount:\n",
        "    def __init__(self, balance):\n",
        "        self.__balance = balance   # Private attribute\n",
        "\n",
        "    def deposit(self, amount):\n",
        "        self.__balance += amount\n",
        "\n",
        "    def get_balance(self):\n",
        "        return self.__balance\n",
        "\n",
        "account = BankAccount(1000)\n",
        "account.deposit(500)\n",
        "print(account.get_balance())  # Output: 1500\n",
        "# print(account.__balance) ❌ Error – can't access private attribute directly\n"
      ],
      "metadata": {
        "id": "8o62R-7W9Bg6"
      },
      "execution_count": null,
      "outputs": []
    },
    {
      "cell_type": "markdown",
      "source": [
        "Here:\n",
        "\n",
        "- __balance is encapsulated — it cannot be accessed directly.\n",
        "\n",
        "- The class provides controlled access through methods (deposit(), get_balance()).\n",
        "\n",
        "- Encapsulation hides data, ensuring it’s modified only through defined methods."
      ],
      "metadata": {
        "id": "7UUQWYtS9E2K"
      }
    },
    {
      "cell_type": "markdown",
      "source": [
        "### **Key Difference Summary**"
      ],
      "metadata": {
        "id": "pC6iWLoz9U-a"
      }
    },
    {
      "cell_type": "code",
      "source": [
        "| Feature             | **Abstraction**                                                                 | **Encapsulation**                                       |\n",
        "| ------------------- | ------------------------------------------------------------------------------- | ------------------------------------------------------- |\n",
        "| **Focus**           | Hiding complexity                                                               | Protecting data                                         |\n",
        "| **Purpose**         | To show *only essential* details                                                | To *restrict access* to data                            |\n",
        "| **Level**           | Design level                                                                    | Implementation level                                    |\n",
        "| **Achieved by**     | Abstract classes and interfaces                                                 | Private variables and getter/setter methods             |\n",
        "| **Example analogy** | You know *what* a TV remote does (volume up/down) but not *how* it works inside | The remote’s internal circuits are hidden and protected |\n"
      ],
      "metadata": {
        "id": "iqu2U1jw9Yr7"
      },
      "execution_count": null,
      "outputs": []
    },
    {
      "cell_type": "markdown",
      "source": [
        "## Q5. What are dunder methods in Python?\n",
        "In Python, dunder methods (short for “double underscore methods”) — also known as magic methods or special methods — are built-in methods that begin and end with two underscores (like __init__, __str__, __add__, etc.).\n",
        "\n",
        "They allow you to customize how your objects behave with Python’s built-in operations such as printing, addition, comparison, and more."
      ],
      "metadata": {
        "id": "GLYuVKsn935z"
      }
    },
    {
      "cell_type": "markdown",
      "source": [
        "### **What “dunder” means**\n",
        "“**Dunder**” = Double UNDERscore.\n",
        "So:\n",
        "\n",
        "__init__ → pronounced “dunder init”\n",
        "\n",
        "__str__ → “dunder str”\n",
        "\n",
        "__add__ → “dunder add”"
      ],
      "metadata": {
        "id": "QUAeAANO-NUS"
      }
    },
    {
      "cell_type": "markdown",
      "source": [
        "### **Why Dunder Methods Exist**\n",
        "They let your custom classes integrate seamlessly with Python syntax.\n",
        "\n",
        "For example:\n",
        "\n",
        "- When you write print(obj), Python calls obj.__str__().\n",
        "\n",
        "- When you use len(obj), Python calls obj.__len__().\n",
        "\n",
        "- When you do obj1 + obj2, Python calls obj1.__add__(obj2)."
      ],
      "metadata": {
        "id": "UMkRbGsX-bbL"
      }
    },
    {
      "cell_type": "markdown",
      "source": [
        "### **Common Dunder Methods (with examples)**"
      ],
      "metadata": {
        "id": "f-KUmPCf-trC"
      }
    },
    {
      "cell_type": "code",
      "source": [
        "| **Method**         | **Purpose**                               | **Example**                      |\n",
        "| ------------------ | ----------------------------------------- | -------------------------------- |\n",
        "| `__init__`         | Object initializer (constructor)          | Called when creating an object   |\n",
        "| `__str__`          | String representation for `print()`       | Defines what `print(obj)` shows  |\n",
        "| `__repr__`         | Developer-friendly object representation  | Used in debugging or `repr(obj)` |\n",
        "| `__len__`          | Defines behavior for `len(obj)`           |                                  |\n",
        "| `__add__`          | Defines behavior for `obj1 + obj2`        |                                  |\n",
        "| `__eq__`           | Defines equality (`==`) behavior          |                                  |\n",
        "| `__lt__`, `__gt__` | Define `<` and `>` comparisons            |                                  |\n",
        "| `__getitem__`      | Enables `obj[key]` indexing               |                                  |\n",
        "| `__setitem__`      | Enables assigning with `obj[key] = value` |                                  |\n",
        "| `__call__`         | Makes an object callable like a function  |                                  |\n",
        "| `__del__`          | Defines behavior when object is deleted   |                                  |\n"
      ],
      "metadata": {
        "id": "Yy9PjjQt-yLb"
      },
      "execution_count": null,
      "outputs": []
    },
    {
      "cell_type": "markdown",
      "source": [
        "### **Example: Customizing a Class with Dunder Methods**"
      ],
      "metadata": {
        "id": "-CGm8Pwu-4ty"
      }
    },
    {
      "cell_type": "code",
      "source": [
        "class Book:\n",
        "    def __init__(self, title, pages):\n",
        "        self.title = title\n",
        "        self.pages = pages\n",
        "\n",
        "    def __str__(self):\n",
        "        return f\"{self.title} ({self.pages} pages)\"\n",
        "\n",
        "    def __len__(self):\n",
        "        return self.pages\n",
        "\n",
        "    def __add__(self, other):\n",
        "        return self.pages + other.pages\n",
        "\n",
        "book1 = Book(\"Python Basics\", 300)\n",
        "book2 = Book(\"OOP Concepts\", 250)\n",
        "\n",
        "print(book1)          # Calls __str__ → Python Basics (300 pages)\n",
        "print(len(book1))     # Calls __len__ → 300\n",
        "print(book1 + book2)  # Calls __add__ → 550\n"
      ],
      "metadata": {
        "id": "d6gE6B8K-7be"
      },
      "execution_count": null,
      "outputs": []
    },
    {
      "cell_type": "markdown",
      "source": [
        "Here, the dunder methods make your class behave like a native Python object."
      ],
      "metadata": {
        "id": "YTxZ_nJ2--fb"
      }
    },
    {
      "cell_type": "markdown",
      "source": [
        "### **Summary**"
      ],
      "metadata": {
        "id": "Uwe4vKmM_CJD"
      }
    },
    {
      "cell_type": "code",
      "source": [
        "| **Concept**   | **Explanation**                                             |\n",
        "| ------------- | ----------------------------------------------------------- |\n",
        "| **Name**      | “Dunder methods” = double underscore methods                |\n",
        "| **Purpose**   | Customize object behavior for built-in operations           |\n",
        "| **Examples**  | `__init__`, `__str__`, `__len__`, `__add__`, `__eq__`, etc. |\n",
        "| **Advantage** | Makes your classes feel natural and Pythonic                |\n"
      ],
      "metadata": {
        "id": "Jt3grUNo_HfU"
      },
      "execution_count": null,
      "outputs": []
    },
    {
      "cell_type": "markdown",
      "source": [
        "## Q6. Explain the concept of inheritance in OOP?\n",
        "Inheritance is one of the most powerful and essential concepts in Object-Oriented Programming (OOP)."
      ],
      "metadata": {
        "id": "eYdHa7Hv_LFb"
      }
    },
    {
      "cell_type": "markdown",
      "source": [
        "### **What Is Inheritance?**\n",
        "Inheritance is the mechanism that allows one class to acquire the properties (attributes) and behaviors (methods) of another class.\n",
        "\n",
        "In simple terms:\n",
        "\n",
        "It enables you to create a new class (child) that reuses and extends the functionality of an existing class (parent)."
      ],
      "metadata": {
        "id": "_bqCJGro_xPT"
      }
    },
    {
      "cell_type": "markdown",
      "source": [
        "### **Basic Idea**\n",
        "- **Parent class (Base / Superclass):** The existing class whose features are inherited.\n",
        "\n",
        "- **Child class (Derived / Subclass):** The new class that inherits from the parent."
      ],
      "metadata": {
        "id": "NzcNxJFs_4pN"
      }
    },
    {
      "cell_type": "markdown",
      "source": [
        "### **Example (Python)**"
      ],
      "metadata": {
        "id": "-Pa-JxSXAMCT"
      }
    },
    {
      "cell_type": "code",
      "source": [
        "# Parent class\n",
        "class Animal:\n",
        "    def speak(self):\n",
        "        print(\"Animals make sounds.\")\n",
        "\n",
        "# Child class\n",
        "class Dog(Animal):\n",
        "    def bark(self):\n",
        "        print(\"The dog barks.\")\n",
        "\n",
        "# Create objects\n",
        "dog = Dog()\n",
        "dog.speak()  # Inherited from Animal → \"Animals make sounds.\"\n",
        "dog.bark()   # Defined in Dog → \"The dog barks.\"\n"
      ],
      "metadata": {
        "id": "dVkOU5GeARlk"
      },
      "execution_count": null,
      "outputs": []
    },
    {
      "cell_type": "markdown",
      "source": [
        "✅ The Dog class **inherits** the speak() method from Animal,\n",
        "so you don’t have to rewrite it."
      ],
      "metadata": {
        "id": "cv9u1JlAAXqz"
      }
    },
    {
      "cell_type": "markdown",
      "source": [
        "### **Why Use Inheritance?**\n",
        "\n",
        "**Code Reusability →** Avoid duplicating common logic.\n",
        "\n",
        "**Extensibility →** Easily add or modify functionality in subclasses.\n",
        "\n",
        "**Organization →** Creates a clear hierarchy and structure."
      ],
      "metadata": {
        "id": "aqO4DN9kAbis"
      }
    },
    {
      "cell_type": "markdown",
      "source": [
        "### **Types of Inheritance (in Python)**"
      ],
      "metadata": {
        "id": "n21MXdTEA0DE"
      }
    },
    {
      "cell_type": "code",
      "source": [
        "| **Type**                     | **Description**                                  | **Example**                            |\n",
        "| ---------------------------- | ------------------------------------------------ | -------------------------------------- |\n",
        "| **Single Inheritance**       | One child class inherits from one parent class   | `class Dog(Animal)`                    |\n",
        "| **Multiple Inheritance**     | Child inherits from multiple parents             | `class Puppy(Dog, Pet)`                |\n",
        "| **Multilevel Inheritance**   | A class inherits from a child class (grandchild) | `class Puppy(Dog)` where `Dog(Animal)` |\n",
        "| **Hierarchical Inheritance** | Multiple child classes inherit from one parent   | `class Cat(Animal), class Dog(Animal)` |\n",
        "| **Hybrid Inheritance**       | Combination of multiple inheritance types        | Complex combinations                   |\n"
      ],
      "metadata": {
        "id": "gAbHv6qkBrmU"
      },
      "execution_count": null,
      "outputs": []
    },
    {
      "cell_type": "markdown",
      "source": [
        "### **Example: Multilevel Inheritance**"
      ],
      "metadata": {
        "id": "7N5OKYTQBu2l"
      }
    },
    {
      "cell_type": "code",
      "source": [
        "class Animal:\n",
        "    def eat(self):\n",
        "        print(\"This animal eats food.\")\n",
        "\n",
        "class Mammal(Animal):\n",
        "    def walk(self):\n",
        "        print(\"This mammal walks.\")\n",
        "\n",
        "class Dog(Mammal):\n",
        "    def bark(self):\n",
        "        print(\"The dog barks.\")\n",
        "\n",
        "dog = Dog()\n",
        "dog.eat()   # Inherited from Animal\n",
        "dog.walk()  # Inherited from Mammal\n",
        "dog.bark()  # Defined in Dog\n"
      ],
      "metadata": {
        "id": "qCZVwtDrBzWG"
      },
      "execution_count": null,
      "outputs": []
    },
    {
      "cell_type": "markdown",
      "source": [
        "### **Method Overriding**\n",
        "\n",
        "A child class can override (replace) a method of its parent class to change its behavior."
      ],
      "metadata": {
        "id": "-5WFgsrNB2Ll"
      }
    },
    {
      "cell_type": "code",
      "source": [
        "class Animal:\n",
        "    def speak(self):\n",
        "        print(\"Animals make sounds.\")\n",
        "\n",
        "class Dog(Animal):\n",
        "    def speak(self):  # Overriding\n",
        "        print(\"The dog barks.\")\n",
        "\n",
        "dog = Dog()\n",
        "dog.speak()  # Output: The dog barks.\n"
      ],
      "metadata": {
        "id": "L46Mpnt3B66t"
      },
      "execution_count": null,
      "outputs": []
    },
    {
      "cell_type": "markdown",
      "source": [
        "✅ This allows subclasses to customize or extend parent behavior."
      ],
      "metadata": {
        "id": "0QIWfEthB9qm"
      }
    },
    {
      "cell_type": "markdown",
      "source": [
        "### **Using super()**\n",
        "The super() function allows a child class to call methods from its parent class."
      ],
      "metadata": {
        "id": "vNlPwP57CAzc"
      }
    },
    {
      "cell_type": "code",
      "source": [
        "class Animal:\n",
        "    def __init__(self, species):\n",
        "        self.species = species\n",
        "\n",
        "class Dog(Animal):\n",
        "    def __init__(self, species, breed):\n",
        "        super().__init__(species)   # Call parent constructor\n",
        "        self.breed = breed\n",
        "\n",
        "dog = Dog(\"Canine\", \"Labrador\")\n",
        "print(dog.species)  # Output: Canine\n"
      ],
      "metadata": {
        "id": "Fp1w1BkiCII8"
      },
      "execution_count": null,
      "outputs": []
    },
    {
      "cell_type": "markdown",
      "source": [
        "### **Summary Table**"
      ],
      "metadata": {
        "id": "SjEHTU0DCKy8"
      }
    },
    {
      "cell_type": "code",
      "source": [
        "| **Concept**           | **Meaning**                                           |\n",
        "| --------------------- | ----------------------------------------------------- |\n",
        "| **Inheritance**       | Allows one class to use attributes/methods of another |\n",
        "| **Parent class**      | Class being inherited from                            |\n",
        "| **Child class**       | Class that inherits                                   |\n",
        "| **Method Overriding** | Redefining parent methods in the child                |\n",
        "| **super()**           | Calls methods from the parent class                   |\n",
        "| **Main Benefit**      | Reuse, extend, and organize code efficiently          |\n"
      ],
      "metadata": {
        "id": "aVQR8XVjCRdv"
      },
      "execution_count": null,
      "outputs": []
    },
    {
      "cell_type": "markdown",
      "source": [
        "## Q7. What is polymorphism in OOP?\n",
        "Polymorphism is one of the four core principles of Object-Oriented Programming (OOP) (alongside encapsulation, abstraction, and inheritance).\n",
        "### **What Is Polymorphism?**\n",
        "Polymorphism comes from Greek meaning “many forms.”\n",
        "In OOP, it means the same function, method, or operator can behave differently depending on the object it is acting upon.\n",
        "\n",
        "In short: Polymorphism allows one interface to be used for different data types."
      ],
      "metadata": {
        "id": "tqD2a2pOCXtN"
      }
    },
    {
      "cell_type": "markdown",
      "source": [
        "### **Example in Everyday Life**\n",
        "Think of the word “run.”\n",
        "\n",
        "- A person can run (move fast).\n",
        "\n",
        "- A computer program can run (execute).\n",
        "\n",
        "- A car engine can run (operate).\n",
        "\n",
        "Same action name → different behaviors depending on the object.\n",
        "That’s polymorphism."
      ],
      "metadata": {
        "id": "4yFVTaIsF5eV"
      }
    },
    {
      "cell_type": "markdown",
      "source": [
        "### **Types of Polymorphism**"
      ],
      "metadata": {
        "id": "57CRKXG8GEe-"
      }
    },
    {
      "cell_type": "code",
      "source": [
        "| **Type**                  | **Meaning**                                                       | **Example in Python**                    |\n",
        "| ------------------------- | ----------------------------------------------------------------- | ---------------------------------------- |\n",
        "| **Compile-time (Static)** | Same function name with different parameters (method overloading) | *Not directly supported in Python*       |\n",
        "| **Runtime (Dynamic)**     | Same method behaves differently based on the object calling it    | Supported via inheritance and overriding |\n"
      ],
      "metadata": {
        "id": "R9ICAzC5GIvO"
      },
      "execution_count": null,
      "outputs": []
    },
    {
      "cell_type": "markdown",
      "source": [
        "Python supports runtime polymorphism."
      ],
      "metadata": {
        "id": "bDFJEA4SGOzt"
      }
    },
    {
      "cell_type": "markdown",
      "source": [
        "### **Example 1: Polymorphism with Methods**"
      ],
      "metadata": {
        "id": "Mr3H_lK5GSiO"
      }
    },
    {
      "cell_type": "code",
      "source": [
        "class Dog:\n",
        "    def speak(self):\n",
        "        return \"Woof!\"\n",
        "\n",
        "class Cat:\n",
        "    def speak(self):\n",
        "        return \"Meow!\"\n",
        "\n",
        "# Function using polymorphism\n",
        "def animal_sound(animal):\n",
        "    print(animal.speak())\n",
        "\n",
        "dog = Dog()\n",
        "cat = Cat()\n",
        "\n",
        "animal_sound(dog)  # Output: Woof!\n",
        "animal_sound(cat)  # Output: Meow!\n"
      ],
      "metadata": {
        "id": "Smmu-HRhGVJW"
      },
      "execution_count": null,
      "outputs": []
    },
    {
      "cell_type": "markdown",
      "source": [
        "✅ Here, both Dog and Cat have a speak() method,\n",
        "but each performs a different action — same method name, different behavior."
      ],
      "metadata": {
        "id": "MeNEhslcGYLH"
      }
    },
    {
      "cell_type": "markdown",
      "source": [
        "### **Example 2: Polymorphism with Inheritance (Method Overriding)**"
      ],
      "metadata": {
        "id": "9MXFcuG2GbNH"
      }
    },
    {
      "cell_type": "code",
      "source": [
        "class Animal:\n",
        "    def speak(self):\n",
        "        print(\"Animals make sounds.\")\n",
        "\n",
        "class Dog(Animal):\n",
        "    def speak(self):  # Overriding parent method\n",
        "        print(\"The dog barks.\")\n",
        "\n",
        "class Cat(Animal):\n",
        "    def speak(self):\n",
        "        print(\"The cat meows.\")\n",
        "\n",
        "for animal in [Dog(), Cat(), Animal()]:\n",
        "    animal.speak()\n"
      ],
      "metadata": {
        "id": "b4AKCrkbGfrW"
      },
      "execution_count": null,
      "outputs": []
    },
    {
      "cell_type": "markdown",
      "source": [
        "✅ The same method name (speak) behaves differently depending on the object type."
      ],
      "metadata": {
        "id": "4DzJ5h5jGifA"
      }
    },
    {
      "cell_type": "markdown",
      "source": [
        "### **Example 3: Polymorphism with Built-in Functions**"
      ],
      "metadata": {
        "id": "zm-LqdmnGlZW"
      }
    },
    {
      "cell_type": "markdown",
      "source": [
        "Python’s built-in functions are also polymorphic!"
      ],
      "metadata": {
        "id": "oYhHeM3FGqCO"
      }
    },
    {
      "cell_type": "code",
      "source": [
        "print(len(\"Hello\"))    # Works on strings → 5\n",
        "print(len([1, 2, 3]))  # Works on lists → 3\n",
        "print(len({\"a\": 1}))   # Works on dictionaries → 1\n"
      ],
      "metadata": {
        "id": "K2SpqJIgGsLP"
      },
      "execution_count": null,
      "outputs": []
    },
    {
      "cell_type": "markdown",
      "source": [
        "✅ Same function (len) — different behavior based on the object’s type."
      ],
      "metadata": {
        "id": "VlRENiGeGuW2"
      }
    },
    {
      "cell_type": "markdown",
      "source": [
        "### **Operator Overloading (Another Form of Polymorphism)**"
      ],
      "metadata": {
        "id": "26qBMo0hGxFH"
      }
    },
    {
      "cell_type": "markdown",
      "source": [
        "Python allows dunder methods (like __add__, __mul__) to make operators behave differently for custom objects."
      ],
      "metadata": {
        "id": "TjZ8JXl0G1je"
      }
    },
    {
      "cell_type": "code",
      "source": [
        "class Book:\n",
        "    def __init__(self, pages):\n",
        "        self.pages = pages\n",
        "\n",
        "    def __add__(self, other):\n",
        "        return self.pages + other.pages\n",
        "\n",
        "b1 = Book(100)\n",
        "b2 = Book(150)\n",
        "print(b1 + b2)  # Output: 250\n"
      ],
      "metadata": {
        "id": "uj5n5g6KG41G"
      },
      "execution_count": null,
      "outputs": []
    },
    {
      "cell_type": "markdown",
      "source": [
        "✅ The + operator works differently for Book objects — that’s polymorphism in action."
      ],
      "metadata": {
        "id": "mWtqUcx7G-VG"
      }
    },
    {
      "cell_type": "markdown",
      "source": [
        "### **Summary**"
      ],
      "metadata": {
        "id": "aZ-gIBaeHCBh"
      }
    },
    {
      "cell_type": "code",
      "source": [
        "| **Aspect**      | **Description**                                                    |\n",
        "| --------------- | ------------------------------------------------------------------ |\n",
        "| **Meaning**     | “Many forms” — same interface, different behavior                  |\n",
        "| **Purpose**     | To write flexible and reusable code                                |\n",
        "| **Achieved by** | Method overriding, duck typing, operator overloading               |\n",
        "| **Example**     | Different classes having the same method name with different logic |\n"
      ],
      "metadata": {
        "id": "7Rehfro9HEUu"
      },
      "execution_count": null,
      "outputs": []
    },
    {
      "cell_type": "markdown",
      "source": [
        "## Q8. How is encapsulation achieved in Python?"
      ],
      "metadata": {
        "id": "a37Zzi5UHHmf"
      }
    },
    {
      "cell_type": "markdown",
      "source": [
        "### **What is Encapsulation?**\n",
        "Encapsulation means bundling data (attributes) and methods (functions) that operate on that data into a single unit — a class — and restricting direct access to that data from outside the class.\n",
        "\n",
        "In other words:\n",
        "\n",
        "Encapsulation is about protecting the internal state of an object and controlling how it’s accessed or modified.\n",
        "### **Why Use Encapsulation?**\n",
        "\n",
        "- ✅ To protect sensitive data from accidental or unauthorized modification\n",
        "\n",
        "- ✅ To control how data is accessed or changed\n",
        "\n",
        "- ✅ To make code modular and maintainable\n",
        "### **How Encapsulation is Achieved in Python**\n",
        "Python doesn’t have true private variables (like Java or C++),\n",
        "but it uses naming conventions and mechanisms to indicate the level of access.\n"
      ],
      "metadata": {
        "id": "i_hHFRW4HjHW"
      }
    },
    {
      "cell_type": "markdown",
      "source": [
        "**1. Public Members**\n",
        "\n",
        "Accessible from anywhere (inside or outside the class).\n",
        "These are the default in Python."
      ],
      "metadata": {
        "id": "awBh51UDH8NH"
      }
    },
    {
      "cell_type": "code",
      "source": [
        "class Car:\n",
        "    def __init__(self, brand):\n",
        "        self.brand = brand  # public attribute\n",
        "\n",
        "car = Car(\"Toyota\")\n",
        "print(car.brand)  # ✅ Accessible → \"Toyota\"\n"
      ],
      "metadata": {
        "id": "j8svo4uMIGBf"
      },
      "execution_count": null,
      "outputs": []
    },
    {
      "cell_type": "markdown",
      "source": [
        "**2. Protected Members (Convention)**\n",
        "\n",
        "Prefix with a single underscore (_).\n",
        "\n",
        "This indicates it’s for internal use only, though still accessible from outside (not strictly enforced)."
      ],
      "metadata": {
        "id": "tlHjl9RUIIDC"
      }
    },
    {
      "cell_type": "code",
      "source": [
        "class Car:\n",
        "    def __init__(self, brand):\n",
        "        self._brand = brand  # protected attribute\n",
        "\n",
        "car = Car(\"Honda\")\n",
        "print(car._brand)  # ⚠️ Technically accessible, but discouraged\n"
      ],
      "metadata": {
        "id": "Z1Nzse6FIQN2"
      },
      "execution_count": null,
      "outputs": []
    },
    {
      "cell_type": "markdown",
      "source": [
        "🔸 Conventionally, you shouldn’t access _brand directly — treat it as “protected”."
      ],
      "metadata": {
        "id": "wnwvlYKMITWv"
      }
    },
    {
      "cell_type": "markdown",
      "source": [
        "**3. Private Members**\n",
        "\n",
        "Prefix with two underscores (__).\n",
        "\n",
        "Python performs name mangling, which makes it harder (though not impossible) to access from outside the class."
      ],
      "metadata": {
        "id": "YoP17pMoIXD-"
      }
    },
    {
      "cell_type": "code",
      "source": [
        "class BankAccount:\n",
        "    def __init__(self, balance):\n",
        "        self.__balance = balance  # private attribute\n",
        "\n",
        "    def deposit(self, amount):\n",
        "        self.__balance += amount\n",
        "\n",
        "    def get_balance(self):\n",
        "        return self.__balance\n",
        "\n",
        "account = BankAccount(1000)\n",
        "account.deposit(500)\n",
        "print(account.get_balance())  # ✅ Output: 1500\n",
        "print(account.__balance)      # ❌ AttributeError\n"
      ],
      "metadata": {
        "id": "0fAtpHpnIgrv"
      },
      "execution_count": null,
      "outputs": []
    },
    {
      "cell_type": "markdown",
      "source": [
        "✅ Access is controlled through public methods (deposit() and get_balance()),\n",
        "not directly — this is true encapsulation."
      ],
      "metadata": {
        "id": "bp81-FxhIjs4"
      }
    },
    {
      "cell_type": "markdown",
      "source": [
        "**4. Accessing Private Members (Name Mangling)**\n",
        "\n",
        "Even private attributes can be accessed (not recommended) using Python’s name-mangling rule:"
      ],
      "metadata": {
        "id": "nSfPEPU-IpnQ"
      }
    },
    {
      "cell_type": "code",
      "source": [
        "print(account._BankAccount__balance)  # ⚠️ Works, but breaks encapsulation principles\n"
      ],
      "metadata": {
        "id": "gPBvOyb2Ir8A"
      },
      "execution_count": null,
      "outputs": []
    },
    {
      "cell_type": "markdown",
      "source": [
        "### **Encapsulation with Getters and Setters**\n",
        "\n",
        "To safely access and modify private data, you can use getter and setter methods — or better yet, properties."
      ],
      "metadata": {
        "id": "SDX9f75-Iw7g"
      }
    },
    {
      "cell_type": "code",
      "source": [
        "class Student:\n",
        "    def __init__(self, name, grade):\n",
        "        self.__name = name\n",
        "        self.__grade = grade\n",
        "\n",
        "    # Getter\n",
        "    def get_grade(self):\n",
        "        return self.__grade\n",
        "\n",
        "    # Setter\n",
        "    def set_grade(self, grade):\n",
        "        if 0 <= grade <= 100:\n",
        "            self.__grade = grade\n",
        "        else:\n",
        "            print(\"Invalid grade!\")\n",
        "\n",
        "s = Student(\"Alice\", 85)\n",
        "print(s.get_grade())  # ✅ 85\n",
        "s.set_grade(95)       # ✅ Valid update\n",
        "s.set_grade(150)      # ❌ Invalid grade!\n"
      ],
      "metadata": {
        "id": "93Gvh9SVI2Vv"
      },
      "execution_count": null,
      "outputs": []
    },
    {
      "cell_type": "markdown",
      "source": [
        "### **Using @property (Pythonic way)**\n",
        "A more elegant approach:"
      ],
      "metadata": {
        "id": "mF4c4Y_7I8Yg"
      }
    },
    {
      "cell_type": "code",
      "source": [
        "class Student:\n",
        "    def __init__(self, name, grade):\n",
        "        self.__name = name\n",
        "        self.__grade = grade\n",
        "\n",
        "    @property\n",
        "    def grade(self):\n",
        "        return self.__grade\n",
        "\n",
        "    @grade.setter\n",
        "    def grade(self, value):\n",
        "        if 0 <= value <= 100:\n",
        "            self.__grade = value\n",
        "        else:\n",
        "            print(\"Invalid grade!\")\n",
        "\n",
        "s = Student(\"Bob\", 88)\n",
        "print(s.grade)  # Calls getter\n",
        "s.grade = 92    # Calls setter\n",
        "s.grade = 150   # Invalid grade!\n"
      ],
      "metadata": {
        "id": "4QSPPlB8JEYn"
      },
      "execution_count": null,
      "outputs": []
    },
    {
      "cell_type": "markdown",
      "source": [
        "✅ @property makes your code clean and Pythonic while maintaining encapsulation.\n",
        "### **Summary**"
      ],
      "metadata": {
        "id": "k1znNACUJJcX"
      }
    },
    {
      "cell_type": "code",
      "source": [
        "| **Access Type** | **Prefix** | **Access Level**                       | **Example**   |\n",
        "| --------------- | ---------- | -------------------------------------- | ------------- |\n",
        "| **Public**      | None       | Fully accessible                       | `self.name`   |\n",
        "| **Protected**   | `_`        | Accessible, but discouraged externally | `self._name`  |\n",
        "| **Private**     | `__`       | Name-mangled, restricted access        | `self.__name` |\n"
      ],
      "metadata": {
        "id": "569Bp0p8JP7_"
      },
      "execution_count": null,
      "outputs": []
    },
    {
      "cell_type": "markdown",
      "source": [
        "## Q9. What is a constructor in Python?\n",
        "### **Constructor in Python**\n",
        "\n",
        "A constructor is a special method in a class that’s automatically called when an object is created.\n",
        "It’s used to initialize the object’s attributes.\n",
        "### **Defined as:**"
      ],
      "metadata": {
        "id": "7gNfgr6vJSYY"
      }
    },
    {
      "cell_type": "code",
      "source": [
        "class Car:\n",
        "    def __init__(self, brand, color):\n",
        "        self.brand = brand\n",
        "        self.color = color\n"
      ],
      "metadata": {
        "id": "YPiZM_kJKDhg"
      },
      "execution_count": null,
      "outputs": []
    },
    {
      "cell_type": "markdown",
      "source": [
        "When you create an object:"
      ],
      "metadata": {
        "id": "zclEtxB3KY1I"
      }
    },
    {
      "cell_type": "code",
      "source": [
        "car1 = Car(\"Toyota\", \"Red\")  # __init__() is called automatically\n"
      ],
      "metadata": {
        "id": "4_QqURZQKaBn"
      },
      "execution_count": null,
      "outputs": []
    },
    {
      "cell_type": "markdown",
      "source": [
        "### **Types**\n",
        "\n",
        "**1. Default constructor –** No parameters.\n",
        "\n",
        "**2. Parameterized constructor –** Takes parameters to set values."
      ],
      "metadata": {
        "id": "V7moKpq3Kb6K"
      }
    },
    {
      "cell_type": "markdown",
      "source": [
        "### **Key Points**\n",
        "- Method name: __init__()\n",
        "\n",
        "- Called automatically on object creation\n",
        "\n",
        "- Used to set initial values for attributes"
      ],
      "metadata": {
        "id": "TE7K_6Y4Kou_"
      }
    },
    {
      "cell_type": "markdown",
      "source": [
        "The __init__() method is Python’s constructor, used to initialize objects when they’re created."
      ],
      "metadata": {
        "id": "KqqS24mJK8Ng"
      }
    },
    {
      "cell_type": "markdown",
      "source": [
        "## Q10. What are class and static methods in Python?\n",
        "### **Class Methods**\n",
        "\n",
        "A class method is a method that works with the class itself, not individual instances.\n",
        "It can access or modify class variables, but cannot access instance variables.\n",
        "\n",
        "- **Decorator:** @classmethod\n",
        "\n",
        "- F**irst parameter:** cls (refers to the class, not the object)\n",
        "\n",
        "**Example:**"
      ],
      "metadata": {
        "id": "uHIwk0ZRLDkp"
      }
    },
    {
      "cell_type": "code",
      "source": [
        "class Student:\n",
        "    school = \"ABC High School\"  # class variable\n",
        "\n",
        "    @classmethod\n",
        "    def change_school(cls, new_school):\n",
        "        cls.school = new_school\n",
        "\n",
        "Student.change_school(\"XYZ Academy\")\n",
        "print(Student.school)  # Output: XYZ Academy\n"
      ],
      "metadata": {
        "id": "rGtAXPsTLlSh"
      },
      "execution_count": null,
      "outputs": []
    },
    {
      "cell_type": "markdown",
      "source": [
        "✅ Use class methods when you need to modify class-level data or create factory methods."
      ],
      "metadata": {
        "id": "E_edeYfGLpZI"
      }
    },
    {
      "cell_type": "markdown",
      "source": [
        "### **Static Methods**\n",
        "\n",
        "A static method is a method that does not access instance or class variables.\n",
        "It’s just a function inside a class.\n",
        "\n",
        "- **Decorator:** @staticmethod\n",
        "\n",
        "- No self or cls parameter`\n",
        "\n",
        "**Example:**"
      ],
      "metadata": {
        "id": "7moedUU_Lq9B"
      }
    },
    {
      "cell_type": "code",
      "source": [
        "class Math:\n",
        "    @staticmethod\n",
        "    def add(a, b):\n",
        "        return a + b\n",
        "\n",
        "print(Math.add(5, 3))  # Output: 8\n"
      ],
      "metadata": {
        "id": "WLubZa1wL6AI"
      },
      "execution_count": null,
      "outputs": []
    },
    {
      "cell_type": "markdown",
      "source": [
        "✅ Use static methods for utility functions that are logically related to the class but don’t need class or instance data."
      ],
      "metadata": {
        "id": "6pMNQH__MFD4"
      }
    },
    {
      "cell_type": "markdown",
      "source": [
        "### **Key Differences**"
      ],
      "metadata": {
        "id": "hsmOH7rfMJ44"
      }
    },
    {
      "cell_type": "code",
      "source": [
        "| Feature       | Class Method                  | Static Method            |\n",
        "| ------------- | ----------------------------- | ------------------------ |\n",
        "| Access        | Class (`cls`)                 | None                     |\n",
        "| Instance data | ❌                             | ❌                        |\n",
        "| Class data    | ✅                             | ❌                        |\n",
        "| Decorator     | `@classmethod`                | `@staticmethod`          |\n",
        "| Typical Use   | Modify class, factory methods | Utility/helper functions |\n"
      ],
      "metadata": {
        "id": "8mGI60_iMM84"
      },
      "execution_count": null,
      "outputs": []
    },
    {
      "cell_type": "markdown",
      "source": [
        "## Q11. What is method overloading in Python?\n",
        "### **Method Overloading in Python**\n",
        "Method overloading is a feature where two or more methods in the same class have the same name but different parameters (number or type).\n",
        "\n",
        "It allows you to perform different tasks based on the arguments passed.\n",
        "### **Important Note in Python**\n",
        "- Python does not support traditional method overloading like Java or C++.\n",
        "\n",
        "- If you define multiple methods with the same name, the last definition overrides the previous ones.\n",
        "\n",
        "✅ Workarounds:\n",
        "\n",
        "1. Using default parameters\n",
        "\n",
        "2. Using *args or **kwargs"
      ],
      "metadata": {
        "id": "vY0on4pcMQvx"
      }
    },
    {
      "cell_type": "markdown",
      "source": [
        "### **Example Using Default Parameters**"
      ],
      "metadata": {
        "id": "bWnxtTsqO1KD"
      }
    },
    {
      "cell_type": "code",
      "source": [
        "class Math:\n",
        "    def add(self, a, b=0, c=0):\n",
        "        return a + b + c\n",
        "\n",
        "m = Math()\n",
        "print(m.add(5))        # 5\n",
        "print(m.add(5, 10))    # 15\n",
        "print(m.add(5, 10, 15))# 30\n"
      ],
      "metadata": {
        "id": "PxAvTo4qO5q6"
      },
      "execution_count": null,
      "outputs": []
    },
    {
      "cell_type": "markdown",
      "source": [
        "Here, the same method add() works with different numbers of arguments."
      ],
      "metadata": {
        "id": "j3sDT3dQO6tb"
      }
    },
    {
      "cell_type": "markdown",
      "source": [
        "### **Example Using args**"
      ],
      "metadata": {
        "id": "1WjmWBpSPCjq"
      }
    },
    {
      "cell_type": "code",
      "source": [
        "class Math:\n",
        "    def add(self, *args):\n",
        "        return sum(args)\n",
        "\n",
        "m = Math()\n",
        "print(m.add(5))           # 5\n",
        "print(m.add(5, 10))       # 15\n",
        "print(m.add(5, 10, 15))   # 30\n"
      ],
      "metadata": {
        "id": "LRw6-FhMPhyU"
      },
      "execution_count": null,
      "outputs": []
    },
    {
      "cell_type": "markdown",
      "source": [
        "✅ This is a Pythonic way to achieve method overloading."
      ],
      "metadata": {
        "id": "0S9gy912Pk_z"
      }
    },
    {
      "cell_type": "markdown",
      "source": [
        "### **Key Points**\n",
        "\n",
        "- Traditional overloading based on different parameter types is not supported in Python.\n",
        "\n",
        "- Use default arguments or *args/**kwargs for flexible methods.\n",
        "\n",
        "- Overloading allows a method to handle multiple scenarios with a single name."
      ],
      "metadata": {
        "id": "Qq_zPH6hP2KO"
      }
    },
    {
      "cell_type": "markdown",
      "source": [
        "## Q12. What is method overriding in OOP?\n",
        "### **Method Overriding in OOP**\n",
        "Method overriding occurs when a child class provides its own implementation of a method that is already defined in its parent class.\n",
        "\n",
        "- The child class method has the same name, parameters, and signature as the parent class method.\n",
        "\n",
        "- It allows the child class to change or extend the behavior of the parent method."
      ],
      "metadata": {
        "id": "YmaHE4RIQDfp"
      }
    },
    {
      "cell_type": "markdown",
      "source": [
        "### **Example in Python**"
      ],
      "metadata": {
        "id": "_b4CtKpaQhra"
      }
    },
    {
      "cell_type": "code",
      "source": [
        "class Animal:\n",
        "    def speak(self):\n",
        "        print(\"Animal makes a sound.\")\n",
        "\n",
        "class Dog(Animal):\n",
        "    def speak(self):  # Overriding parent method\n",
        "        print(\"Dog barks.\")\n",
        "\n",
        "a = Animal()\n",
        "a.speak()  # Output: Animal makes a sound.\n",
        "\n",
        "d = Dog()\n",
        "d.speak()  # Output: Dog barks.\n"
      ],
      "metadata": {
        "id": "SXWVv-a_QkYq"
      },
      "execution_count": null,
      "outputs": []
    },
    {
      "cell_type": "markdown",
      "source": [
        "✅ Here, the Dog class overrides the speak() method of Animal."
      ],
      "metadata": {
        "id": "WVNHVI-vQmZ7"
      }
    },
    {
      "cell_type": "markdown",
      "source": [
        "### **Using super() in Overriding**\n",
        "\n",
        "Sometimes, you want to extend the parent method instead of completely replacing it:"
      ],
      "metadata": {
        "id": "bHXnwfEpQqvL"
      }
    },
    {
      "cell_type": "code",
      "source": [
        "class Dog(Animal):\n",
        "    def speak(self):\n",
        "        super().speak()  # Call parent method\n",
        "        print(\"Dog barks.\")  # Add extra behavior\n",
        "\n",
        "d = Dog()\n",
        "d.speak()\n",
        "# Output:\n",
        "# Animal makes a sound.\n",
        "# Dog barks.\n"
      ],
      "metadata": {
        "id": "Y4cPSDqIQ0al"
      },
      "execution_count": null,
      "outputs": []
    },
    {
      "cell_type": "markdown",
      "source": [
        "### **Key Points**"
      ],
      "metadata": {
        "id": "NK2Rp0q-Q1qT"
      }
    },
    {
      "cell_type": "markdown",
      "source": [
        "- Overriding happens in inheritance.\n",
        "\n",
        "- Method name, parameters, and signature must match.\n",
        "\n",
        "- It enables runtime polymorphism — behavior changes depending on the object type."
      ],
      "metadata": {
        "id": "kTzKD6sIQ6ir"
      }
    },
    {
      "cell_type": "markdown",
      "source": [
        "## Q13. What is a property decorator in Python?\n",
        "### **Property Decorator in Python**\n",
        "The @property decorator allows you to access a method like an attribute.\n",
        "It’s used to create “getter” methods in a Pythonic and clean way, without explicitly calling the method.\n",
        "### **Why Use @property?**\n",
        "\n",
        "- Access private attributes safely\n",
        "\n",
        "- Add logic when getting a value\n",
        "\n",
        "- Avoid direct attribute access (obj.attribute)\n",
        "\n",
        "- Keep code clean and readable"
      ],
      "metadata": {
        "id": "rFIjeInnRDOy"
      }
    },
    {
      "cell_type": "markdown",
      "source": [
        "### **Example: Basic Property**"
      ],
      "metadata": {
        "id": "I7GiSdIpRuyL"
      }
    },
    {
      "cell_type": "code",
      "source": [
        "class Student:\n",
        "    def __init__(self, name, grade):\n",
        "        self.__name = name       # private attribute\n",
        "        self.__grade = grade\n",
        "\n",
        "    @property\n",
        "    def grade(self):\n",
        "        return self.__grade\n",
        "\n",
        "s = Student(\"Alice\", 90)\n",
        "print(s.grade)  # Access like an attribute → 90\n"
      ],
      "metadata": {
        "id": "vApNn5IGR0ST"
      },
      "execution_count": null,
      "outputs": []
    },
    {
      "cell_type": "markdown",
      "source": [
        "✅ Here, s.grade calls the grade() method internally, but you use it like a normal attribute.\n",
        "### **Adding a Setter**\n",
        "\n"
      ],
      "metadata": {
        "id": "J5oqxxV2R1Ni"
      }
    },
    {
      "cell_type": "code",
      "source": [
        "\n",
        "You can also update the attribute safely using @<property_name>.setter:"
      ],
      "metadata": {
        "id": "I9D2TrQASJzS"
      },
      "execution_count": null,
      "outputs": []
    },
    {
      "cell_type": "code",
      "source": [
        "class Student:\n",
        "    def __init__(self, name, grade):\n",
        "        self.__name = name\n",
        "        self.__grade = grade\n",
        "\n",
        "    @property\n",
        "    def grade(self):\n",
        "        return self.__grade\n",
        "\n",
        "    @grade.setter\n",
        "    def grade(self, value):\n",
        "        if 0 <= value <= 100:\n",
        "            self.__grade = value\n",
        "        else:\n",
        "            print(\"Invalid grade!\")\n",
        "\n",
        "s = Student(\"Bob\", 85)\n",
        "s.grade = 95        # ✅ updates grade\n",
        "s.grade = 150       # ❌ Invalid grade!\n",
        "print(s.grade)      # 95\n"
      ],
      "metadata": {
        "id": "XN3ZYjDRSN5F"
      },
      "execution_count": null,
      "outputs": []
    },
    {
      "cell_type": "markdown",
      "source": [
        "### **Key Points**"
      ],
      "metadata": {
        "id": "O_HMPdz7SZg8"
      }
    },
    {
      "cell_type": "code",
      "source": [
        "@property → getter method (access like an attribute)\n",
        "\n",
        "@<property>.setter → setter method (modify safely)\n",
        "\n",
        "Useful for encapsulation and controlled access"
      ],
      "metadata": {
        "id": "BrHiJu9JSgQC"
      },
      "execution_count": null,
      "outputs": []
    },
    {
      "cell_type": "markdown",
      "source": [
        "## Q14. Why is polymorphism important in OOP?\n"
      ],
      "metadata": {
        "id": "dHmCNI-hWVQr"
      }
    },
    {
      "cell_type": "markdown",
      "source": [
        "Polymorphism is a fundamental concept in Object-Oriented Programming (OOP), and it’s important because it allows objects of different classes to be treated through a common interface, enabling flexibility, extensibility, and maintainability in code. Let me break it down clearly:"
      ],
      "metadata": {
        "id": "04nEbubdaHK1"
      }
    },
    {
      "cell_type": "markdown",
      "source": [
        "### **1. Definition of Polymorphism**\n",
        "\n",
        "Polymorphism means \"many forms.\" In OOP, it allows the same method or operation to behave differently depending on the object that is calling it.\n",
        "\n",
        "There are two main types:\n",
        "\n",
        "**1. Compile-time (or static) polymorphism –** Achieved through method overloading or operator overloading.\n",
        "\n",
        "**2. Run-time (or dynamic) polymorphism –** Achieved through method overriding using inheritance and interfaces."
      ],
      "metadata": {
        "id": "Tru3ROVBaKje"
      }
    },
    {
      "cell_type": "markdown",
      "source": [
        "### **2. Why It’s Important**\n",
        "\n",
        "**1. Code Reusability**\n",
        "\n",
        "- You can write general code that works with objects of multiple types.\n",
        "\n",
        "- Example: A draw() method can be called on any Shape object (circle, rectangle, triangle) without knowing the exact type.\n",
        "\n",
        "**2. Flexibility & Extensibility**\n",
        "\n",
        "- Adding new classes doesn’t require changing existing code that uses polymorphic methods.\n",
        "\n",
        "- Example: Adding a new Triangle class with its own draw() doesn’t require modifying code that already works with Shape objects.\n",
        "\n",
        "**3. Maintainability**\n",
        "\n",
        "- Reduces duplication and makes the system easier to maintain.\n",
        "\n",
        "- Changes in one class don’t affect code that uses the polymorphic interface.\n",
        "\n",
        "**4. Interface-Based Design**\n",
        "\n",
        "- Polymorphism encourages programming to an interface, not an implementation, which is a core principle of clean OOP design.\n",
        "\n",
        "**5. Runtime Decision Making**\n",
        "\n",
        "- Dynamic polymorphism allows the program to decide at runtime which method implementation to execute based on the actual object type.\n"
      ],
      "metadata": {
        "id": "eUXC733WanHs"
      }
    },
    {
      "cell_type": "markdown",
      "source": [
        "### **Example in Python**"
      ],
      "metadata": {
        "id": "gCWPiP0CbqR1"
      }
    },
    {
      "cell_type": "code",
      "source": [
        "class Animal:\n",
        "    def speak(self):\n",
        "        pass\n",
        "\n",
        "class Dog(Animal):\n",
        "    def speak(self):\n",
        "        return \"Woof!\"\n",
        "\n",
        "class Cat(Animal):\n",
        "    def speak(self):\n",
        "        return \"Meow!\"\n",
        "\n",
        "animals = [Dog(), Cat()]\n",
        "\n",
        "for animal in animals:\n",
        "    print(animal.speak())  # Output: Woof! Meow!\n"
      ],
      "metadata": {
        "id": "ZVuKwQrRbnAt"
      },
      "execution_count": null,
      "outputs": []
    },
    {
      "cell_type": "markdown",
      "source": [
        "- Here, the same speak() method behaves differently depending on whether the object is a Dog or a Cat. That’s polymorphism in action."
      ],
      "metadata": {
        "id": "m67min0ObwX1"
      }
    },
    {
      "cell_type": "markdown",
      "source": [
        "✅ **In short:** Polymorphism makes OOP code more general, flexible, and easier to extend, letting you write code that works with different object types seamlessly."
      ],
      "metadata": {
        "id": "t8EkogT8b6oM"
      }
    },
    {
      "cell_type": "markdown",
      "source": [
        "## Q15. What is an abstract class in Python?\n"
      ],
      "metadata": {
        "id": "JvdQQWFzcAeN"
      }
    },
    {
      "cell_type": "markdown",
      "source": [
        "An abstract class in Python is a class that cannot be instantiated directly and is meant to serve as a blueprint for other classes. It can define abstract methods that must be implemented by its subclasses. Abstract classes are a key concept in object-oriented programming (OOP) for enforcing a common interface across different classes."
      ],
      "metadata": {
        "id": "kaxzPcBBhPnf"
      }
    },
    {
      "cell_type": "markdown",
      "source": [
        "### **1. Key Points**\n",
        "\n",
        "- Defined using the abc module (ABC = Abstract Base Class).\n",
        "\n",
        "- Can contain abstract methods (methods without implementation) and concrete methods (normal methods with implementation).\n",
        "\n",
        "- A subclass must implement all abstract methods; otherwise, it cannot be instantiated.\n",
        "\n",
        "- Helps achieve polymorphism and consistent interfaces across different subclasses."
      ],
      "metadata": {
        "id": "olsXe9Y1hUln"
      }
    },
    {
      "cell_type": "markdown",
      "source": [
        "### **2. How to Define an Abstract Class**"
      ],
      "metadata": {
        "id": "oPQjGEpQhlkn"
      }
    },
    {
      "cell_type": "code",
      "source": [
        "from abc import ABC, abstractmethod\n",
        "\n",
        "class Vehicle(ABC):\n",
        "    @abstractmethod\n",
        "    def start_engine(self):\n",
        "        pass  # abstract method, no implementation\n",
        "\n",
        "    def stop_engine(self):\n",
        "        print(\"Engine stopped\")  # concrete method\n"
      ],
      "metadata": {
        "id": "i_2Ve1dYhp-H"
      },
      "execution_count": null,
      "outputs": []
    },
    {
      "cell_type": "markdown",
      "source": [
        "### **3. Implementing a Subclass**"
      ],
      "metadata": {
        "id": "WhnD8pE0hvYa"
      }
    },
    {
      "cell_type": "code",
      "source": [
        "class Car(Vehicle):\n",
        "    def start_engine(self):\n",
        "        print(\"Car engine started\")\n",
        "\n",
        "class Bike(Vehicle):\n",
        "    def start_engine(self):\n",
        "        print(\"Bike engine started\")\n",
        "\n",
        "# vehicle = Vehicle()  # ❌ This will raise an error\n",
        "car = Car()             # ✅ Works\n",
        "car.start_engine()      # Output: Car engine started\n",
        "car.stop_engine()       # Output: Engine stopped\n"
      ],
      "metadata": {
        "id": "SVySIbjeh0Qv"
      },
      "execution_count": null,
      "outputs": []
    },
    {
      "cell_type": "markdown",
      "source": [
        "- Trying to instantiate Vehicle directly raises a TypeError because it has abstract methods.\n",
        "\n",
        "- Subclasses must implement all abstract methods to be instantiable."
      ],
      "metadata": {
        "id": "bqHvLELuh5In"
      }
    },
    {
      "cell_type": "markdown",
      "source": [
        "### **4. Why Use Abstract Classes**"
      ],
      "metadata": {
        "id": "9WyJuWiFh__4"
      }
    },
    {
      "cell_type": "markdown",
      "source": [
        "**1. Enforce a contract:** All subclasses must implement specific methods.\n",
        "\n",
        "**2. Polymorphism:** Code can work with the abstract type without knowing the concrete subclass.\n",
        "\n",
        "**3. Code clarity and design:** Clearly separates common behavior from specific behavior.\n",
        "\n",
        "**4.** **Prevent direct instantiation** of classes that are not complete on their own."
      ],
      "metadata": {
        "id": "D_qacm5hiEMv"
      }
    },
    {
      "cell_type": "markdown",
      "source": [
        "✅ **In short:**\n",
        "\n",
        "An abstract class is a template for other classes. It can’t be instantiated, but it defines the interface that subclasses must follow, ensuring consistent behavior in a polymorphic design."
      ],
      "metadata": {
        "id": "i7w82PP4ieKv"
      }
    },
    {
      "cell_type": "markdown",
      "source": [
        "## Q16. What are the advantages of OOP?\n",
        "Object-Oriented Programming (OOP) offers several advantages over procedural programming because it models real-world entities as objects, making code more modular, reusable, and maintainable. Here’s a detailed breakdown:"
      ],
      "metadata": {
        "id": "502i4KgdiiSP"
      }
    },
    {
      "cell_type": "markdown",
      "source": [
        "**1. Modularity**\n",
        "\n",
        "- Code is organized into classes and objects, each representing a distinct part of the program.\n",
        "\n",
        "- Each class has its own data and methods, making it easier to manage and debug.\n",
        "\n",
        "- Example: A Car class contains everything related to a car (engine, wheels, start/stop methods)."
      ],
      "metadata": {
        "id": "d9BlIyenjOLo"
      }
    },
    {
      "cell_type": "markdown",
      "source": [
        "**2. Reusability**\n",
        "\n",
        "- Classes can be reused in other programs or extended through inheritance.\n",
        "\n",
        "- Reduces code duplication and development time.\n",
        "\n",
        "- Example: A Vehicle class can be inherited by Car, Bike, and Truck."
      ],
      "metadata": {
        "id": "MSiaiOOBjgOX"
      }
    },
    {
      "cell_type": "markdown",
      "source": [
        "**3. Encapsulation**\n",
        "\n",
        "- Hides internal details of an object from the outside world.\n",
        "\n",
        "- Only exposes necessary methods to interact with the object.\n",
        "\n",
        "- Helps prevent accidental interference with internal data.\n",
        "\n",
        "- Example: A BankAccount class can have private balance (__balance) and public methods like deposit() and withdraw()."
      ],
      "metadata": {
        "id": "rPO-KEcEjoPX"
      }
    },
    {
      "cell_type": "markdown",
      "source": [
        "**4. Polymorphism**\n",
        "\n",
        "- Objects of different classes can be treated through a common interface.\n",
        "\n",
        "- Makes code flexible and extensible.\n",
        "\n",
        "- Example: A draw() method can work for Circle, Rectangle, and Triangle objects without knowing their exact type."
      ],
      "metadata": {
        "id": "8w2OaP_6lZM5"
      }
    },
    {
      "cell_type": "markdown",
      "source": [
        "**5. Inheritance**\n",
        "\n",
        "- Enables new classes to reuse, extend, and modify behavior of existing classes.\n",
        "\n",
        "- Encourages a hierarchical class structure.\n",
        "\n",
        "- Example: Car inherits from Vehicle and adds specific features like air_conditioning."
      ],
      "metadata": {
        "id": "Gu5tUCSzlqL4"
      }
    },
    {
      "cell_type": "markdown",
      "source": [
        "**6. Maintainability**\n",
        "\n",
        "- OOP code is structured and modular, making it easier to update or modify without affecting other parts.\n",
        "\n",
        "- Bugs are easier to isolate because each object manages its own state and behavior."
      ],
      "metadata": {
        "id": "KV1fKXeJlzSj"
      }
    },
    {
      "cell_type": "markdown",
      "source": [
        "**7. Real-World Modeling**\n",
        "\n",
        "- Objects can represent real-world entities, making code intuitive and closer to human thinking.\n",
        "\n",
        "- Example: In a game, Player, Enemy, and Weapon can all be objects with their own attributes and behaviors."
      ],
      "metadata": {
        "id": "R-gqshLjl765"
      }
    },
    {
      "cell_type": "markdown",
      "source": [
        "**8. Extensibility**\n",
        "\n",
        "- New features can be added easily without changing existing code, especially using inheritance and polymorphism.\n",
        "\n",
        "- Example: Adding a Truck class that inherits from Vehicle doesn’t require rewriting the Vehicle class."
      ],
      "metadata": {
        "id": "ODwhkbPRmMmB"
      }
    },
    {
      "cell_type": "markdown",
      "source": [
        "## Q17. What is the difference between a class variable and an instance variable?\n",
        "In Python, class variables and instance variables are both used to store data in a class, but they differ in scope, sharing, and how they are accessed. Let’s break it down carefully:"
      ],
      "metadata": {
        "id": "kh14g0eNmY9j"
      }
    },
    {
      "cell_type": "markdown",
      "source": [
        "### **1. Class Variable**\n",
        "\n",
        "- **Definition:** A variable that is shared by all instances of a class.\n",
        "\n",
        "- **Scope:** Belongs to the class itself, not to any particular object.\n",
        "\n",
        "- **Access:** Can be accessed using ClassName.variable or self.variable (though the latter can be overridden by instance variables).\n",
        "\n",
        "- **Use case:** Store data that should be common to all objects of the class."
      ],
      "metadata": {
        "id": "EDFiYQoqnEQL"
      }
    },
    {
      "cell_type": "code",
      "source": [
        "class Dog:\n",
        "    species = \"Canine\"  # class variable\n",
        "\n",
        "dog1 = Dog()\n",
        "dog2 = Dog()\n",
        "\n",
        "print(dog1.species)  # Canine\n",
        "print(dog2.species)  # Canine\n",
        "\n",
        "Dog.species = \"Dog\"\n",
        "print(dog1.species)  # Dog\n",
        "print(dog2.species)  # Dog\n"
      ],
      "metadata": {
        "id": "_5GTr9PJncTB"
      },
      "execution_count": null,
      "outputs": []
    },
    {
      "cell_type": "markdown",
      "source": [
        "✅ **Key point:** Changing the class variable affects all instances unless an instance variable with the same name overrides it."
      ],
      "metadata": {
        "id": "Vio79_mZnaGJ"
      }
    },
    {
      "cell_type": "markdown",
      "source": [
        "### **2. Instance Variable**\n",
        "\n",
        "- **Definition:** A variable that is unique to each instance of a class.\n",
        "\n",
        "- **Scope:** Belongs to a particular object.\n",
        "\n",
        "- **Access:** Defined inside __init__() or other instance methods using self.variable.\n",
        "\n",
        "- **Use case:** Store data that is specific to each object."
      ],
      "metadata": {
        "id": "csjGpcUhnfxh"
      }
    },
    {
      "cell_type": "code",
      "source": [
        "class Dog:\n",
        "    def __init__(self, name):\n",
        "        self.name = name  # instance variable\n",
        "\n",
        "dog1 = Dog(\"Buddy\")\n",
        "dog2 = Dog(\"Charlie\")\n",
        "\n",
        "print(dog1.name)  # Buddy\n",
        "print(dog2.name)  # Charlie\n"
      ],
      "metadata": {
        "id": "8Pn44Mk1n0cD"
      },
      "execution_count": null,
      "outputs": []
    },
    {
      "cell_type": "markdown",
      "source": [
        "✅ **Key point:** Changing an instance variable affects only that object, not other instances."
      ],
      "metadata": {
        "id": "dv4zpblJnyKa"
      }
    },
    {
      "cell_type": "markdown",
      "source": [
        "### **3. Quick Comparison Table**"
      ],
      "metadata": {
        "id": "-LOBn6lqn4O7"
      }
    },
    {
      "cell_type": "code",
      "source": [
        "| Feature                | Class Variable                | Instance Variable                       |\n",
        "| ---------------------- | ----------------------------- | --------------------------------------- |\n",
        "| Scope                  | Shared by all instances       | Unique to each instance                 |\n",
        "| Defined in             | Inside class, outside methods | Inside `__init__()` or instance methods |\n",
        "| Access                 | `ClassName.var` or `self.var` | `self.var`                              |\n",
        "| Shared across objects? | Yes                           | No                                      |\n",
        "| Use case               | Common data for all objects   | Object-specific data                    |\n"
      ],
      "metadata": {
        "id": "8oDYeVzFoCJC"
      },
      "execution_count": null,
      "outputs": []
    },
    {
      "cell_type": "markdown",
      "source": [
        "### **4. Example with Both**"
      ],
      "metadata": {
        "id": "yROWxdO5oDSk"
      }
    },
    {
      "cell_type": "code",
      "source": [
        "class Dog:\n",
        "    species = \"Canine\"  # class variable\n",
        "\n",
        "    def __init__(self, name):\n",
        "        self.name = name  # instance variable\n",
        "\n",
        "dog1 = Dog(\"Buddy\")\n",
        "dog2 = Dog(\"Charlie\")\n",
        "\n",
        "print(dog1.name, dog1.species)  # Buddy Canine\n",
        "print(dog2.name, dog2.species)  # Charlie Canine\n"
      ],
      "metadata": {
        "id": "TB846sxwoHQT"
      },
      "execution_count": null,
      "outputs": []
    },
    {
      "cell_type": "markdown",
      "source": [
        "- **species** is shared by both dogs.\n",
        "\n",
        "- **name** is unique to each dog."
      ],
      "metadata": {
        "id": "EHUzF9CyoKmM"
      }
    },
    {
      "cell_type": "markdown",
      "source": [
        "## Q18. What is multiple inheritance in Python?\n",
        "Multiple inheritance in Python is a feature where a class can inherit from more than one parent class. This allows a subclass to combine behaviors and attributes from multiple classes, enabling greater code reuse and flexibility.\n"
      ],
      "metadata": {
        "id": "1PzBf9ceoUUF"
      }
    },
    {
      "cell_type": "markdown",
      "source": [
        "### **1. Key Points**\n",
        "\n",
        "- A class can inherit from two or more classes.\n",
        "\n",
        "- The subclass gets all methods and attributes of the parent classes.\n",
        "\n",
        "- Python uses the Method Resolution Order (MRO) to determine which parent method to call if multiple parents have methods with the same name.\n",
        "\n",
        "- Can lead to diamond problem, but Python handles it with the C3 linearization algorithm."
      ],
      "metadata": {
        "id": "5eztrHRdoy16"
      }
    },
    {
      "cell_type": "markdown",
      "source": [
        "### **2. Syntax**"
      ],
      "metadata": {
        "id": "uFtDF-q7o9Kr"
      }
    },
    {
      "cell_type": "code",
      "source": [
        "class Parent1:\n",
        "    def func1(self):\n",
        "        print(\"Function from Parent1\")\n",
        "\n",
        "class Parent2:\n",
        "    def func2(self):\n",
        "        print(\"Function from Parent2\")\n",
        "\n",
        "class Child(Parent1, Parent2):\n",
        "    def func3(self):\n",
        "        print(\"Function from Child\")\n",
        "\n",
        "c = Child()\n",
        "c.func1()  # Function from Parent1\n",
        "c.func2()  # Function from Parent2\n",
        "c.func3()  # Function from Child\n"
      ],
      "metadata": {
        "id": "3Q0HWQnao_oj"
      },
      "execution_count": null,
      "outputs": []
    },
    {
      "cell_type": "markdown",
      "source": [
        "- Child inherits from both Parent1 and Parent2.\n",
        "\n",
        "- The child object c can access methods from both parents."
      ],
      "metadata": {
        "id": "55k1XsZcpCrk"
      }
    },
    {
      "cell_type": "markdown",
      "source": [
        "### **3. Method Resolution Order (MRO)**\n",
        "\n",
        "If both parents have a method with the same name, Python uses MRO to decide which method to execute:"
      ],
      "metadata": {
        "id": "reGYPl_wpLm7"
      }
    },
    {
      "cell_type": "code",
      "source": [
        "class A:\n",
        "    def show(self):\n",
        "        print(\"A's show\")\n",
        "\n",
        "class B:\n",
        "    def show(self):\n",
        "        print(\"B's show\")\n",
        "\n",
        "class C(A, B):\n",
        "    pass\n",
        "\n",
        "obj = C()\n",
        "obj.show()  # Output: A's show\n"
      ],
      "metadata": {
        "id": "fxvGDvqKpN2r"
      },
      "execution_count": null,
      "outputs": []
    },
    {
      "cell_type": "code",
      "source": [
        "Python checks C → A → B → object to find the method.\n",
        "\n",
        "You can see MRO using C.__mro__ or help(C)."
      ],
      "metadata": {
        "id": "ukp10ocBpTXD"
      },
      "execution_count": null,
      "outputs": []
    },
    {
      "cell_type": "markdown",
      "source": [
        "### **4. Advantages**\n",
        "\n",
        "**1. Code Reusability:** Combine functionality from multiple classes.\n",
        "\n",
        "**2.Flexibility:** Subclass can inherit the best features from different parents.\n",
        "\n",
        "**3.Polymorphism Support:** Methods from different classes can be overridden and used interchangeably."
      ],
      "metadata": {
        "id": "I_qMS_6CpQAC"
      }
    },
    {
      "cell_type": "markdown",
      "source": [
        "### **5. Caution**\n",
        "\n",
        "- Multiple inheritance can make code complex and harder to maintain.\n",
        "\n",
        "- Conflicts may occur if parent classes have methods or attributes with the same name.\n",
        "\n",
        "- Use MRO understanding to avoid unexpected behaviors."
      ],
      "metadata": {
        "id": "NUfpZojqpnXU"
      }
    },
    {
      "cell_type": "markdown",
      "source": [
        "## Q19. Explain the purpose of ‘’__str__’ and ‘__repr__’ ‘ methods in Python."
      ],
      "metadata": {
        "id": "f9fVrOieqGob"
      }
    },
    {
      "cell_type": "markdown",
      "source": [
        "In Python, __str__ and __repr__ are dunder (double underscore) methods used to define string representations of objects, but they serve different purposes. Let’s break it down carefully:"
      ],
      "metadata": {
        "id": "a9fOjvVNqNX8"
      }
    },
    {
      "cell_type": "markdown",
      "source": [
        "### **1. __str__**\n",
        "\n",
        "- **Purpose:** Provides a user-friendly, readable string representation of an object.\n",
        "\n",
        "- **Used by:** print() and str() functions.\n",
        "\n",
        "- **Goal:** To be informative for humans, not necessarily unambiguous.\n",
        "\n",
        "- **Return value:** Should return a string."
      ],
      "metadata": {
        "id": "HwduoHSjqklt"
      }
    },
    {
      "cell_type": "code",
      "source": [
        "class Point:\n",
        "    def __init__(self, x, y):\n",
        "        self.x = x\n",
        "        self.y = y\n",
        "\n",
        "    def __str__(self):\n",
        "        return f\"Point at ({self.x}, {self.y})\"\n",
        "\n",
        "p = Point(2, 3)\n",
        "print(p)        # Output: Point at (2, 3)\n",
        "print(str(p))   # Output: Point at (2, 3)\n"
      ],
      "metadata": {
        "id": "3L_6AP-pq37r"
      },
      "execution_count": null,
      "outputs": []
    },
    {
      "cell_type": "markdown",
      "source": [
        "### **2. __repr__**\n",
        "\n",
        "**Purpose:** Provides an unambiguous string representation of an object, ideally one that could be used to recreate the object.\n",
        "\n",
        "**Used by:** Interactive interpreter, repr() function, and sometimes debugging.\n",
        "\n",
        "**Goal:** To be developer-friendly and precise.\n",
        "\n",
        "**Return value:** Should return a string, preferably valid Python code."
      ],
      "metadata": {
        "id": "kKs5wxrgq1a0"
      }
    },
    {
      "cell_type": "code",
      "source": [
        "class Point:\n",
        "    def __init__(self, x, y):\n",
        "        self.x = x\n",
        "        self.y = y\n",
        "\n",
        "    def __repr__(self):\n",
        "        return f\"Point({self.x}, {self.y})\"\n",
        "\n",
        "p = Point(2, 3)\n",
        "print(repr(p))  # Output: Point(2, 3)\n"
      ],
      "metadata": {
        "id": "ecrKRdI9rD2a"
      },
      "execution_count": null,
      "outputs": []
    },
    {
      "cell_type": "markdown",
      "source": [
        "- In the Python interactive shell, typing p automatically calls __repr__."
      ],
      "metadata": {
        "id": "9FDR6BzCrGbj"
      }
    },
    {
      "cell_type": "markdown",
      "source": [
        "### **3. Key Differences**"
      ],
      "metadata": {
        "id": "lqFq1QV7rLvk"
      }
    },
    {
      "cell_type": "code",
      "source": [
        "| Feature           | `__str__`                                        | `__repr__`                       |\n",
        "| ----------------- | ------------------------------------------------ | -------------------------------- |\n",
        "| Intended Audience | Humans                                           | Developers / Interpreter         |\n",
        "| Used by           | `print()`, `str()`                               | `repr()`, interactive shell      |\n",
        "| Goal              | Readable, friendly                               | Unambiguous, ideally recreatable |\n",
        "| Fallback          | If `__str__` not defined, Python uses `__repr__` | Must always return a string      |\n"
      ],
      "metadata": {
        "id": "LbVZYnCxrZCL"
      },
      "execution_count": null,
      "outputs": []
    },
    {
      "cell_type": "markdown",
      "source": [
        "### **4. Example with Both**"
      ],
      "metadata": {
        "id": "Xlwv6jrOrbcT"
      }
    },
    {
      "cell_type": "code",
      "source": [
        "class Point:\n",
        "    def __init__(self, x, y):\n",
        "        self.x = x\n",
        "        self.y = y\n",
        "\n",
        "    def __str__(self):\n",
        "        return f\"Point at ({self.x}, {self.y})\"\n",
        "\n",
        "    def __repr__(self):\n",
        "        return f\"Point({self.x}, {self.y})\"\n",
        "\n",
        "p = Point(5, 7)\n",
        "print(p)        # Calls __str__ → Point at (5, 7)\n",
        "print(repr(p))  # Calls __repr__ → Point(5, 7)\n",
        "p               # Interactive shell calls __repr__ → Point(5, 7)\n"
      ],
      "metadata": {
        "id": "3N0517Qwrful"
      },
      "execution_count": null,
      "outputs": []
    },
    {
      "cell_type": "markdown",
      "source": [
        "## Q20. What is the significance of the ‘super()’ function in Python?\n",
        "The super() function in Python is a built-in function used to call methods from a parent (or superclass) within a subclass, allowing you to reuse and extend functionality without explicitly naming the parent class. It’s especially useful in inheritance and multiple inheritance scenarios."
      ],
      "metadata": {
        "id": "Fwf2dmd_riVr"
      }
    },
    {
      "cell_type": "markdown",
      "source": [
        "### **1. Key Purposes of super()**\n",
        "\n",
        "**1. Access parent class methods**\n",
        "\n",
        "- Instead of hardcoding the parent class name, super() dynamically finds the next method in the Method Resolution Order (MRO).\n",
        "\n",
        "**2. Avoid code duplication**\n",
        "\n",
        "- You can reuse the parent class’s initialization or other methods in the subclass.\n",
        "\n",
        "**3. Support multiple inheritance**\n",
        "\n",
        "- super() respects Python’s MRO, ensuring the correct parent method is called even in complex inheritance hierarchies."
      ],
      "metadata": {
        "id": "99AA87B8sQYN"
      }
    },
    {
      "cell_type": "markdown",
      "source": [
        "### **2. Syntax**"
      ],
      "metadata": {
        "id": "w_r86v58ssvV"
      }
    },
    {
      "cell_type": "code",
      "source": [
        "super().method(arguments)\n"
      ],
      "metadata": {
        "id": "8RYSaSo1s1ij"
      },
      "execution_count": null,
      "outputs": []
    },
    {
      "cell_type": "markdown",
      "source": [
        "- Calls the method method from the next class in the MRO."
      ],
      "metadata": {
        "id": "ZS72dRYxs3aM"
      }
    },
    {
      "cell_type": "markdown",
      "source": [
        "### **3. Example with Single Inheritance**"
      ],
      "metadata": {
        "id": "6JFbzeZrs9bl"
      }
    },
    {
      "cell_type": "code",
      "source": [
        "class Vehicle:\n",
        "    def __init__(self, brand):\n",
        "        self.brand = brand\n",
        "\n",
        "    def start(self):\n",
        "        print(f\"{self.brand} engine started\")\n",
        "\n",
        "class Car(Vehicle):\n",
        "    def __init__(self, brand, model):\n",
        "        super().__init__(brand)  # Call parent __init__\n",
        "        self.model = model\n",
        "\n",
        "    def start(self):\n",
        "        super().start()  # Call parent start method\n",
        "        print(f\"{self.brand} {self.model} is ready to go!\")\n",
        "\n",
        "car = Car(\"Toyota\", \"Corolla\")\n",
        "car.start()\n"
      ],
      "metadata": {
        "id": "2_GjcSYttAGz"
      },
      "execution_count": null,
      "outputs": []
    },
    {
      "cell_type": "markdown",
      "source": [
        "**Output:**"
      ],
      "metadata": {
        "id": "jjLIb70stDhU"
      }
    },
    {
      "cell_type": "code",
      "source": [
        "Toyota engine started\n",
        "Toyota Corolla is ready to go!\n"
      ],
      "metadata": {
        "id": "8t-l7UIqtGit"
      },
      "execution_count": null,
      "outputs": []
    },
    {
      "cell_type": "code",
      "source": [
        "1. super().__init__(brand) calls the parent Vehicle’s initializer.\n",
        "\n",
        "2. super().start() calls the parent start() method before adding extra functionality."
      ],
      "metadata": {
        "id": "jxWfhiYCtI-k"
      },
      "execution_count": null,
      "outputs": []
    },
    {
      "cell_type": "markdown",
      "source": [
        "### **4. Example with Multiple Inheritance**"
      ],
      "metadata": {
        "id": "Y3dFFgBJtPAc"
      }
    },
    {
      "cell_type": "code",
      "source": [
        "class A:\n",
        "    def show(self):\n",
        "        print(\"A's show\")\n",
        "\n",
        "class B(A):\n",
        "    def show(self):\n",
        "        print(\"B's show\")\n",
        "        super().show()\n",
        "\n",
        "class C(B):\n",
        "    def show(self):\n",
        "        print(\"C's show\")\n",
        "        super().show()\n",
        "\n",
        "c = C()\n",
        "c.show()\n"
      ],
      "metadata": {
        "id": "Ysk3L2SatVmt"
      },
      "execution_count": null,
      "outputs": []
    },
    {
      "cell_type": "markdown",
      "source": [
        "**Output:**"
      ],
      "metadata": {
        "id": "-vDd595ktYVD"
      }
    },
    {
      "cell_type": "code",
      "source": [
        "C's show\n",
        "B's show\n",
        "A's show\n"
      ],
      "metadata": {
        "id": "BJvY8PrdtXyl"
      },
      "execution_count": null,
      "outputs": []
    },
    {
      "cell_type": "markdown",
      "source": [
        "- super() ensures methods are called following the MRO, not just the immediate parent."
      ],
      "metadata": {
        "id": "Y9-3wcNHtgVP"
      }
    },
    {
      "cell_type": "markdown",
      "source": [
        "### **5. Advantages**\n",
        "\n",
        "**1.** Avoids hardcoding parent class names → safer and more maintainable.\n",
        "\n",
        "**2.** Enables proper multiple inheritance handling.\n",
        "\n",
        "**3.** Promotes code reuse and cleaner design.\n",
        "\n",
        "**4.** Works with polymorphism to call overridden methods correctly."
      ],
      "metadata": {
        "id": "Z8C1nJKxtiEd"
      }
    },
    {
      "cell_type": "markdown",
      "source": [
        "## Q21. What is the significance of the __del__ method in Python?"
      ],
      "metadata": {
        "id": "cVIywwsXtys0"
      }
    },
    {
      "cell_type": "markdown",
      "source": [
        "The __del__ method in Python is a special (dunder) method called a destructor. It is invoked when an object is about to be destroyed, which usually happens when there are no more references to the object. Its primary purpose is to allow cleanup of resources (like closing files or network connections) before the object is removed from memory."
      ],
      "metadata": {
        "id": "jbyhzeE-t7GA"
      }
    },
    {
      "cell_type": "markdown",
      "source": [
        "### **1. Key Points about __del__**\n",
        "**1.** It is called automatically by the garbage collector when the object’s reference count drops to zero.\n",
        "\n",
        "**2.** It cannot guarantee exactly when it will be called, especially in implementations like CPython, due to garbage collection timing.\n",
        "\n",
        "**3.** Useful for cleaning up external resources that are not managed by Python automatically.\n",
        "\n",
        "**4.** Overuse can lead to problems, like reference cycles, because objects involved in cycles may not be immediately destroyed."
      ],
      "metadata": {
        "id": "n4V8ogO0uD-E"
      }
    },
    {
      "cell_type": "markdown",
      "source": [
        "### **2. Syntax**"
      ],
      "metadata": {
        "id": "buoRY31-uVT1"
      }
    },
    {
      "cell_type": "code",
      "source": [
        "class MyClass:\n",
        "    def __init__(self, name):\n",
        "        self.name = name\n",
        "        print(f\"{self.name} created\")\n",
        "\n",
        "    def __del__(self):\n",
        "        print(f\"{self.name} destroyed\")\n"
      ],
      "metadata": {
        "id": "s1hNUQLluYhs"
      },
      "execution_count": null,
      "outputs": []
    },
    {
      "cell_type": "markdown",
      "source": [
        "### **3. Example**"
      ],
      "metadata": {
        "id": "f9WA27kvubZt"
      }
    },
    {
      "cell_type": "code",
      "source": [
        "obj = MyClass(\"TestObject\")\n",
        "del obj  # Explicitly deletes the object\n",
        "\n",
        "# Output:\n",
        "# TestObject created\n",
        "# TestObject destroyed\n"
      ],
      "metadata": {
        "id": "fMVV77r4ufLN"
      },
      "execution_count": null,
      "outputs": []
    },
    {
      "cell_type": "markdown",
      "source": [
        "- __del__ is called automatically when del obj is executed or when the object goes out of scope and is garbage collected."
      ],
      "metadata": {
        "id": "fKDQ6D_MujPP"
      }
    },
    {
      "cell_type": "markdown",
      "source": [
        "### **4. Important Notes**\n",
        "\n",
        "**1. Timing is uncertain:** Python’s garbage collector decides when to delete the object, so __del__ may not be called immediately.\n",
        "\n",
        "**2. Avoid exceptions inside __del__:** Exceptions in __del__ are ignored and may cause warnings.\n",
        "\n",
        "**3. Not recommended for important resource management:** Using context managers (with statements) is often safer for things like file or network handling."
      ],
      "metadata": {
        "id": "6UdJ8AU9umec"
      }
    },
    {
      "cell_type": "markdown",
      "source": [
        "### **5. Typical Use Cases**\n",
        "\n",
        "- Closing files or database connections.\n",
        "\n",
        "- Releasing network or system resources.\n",
        "\n",
        "- Logging object destruction (mainly for debugging)."
      ],
      "metadata": {
        "id": "EhPdFHxgu6di"
      }
    },
    {
      "cell_type": "code",
      "source": [
        "class FileHandler:\n",
        "    def __init__(self, filename):\n",
        "        self.file = open(filename, \"w\")\n",
        "\n",
        "    def __del__(self):\n",
        "        self.file.close()\n",
        "        print(\"File closed\")\n"
      ],
      "metadata": {
        "id": "oGVN4qIBvD8V"
      },
      "execution_count": null,
      "outputs": []
    },
    {
      "cell_type": "markdown",
      "source": [
        "## Q22. What is the difference between @staticmethod and @classmethod in Python?"
      ],
      "metadata": {
        "id": "MSaESWyavCLu"
      }
    },
    {
      "cell_type": "markdown",
      "source": [
        "In Python, both @staticmethod and @classmethod are decorators used to define methods inside a class that are not tied to a specific instance in the usual way, but they serve different purposes and have different behavior."
      ],
      "metadata": {
        "id": "i4UB6kUOvWwE"
      }
    },
    {
      "cell_type": "markdown",
      "source": [
        "### **1. @staticmethod**\n",
        "\n",
        "- Does not receive any implicit first argument (no self or cls).\n",
        "\n",
        "- Behaves like a regular function but belongs to the class namespace.\n",
        "\n",
        "- Cannot access instance (self) or class (cls) attributes directly.\n",
        "\n",
        "- Used for utility functions related to the class but not dependent on instance or class state."
      ],
      "metadata": {
        "id": "P5c6EgVDva7m"
      }
    },
    {
      "cell_type": "code",
      "source": [
        "class Math:\n",
        "    @staticmethod\n",
        "    def add(x, y):\n",
        "        return x + y\n",
        "\n",
        "print(Math.add(5, 3))  # Output: 8\n",
        "\n",
        "m = Math()\n",
        "print(m.add(2, 4))     # Output: 6 (can also be called via instance)\n"
      ],
      "metadata": {
        "id": "DvVk3o7ivkFu"
      },
      "execution_count": null,
      "outputs": []
    },
    {
      "cell_type": "markdown",
      "source": [
        "**✅ Key point:** Works without access to instance or class."
      ],
      "metadata": {
        "id": "BjUMObAIvlLN"
      }
    },
    {
      "cell_type": "markdown",
      "source": [
        "### **2. @classmethod**\n",
        "\n",
        "- Receives the class itself as the first argument (cls).\n",
        "\n",
        "- Can access and modify class-level attributes.\n",
        "\n",
        "- Often used for factory methods or methods that need to operate on the class rather than an instance."
      ],
      "metadata": {
        "id": "RjI5IH9rvqnG"
      }
    },
    {
      "cell_type": "code",
      "source": [
        "class Employee:\n",
        "    raise_amount = 1.05\n",
        "\n",
        "    def __init__(self, name, salary):\n",
        "        self.name = name\n",
        "        self.salary = salary\n",
        "\n",
        "    @classmethod\n",
        "    def set_raise_amount(cls, amount):\n",
        "        cls.raise_amount = amount\n",
        "\n",
        "# Call via class\n",
        "Employee.set_raise_amount(1.10)\n",
        "print(Employee.raise_amount)  # Output: 1.10\n",
        "\n",
        "# Call via instance\n",
        "emp = Employee(\"Alice\", 5000)\n",
        "emp.set_raise_amount(1.15)\n",
        "print(Employee.raise_amount)  # Output: 1.15\n"
      ],
      "metadata": {
        "id": "oZiM1EnIv0n1"
      },
      "execution_count": null,
      "outputs": []
    },
    {
      "cell_type": "markdown",
      "source": [
        "**✅ Key point:** Works with the class itself, can access/modify class attributes."
      ],
      "metadata": {
        "id": "XW2_dPkhv1hN"
      }
    },
    {
      "cell_type": "markdown",
      "source": [
        "### **3. Comparison Table**"
      ],
      "metadata": {
        "id": "6x7p2t1vv4_s"
      }
    },
    {
      "cell_type": "code",
      "source": [
        "| Feature                   | `@staticmethod`                         | `@classmethod`                            |\n",
        "| ------------------------- | --------------------------------------- | ----------------------------------------- |\n",
        "| First argument            | None                                    | `cls` (class reference)                   |\n",
        "| Access instance variables | ❌ No                                    | ❌ No (unless class attribute is used)     |\n",
        "| Access class variables    | ❌ No                                    | ✅ Yes                                     |\n",
        "| Purpose                   | Utility functions related to class      | Factory methods or class-level operations |\n",
        "| How to call               | `Class.method()` or `instance.method()` | `Class.method()` or `instance.method()`   |\n"
      ],
      "metadata": {
        "id": "QEaY4SCav8S2"
      },
      "execution_count": null,
      "outputs": []
    },
    {
      "cell_type": "markdown",
      "source": [
        "### **4. When to Use**\n",
        "\n",
        "- @staticmethod → When the method doesn’t need class or instance info, e.g., a helper function.\n",
        "\n",
        "- @classmethod → When the method needs access to the class, e.g., modifying class attributes, creating alternate constructors."
      ],
      "metadata": {
        "id": "xBaE5oS4v-XP"
      }
    },
    {
      "cell_type": "markdown",
      "source": [
        "**Example: Alternative Constructor with @classmethod**"
      ],
      "metadata": {
        "id": "xYG2oEVPwHCG"
      }
    },
    {
      "cell_type": "code",
      "source": [
        "class Employee:\n",
        "    def __init__(self, name, salary):\n",
        "        self.name = name\n",
        "        self.salary = salary\n",
        "\n",
        "    @classmethod\n",
        "    def from_string(cls, emp_str):\n",
        "        name, salary = emp_str.split(\"-\")\n",
        "        return cls(name, int(salary))\n",
        "\n",
        "emp = Employee.from_string(\"Bob-6000\")\n",
        "print(emp.name, emp.salary)  # Output: Bob 6000\n"
      ],
      "metadata": {
        "id": "DZqF8hhywMf2"
      },
      "execution_count": null,
      "outputs": []
    },
    {
      "cell_type": "markdown",
      "source": [
        "- Here, @classmethod allows creating an object without calling __init__ directly, which @staticmethod cannot do."
      ],
      "metadata": {
        "id": "yy7roDRjwNxj"
      }
    },
    {
      "cell_type": "markdown",
      "source": [
        "## Q23. How does polymorphism work in Python with inheritance?\n",
        "Polymorphism in Python, especially when combined with inheritance, allows objects of different classes to be treated through a common interface while behaving differently based on their actual class. This enables flexible, reusable, and extensible code. Let’s break it down carefully."
      ],
      "metadata": {
        "id": "3PeRg-IGwRdD"
      }
    },
    {
      "cell_type": "markdown",
      "source": [
        "### **1. Key Idea**\n",
        "\n",
        "- Polymorphism means “many forms.”\n",
        "\n",
        "- With inheritance, a subclass can override methods from its parent class.\n",
        "\n",
        "- You can call the same method on different objects, and Python will execute the appropriate version depending on the object’s actual class."
      ],
      "metadata": {
        "id": "jMg72M0rxviy"
      }
    },
    {
      "cell_type": "markdown",
      "source": [
        "### **2. Example with Inheritance**"
      ],
      "metadata": {
        "id": "jD-pFh_1x4xl"
      }
    },
    {
      "cell_type": "code",
      "source": [
        "class Animal:\n",
        "    def speak(self):\n",
        "        print(\"Some generic animal sound\")\n",
        "\n",
        "class Dog(Animal):\n",
        "    def speak(self):\n",
        "        print(\"Woof!\")\n",
        "\n",
        "class Cat(Animal):\n",
        "    def speak(self):\n",
        "        print(\"Meow!\")\n",
        "\n",
        "# List of animals\n",
        "animals = [Dog(), Cat(), Animal()]\n",
        "\n",
        "for animal in animals:\n",
        "    animal.speak()\n"
      ],
      "metadata": {
        "id": "Ny2GpbrBx7UX"
      },
      "execution_count": null,
      "outputs": []
    },
    {
      "cell_type": "markdown",
      "source": [
        "**Output:**"
      ],
      "metadata": {
        "id": "Iw1zFsccx92W"
      }
    },
    {
      "cell_type": "code",
      "source": [
        "Woof!\n",
        "Meow!\n",
        "Some generic animal sound\n"
      ],
      "metadata": {
        "id": "Yp-SmfrQyBVG"
      },
      "execution_count": null,
      "outputs": []
    },
    {
      "cell_type": "markdown",
      "source": [
        "- animal.speak() calls different implementations depending on whether the object is a Dog, Cat, or Animal.\n",
        "\n",
        "- This is runtime polymorphism (dynamic method overriding)."
      ],
      "metadata": {
        "id": "0o55SarRyDpp"
      }
    },
    {
      "cell_type": "markdown",
      "source": [
        "### **3. How It Works**\n",
        "\n",
        "**1.** Inheritance allows subclasses to derive from a parent class.\n",
        "\n",
        "**2.** Method overriding lets a subclass provide its own version of a method.\n",
        "\n",
        "**3.** Python determines which method to execute at runtime based on the object type (this is called dynamic dispatch)."
      ],
      "metadata": {
        "id": "9wh-XCWPyL-e"
      }
    },
    {
      "cell_type": "markdown",
      "source": [
        "### **4. Polymorphism with Interfaces (Abstract Classes)**\n",
        "\n",
        "Polymorphism is also commonly used with abstract base classes to enforce a common interface:"
      ],
      "metadata": {
        "id": "RRiuOnnxyZ0X"
      }
    },
    {
      "cell_type": "code",
      "source": [
        "from abc import ABC, abstractmethod\n",
        "\n",
        "class Shape(ABC):\n",
        "    @abstractmethod\n",
        "    def area(self):\n",
        "        pass\n",
        "\n",
        "class Circle(Shape):\n",
        "    def __init__(self, radius):\n",
        "        self.radius = radius\n",
        "    def area(self):\n",
        "        return 3.14 * self.radius ** 2\n",
        "\n",
        "class Square(Shape):\n",
        "    def __init__(self, side):\n",
        "        self.side = side\n",
        "    def area(self):\n",
        "        return self.side ** 2\n",
        "\n",
        "shapes = [Circle(5), Square(4)]\n",
        "for shape in shapes:\n",
        "    print(shape.area())\n"
      ],
      "metadata": {
        "id": "Wexj6rX-ygFX"
      },
      "execution_count": null,
      "outputs": []
    },
    {
      "cell_type": "markdown",
      "source": [
        "- shape.area() works on both Circle and Square objects.\n",
        "\n",
        "- Subclasses guarantee that the method exists, ensuring consistent interface."
      ],
      "metadata": {
        "id": "SvToIznMyhFw"
      }
    },
    {
      "cell_type": "markdown",
      "source": [
        "### **5. Advantages**\n",
        "\n",
        "**1. Code Reusability:** Same code works with different object types.\n",
        "\n",
        "**2. Extensibility:** Add new subclasses without changing existing code.\n",
        "\n",
        "**3. Clean Design:** Program to an interface (parent class) rather than concrete classes.\n",
        "\n",
        "**4. Dynamic Behavior:** Python determines the correct method to call at runtime."
      ],
      "metadata": {
        "id": "HhmT4fi4z3Q4"
      }
    },
    {
      "cell_type": "markdown",
      "source": [
        "## Q24. What is method chaining in Python OOP?\n",
        "Method chaining in Python OOP is a technique where multiple methods are called in a single line, one after the other, on the same object. This is achieved by having each method return the object itself (self). It allows for cleaner and more readable code."
      ],
      "metadata": {
        "id": "sc_Sf8230kom"
      }
    },
    {
      "cell_type": "markdown",
      "source": [
        "### **1. How It Works**\n",
        "\n",
        "- Each method performs an operation.\n",
        "\n",
        "- Instead of returning None, the method returns self.\n",
        "\n",
        "- This allows you to call the next method on the same object immediately."
      ],
      "metadata": {
        "id": "YfEAi4B206Iu"
      }
    },
    {
      "cell_type": "markdown",
      "source": [
        "### **2. Example**"
      ],
      "metadata": {
        "id": "wyi5YXLW1GNf"
      }
    },
    {
      "cell_type": "code",
      "source": [
        "class Car:\n",
        "    def __init__(self):\n",
        "        self.speed = 0\n",
        "        self.fuel = 100\n",
        "\n",
        "    def accelerate(self):\n",
        "        self.speed += 10\n",
        "        print(f\"Speed: {self.speed}\")\n",
        "        return self  # returning self for chaining\n",
        "\n",
        "    def brake(self):\n",
        "        self.speed = max(0, self.speed - 10)\n",
        "        print(f\"Speed: {self.speed}\")\n",
        "        return self  # returning self for chaining\n",
        "\n",
        "    def refuel(self):\n",
        "        self.fuel = 100\n",
        "        print(f\"Fuel refilled: {self.fuel}\")\n",
        "        return self  # returning self for chaining\n",
        "\n",
        "# Using method chaining\n",
        "car = Car()\n",
        "car.accelerate().accelerate().brake().refuel()\n"
      ],
      "metadata": {
        "id": "yxx4qQf41Jad"
      },
      "execution_count": null,
      "outputs": []
    },
    {
      "cell_type": "markdown",
      "source": [
        "**Output:**"
      ],
      "metadata": {
        "id": "yuhZSVYT1N7v"
      }
    },
    {
      "cell_type": "code",
      "source": [
        "Speed: 10\n",
        "Speed: 20\n",
        "Speed: 10\n",
        "Fuel refilled: 100\n"
      ],
      "metadata": {
        "id": "5HNG9ts61PoX"
      },
      "execution_count": null,
      "outputs": []
    },
    {
      "cell_type": "markdown",
      "source": [
        "- Each method call returns the same object, allowing the next method to be called immediately."
      ],
      "metadata": {
        "id": "WhUBKCP51R3-"
      }
    },
    {
      "cell_type": "markdown",
      "source": [
        "### **3. Advantages of Method Chaining**\n",
        "\n",
        "**1. Readable code:** Reduces repetition of the object name.\n",
        "\n",
        "**2. Fluent interface:** Makes code more expressive and concise.\n",
        "\n",
        "**3. Compact operations:** Allows multiple operations on the same object in one statement."
      ],
      "metadata": {
        "id": "cnnFv3x11Vze"
      }
    },
    {
      "cell_type": "markdown",
      "source": [
        "### **4. Common Uses**\n",
        "\n",
        "- Builder patterns (e.g., constructing complex objects step by step).\n",
        "\n",
        "- String or data transformations (e.g., pandas DataFrame method chaining).\n",
        "\n",
        "- Configuration objects in APIs or frameworks."
      ],
      "metadata": {
        "id": "ql-aFCwq1iYf"
      }
    },
    {
      "cell_type": "markdown",
      "source": [
        "## Q25. What is the purpose of the __call__ method in Python?"
      ],
      "metadata": {
        "id": "TdN7cJx71phH"
      }
    },
    {
      "cell_type": "markdown",
      "source": [
        "The __call__ method in Python is a special (dunder) method that allows an object to be called like a function. If a class defines __call__, its instances can be invoked with parentheses, just like a normal function."
      ],
      "metadata": {
        "id": "4rmV2ek71x33"
      }
    },
    {
      "cell_type": "markdown",
      "source": [
        "### **1. Key Points**\n",
        "\n",
        "- Makes objects callable.\n",
        "\n",
        "- Can take any number of arguments.\n",
        "\n",
        "- Useful for implementing function-like behavior while maintaining state in an object.\n",
        "\n",
        "- Often used in decorators, callbacks, or function objects."
      ],
      "metadata": {
        "id": "c3vWXHTr2JDZ"
      }
    },
    {
      "cell_type": "markdown",
      "source": [
        "### **2. Syntax**"
      ],
      "metadata": {
        "id": "zbMl5wWn2Tn3"
      }
    },
    {
      "cell_type": "code",
      "source": [
        "class MyCallable:\n",
        "    def __call__(self, *args, **kwargs):\n",
        "        # Code to execute when object is called\n",
        "        pass\n"
      ],
      "metadata": {
        "id": "IoW6VHQ-2Wuf"
      },
      "execution_count": null,
      "outputs": []
    },
    {
      "cell_type": "markdown",
      "source": [
        "### **3. Example**"
      ],
      "metadata": {
        "id": "_-Buz_1f2YxO"
      }
    },
    {
      "cell_type": "code",
      "source": [
        "class Adder:\n",
        "    def __init__(self, value):\n",
        "        self.value = value\n",
        "\n",
        "    def __call__(self, x):\n",
        "        return self.value + x\n",
        "\n",
        "add_five = Adder(5)\n",
        "print(add_five(10))  # Output: 15\n"
      ],
      "metadata": {
        "id": "iZOSYfX42cGu"
      },
      "execution_count": null,
      "outputs": []
    },
    {
      "cell_type": "code",
      "source": [
        "Here, add_five(10) calls add_five.__call__(10) internally.\n",
        "\n",
        "The object behaves like a function while storing internal state (self.value)."
      ],
      "metadata": {
        "id": "vcrwPk-12lzw"
      },
      "execution_count": null,
      "outputs": []
    },
    {
      "cell_type": "markdown",
      "source": [
        "### **4. Use Cases**\n",
        "\n",
        "**1. Function objects (functors):** Maintain state while behaving like a function.\n",
        "\n",
        "**2. Callbacks:** Objects can be passed as callable callbacks.\n",
        "\n",
        "**3. Decorators:** Some decorators use callable classes for flexibility.\n",
        "\n",
        "**4. Fluent APIs:** Objects can respond dynamically when “called” multiple times."
      ],
      "metadata": {
        "id": "4zsiOWgk2m5W"
      }
    },
    {
      "cell_type": "markdown",
      "source": [
        "### **5. Key Advantage**\n",
        "\n",
        "- Combines object-oriented features (state, methods) with function-like syntax.\n",
        "\n",
        "- Allows for clean and flexible design in scenarios where functions alone are not sufficient."
      ],
      "metadata": {
        "id": "r0q3UaRf2zs-"
      }
    },
    {
      "cell_type": "markdown",
      "source": [
        "# ***Python OOPs Practical Questions***"
      ],
      "metadata": {
        "id": "iy0kxdS226e3"
      }
    },
    {
      "cell_type": "markdown",
      "source": [
        "## Q1. Create a parent class Animal with a method speak() that prints a generic message. Create a child class Dog that overrides the speak() method to print \"Bark!\"."
      ],
      "metadata": {
        "id": "xgOM4TNH6eIx"
      }
    },
    {
      "cell_type": "code",
      "source": [
        "# Parent class\n",
        "class Animal:\n",
        "    def speak(self):\n",
        "        print(\"Some generic animal sound\")\n",
        "\n",
        "# Child class\n",
        "class Dog(Animal):\n",
        "    def speak(self):\n",
        "        print(\"Bark!\")\n",
        "\n",
        "# Example usage\n",
        "a = Animal()\n",
        "a.speak()   # Output: Some generic animal sound\n",
        "\n",
        "d = Dog()\n",
        "d.speak()   # Output: Bark!\n"
      ],
      "metadata": {
        "id": "pauvH2sl6pph"
      },
      "execution_count": null,
      "outputs": []
    },
    {
      "cell_type": "markdown",
      "source": [
        "**Output:**"
      ],
      "metadata": {
        "id": "5zzOV_4h7dCp"
      }
    },
    {
      "cell_type": "code",
      "source": [
        "Some generic animal sound\n",
        "Bark!\n"
      ],
      "metadata": {
        "id": "4CQvSjoC7hbJ"
      },
      "execution_count": null,
      "outputs": []
    },
    {
      "cell_type": "markdown",
      "source": [
        "## Q2. Write a program to create an abstract class Shape with a method area(). Derive classes Circle and Rectangle from it and implement the area() method in both."
      ],
      "metadata": {
        "id": "n0xP834S7Qhw"
      }
    },
    {
      "cell_type": "code",
      "source": [
        "from abc import ABC, abstractmethod\n",
        "import math\n",
        "\n",
        "# Abstract base class\n",
        "class Shape(ABC):\n",
        "    @abstractmethod\n",
        "    def area(self):\n",
        "        pass  # Abstract method — must be implemented in subclasses\n",
        "\n",
        "# Derived class for Circle\n",
        "class Circle(Shape):\n",
        "    def __init__(self, radius):\n",
        "        self.radius = radius\n",
        "\n",
        "    def area(self):\n",
        "        return math.pi * self.radius ** 2\n",
        "\n",
        "# Derived class for Rectangle\n",
        "class Rectangle(Shape):\n",
        "    def __init__(self, length, width):\n",
        "        self.length = length\n",
        "        self.width = width\n",
        "\n",
        "    def area(self):\n",
        "        return self.length * self.width\n",
        "\n",
        "# Example usage\n",
        "circle = Circle(5)\n",
        "rectangle = Rectangle(4, 6)\n",
        "\n",
        "print(f\"Area of Circle: {circle.area():.2f}\")\n",
        "print(f\"Area of Rectangle: {rectangle.area():.2f}\")\n"
      ],
      "metadata": {
        "id": "yJn_dDha7YFB"
      },
      "execution_count": null,
      "outputs": []
    },
    {
      "cell_type": "markdown",
      "source": [
        "**Output:**"
      ],
      "metadata": {
        "id": "wcIzJDhu76hA"
      }
    },
    {
      "cell_type": "code",
      "source": [
        "Area of Circle: 78.54\n",
        "Area of Rectangle: 24.00\n"
      ],
      "metadata": {
        "id": "aMLW_VeM79EI"
      },
      "execution_count": null,
      "outputs": []
    },
    {
      "cell_type": "markdown",
      "source": [
        "## Q3. Implement a multi-level inheritance scenario where a class Vehicle has an attribute type. Derive a class Car and further derive a class ElectricCar that adds a battery attribute."
      ],
      "metadata": {
        "id": "k7jY3wv78Gw4"
      }
    },
    {
      "cell_type": "code",
      "source": [
        "# Base class\n",
        "class Vehicle:\n",
        "    def __init__(self, vehicle_type):\n",
        "        self.vehicle_type = vehicle_type\n",
        "\n",
        "    def display_info(self):\n",
        "        print(f\"Vehicle Type: {self.vehicle_type}\")\n",
        "\n",
        "# Derived class from Vehicle\n",
        "class Car(Vehicle):\n",
        "    def __init__(self, vehicle_type, brand):\n",
        "        super().__init__(vehicle_type)  # Call Vehicle’s constructor\n",
        "        self.brand = brand\n",
        "\n",
        "    def display_info(self):\n",
        "        super().display_info()\n",
        "        print(f\"Brand: {self.brand}\")\n",
        "\n",
        "# Further derived class from Car\n",
        "class ElectricCar(Car):\n",
        "    def __init__(self, vehicle_type, brand, battery_capacity):\n",
        "        super().__init__(vehicle_type, brand)  # Call Car’s constructor\n",
        "        self.battery_capacity = battery_capacity\n",
        "\n",
        "    def display_info(self):\n",
        "        super().display_info()\n",
        "        print(f\"Battery Capacity: {self.battery_capacity} kWh\")\n",
        "\n",
        "# Example usage\n",
        "e_car = ElectricCar(\"Four Wheeler\", \"Tesla\", 75)\n",
        "e_car.display_info()\n"
      ],
      "metadata": {
        "id": "t5EHxT_H8OyZ"
      },
      "execution_count": null,
      "outputs": []
    },
    {
      "cell_type": "markdown",
      "source": [
        "**Output:**"
      ],
      "metadata": {
        "id": "Y3Gz78Ae8qXd"
      }
    },
    {
      "cell_type": "code",
      "source": [
        "Vehicle Type: Four Wheeler\n",
        "Brand: Tesla\n",
        "Battery Capacity: 75 kWh\n"
      ],
      "metadata": {
        "id": "wP6uBtqt8tpc"
      },
      "execution_count": null,
      "outputs": []
    },
    {
      "cell_type": "markdown",
      "source": [
        "## Q4. Demonstrate polymorphism by creating a base class Bird with a method fly(). Create two derived classes Sparrow and Penguin that override the fly() method.\n"
      ],
      "metadata": {
        "id": "mgXhX_2H80IB"
      }
    },
    {
      "cell_type": "code",
      "source": [
        "# Base class\n",
        "class Bird:\n",
        "    def fly(self):\n",
        "        print(\"Some birds can fly, some cannot.\")\n",
        "\n",
        "# Derived class 1\n",
        "class Sparrow(Bird):\n",
        "    def fly(self):\n",
        "        print(\"Sparrow can fly high in the sky!\")\n",
        "\n",
        "# Derived class 2\n",
        "class Penguin(Bird):\n",
        "    def fly(self):\n",
        "        print(\"Penguins cannot fly, they swim instead!\")\n",
        "\n",
        "# Demonstration of polymorphism\n",
        "birds = [Sparrow(), Penguin(), Bird()]\n",
        "\n",
        "for bird in birds:\n",
        "    bird.fly()  # Calls the appropriate method depending on the object type\n"
      ],
      "metadata": {
        "id": "NpJC3F_d87r5"
      },
      "execution_count": null,
      "outputs": []
    },
    {
      "cell_type": "markdown",
      "source": [
        "**Output:**"
      ],
      "metadata": {
        "id": "BwXJCtEl9MVa"
      }
    },
    {
      "cell_type": "code",
      "source": [
        "Sparrow can fly high in the sky!\n",
        "Penguins cannot fly, they swim instead!\n",
        "Some birds can fly, some cannot.\n"
      ],
      "metadata": {
        "id": "iTczLjz79PIx"
      },
      "execution_count": null,
      "outputs": []
    },
    {
      "cell_type": "markdown",
      "source": [
        "## Q5. Write a program to demonstrate encapsulation by creating a class BankAccount with private attributes balance and methods to deposit, withdraw, and check balance."
      ],
      "metadata": {
        "id": "A-Q4akfF9RaY"
      }
    },
    {
      "cell_type": "code",
      "source": [
        "class BankAccount:\n",
        "    def __init__(self, initial_balance=0):\n",
        "        # Private attribute\n",
        "        self.__balance = initial_balance\n",
        "\n",
        "    # Public method to deposit money\n",
        "    def deposit(self, amount):\n",
        "        if amount > 0:\n",
        "            self.__balance += amount\n",
        "            print(f\"Deposited: ${amount}\")\n",
        "        else:\n",
        "            print(\"Deposit amount must be positive.\")\n",
        "\n",
        "    # Public method to withdraw money\n",
        "    def withdraw(self, amount):\n",
        "        if 0 < amount <= self.__balance:\n",
        "            self.__balance -= amount\n",
        "            print(f\"Withdrew: ${amount}\")\n",
        "        else:\n",
        "            print(\"Invalid withdrawal amount or insufficient funds.\")\n",
        "\n",
        "    # Public method to check balance\n",
        "    def get_balance(self):\n",
        "        print(f\"Current Balance: ${self.__balance}\")\n",
        "\n",
        "# Example usage\n",
        "account = BankAccount(100)\n",
        "account.deposit(50)\n",
        "account.withdraw(30)\n",
        "account.get_balance()\n",
        "\n",
        "# Trying to access private variable directly (will fail)\n",
        "# print(account.__balance)  # AttributeError\n"
      ],
      "metadata": {
        "id": "Ton6KUqw9YcY"
      },
      "execution_count": null,
      "outputs": []
    },
    {
      "cell_type": "markdown",
      "source": [
        "**Output:**"
      ],
      "metadata": {
        "id": "wVx8IYTD9tHb"
      }
    },
    {
      "cell_type": "code",
      "source": [
        "Deposited: $50\n",
        "Withdrew: $30\n",
        "Current Balance: $120\n"
      ],
      "metadata": {
        "id": "Z0oNaGqX9vxp"
      },
      "execution_count": null,
      "outputs": []
    },
    {
      "cell_type": "markdown",
      "source": [
        "## Q6. Demonstrate runtime polymorphism using a method play() in a base class Instrument. Derive classes Guitar and Piano that implement their own version of play()."
      ],
      "metadata": {
        "id": "2HrOUDXp91Mi"
      }
    },
    {
      "cell_type": "code",
      "source": [
        "# Base class\n",
        "class Instrument:\n",
        "    def play(self):\n",
        "        print(\"Playing some musical instrument...\")\n",
        "\n",
        "# Derived class 1\n",
        "class Guitar(Instrument):\n",
        "    def play(self):\n",
        "        print(\"Strumming the guitar 🎸\")\n",
        "\n",
        "# Derived class 2\n",
        "class Piano(Instrument):\n",
        "    def play(self):\n",
        "        print(\"Playing the piano 🎹\")\n",
        "\n",
        "# Demonstration of runtime polymorphism\n",
        "instruments = [Guitar(), Piano(), Instrument()]\n",
        "\n",
        "for instrument in instruments:\n",
        "    instrument.play()  # Calls the overridden method based on the actual object type\n"
      ],
      "metadata": {
        "id": "VFd5oF4i-TpS"
      },
      "execution_count": null,
      "outputs": []
    },
    {
      "cell_type": "markdown",
      "source": [
        "**Output:**"
      ],
      "metadata": {
        "id": "yOXJPe0p-XWS"
      }
    },
    {
      "cell_type": "code",
      "source": [
        "Strumming the guitar 🎸\n",
        "Playing the piano 🎹\n",
        "Playing some musical instrument...\n"
      ],
      "metadata": {
        "id": "ARr1tAzh-aRj"
      },
      "execution_count": null,
      "outputs": []
    },
    {
      "cell_type": "markdown",
      "source": [
        "## Q7. Create a class MathOperations with a class method add_numbers() to add two numbers and a static method subtract_numbers() to subtract two numbers."
      ],
      "metadata": {
        "id": "BAGBfOMg-duB"
      }
    },
    {
      "cell_type": "code",
      "source": [
        "class MathOperations:\n",
        "    # Class method\n",
        "    @classmethod\n",
        "    def add_numbers(cls, a, b):\n",
        "        return a + b\n",
        "\n",
        "    # Static method\n",
        "    @staticmethod\n",
        "    def subtract_numbers(a, b):\n",
        "        return a - b\n",
        "\n",
        "# Example usage\n",
        "sum_result = MathOperations.add_numbers(10, 5)\n",
        "diff_result = MathOperations.subtract_numbers(10, 5)\n",
        "\n",
        "print(f\"Sum: {sum_result}\")\n",
        "print(f\"Difference: {diff_result}\")\n"
      ],
      "metadata": {
        "id": "PZ2r3ZEM-lyz"
      },
      "execution_count": null,
      "outputs": []
    },
    {
      "cell_type": "markdown",
      "source": [
        "**Output:**"
      ],
      "metadata": {
        "id": "YvOcwDM8-vc5"
      }
    },
    {
      "cell_type": "code",
      "source": [
        "Sum: 15\n",
        "Difference: 5\n"
      ],
      "metadata": {
        "id": "o043Ls8O-yQ6"
      },
      "execution_count": null,
      "outputs": []
    },
    {
      "cell_type": "markdown",
      "source": [
        "## Q8. Implement a class Person with a class method to count the total number of persons created."
      ],
      "metadata": {
        "id": "uwKBmOtM-43x"
      }
    },
    {
      "cell_type": "code",
      "source": [
        "class Person:\n",
        "    # Class variable to count number of persons\n",
        "    count = 0\n",
        "\n",
        "    def __init__(self, name):\n",
        "        self.name = name\n",
        "        # Increment count whenever a new object is created\n",
        "        Person.count += 1\n",
        "\n",
        "    # Class method to access class variable\n",
        "    @classmethod\n",
        "    def get_person_count(cls):\n",
        "        return cls.count\n",
        "\n",
        "# Example usage\n",
        "p1 = Person(\"Alice\")\n",
        "p2 = Person(\"Bob\")\n",
        "p3 = Person(\"Charlie\")\n",
        "\n",
        "print(f\"Total Persons Created: {Person.get_person_count()}\")\n"
      ],
      "metadata": {
        "id": "td11wiZS-9WZ"
      },
      "execution_count": null,
      "outputs": []
    },
    {
      "cell_type": "markdown",
      "source": [
        "**Output:**"
      ],
      "metadata": {
        "id": "V43Mv3fh_Iqp"
      }
    },
    {
      "cell_type": "code",
      "source": [
        "Total Persons Created: 3\n"
      ],
      "metadata": {
        "id": "iQWYC9sf_M4Z"
      },
      "execution_count": null,
      "outputs": []
    },
    {
      "cell_type": "markdown",
      "source": [
        "## Q9. Write a class Fraction with attributes numerator and denominator. Override the str method to display the fraction as \"numerator/denominator\""
      ],
      "metadata": {
        "id": "vv1xnXpt_TCq"
      }
    },
    {
      "cell_type": "code",
      "source": [
        "class Fraction:\n",
        "    def __init__(self, numerator, denominator):\n",
        "        self.numerator = numerator\n",
        "        self.denominator = denominator\n",
        "\n",
        "    # Overriding the __str__ method\n",
        "    def __str__(self):\n",
        "        return f\"{self.numerator}/{self.denominator}\"\n",
        "\n",
        "# Example usage\n",
        "f1 = Fraction(3, 4)\n",
        "f2 = Fraction(5, 8)\n",
        "\n",
        "print(f1)  # Output: 3/4\n",
        "print(f2)  # Output: 5/8\n"
      ],
      "metadata": {
        "id": "CkbvHKVY_cpR"
      },
      "execution_count": null,
      "outputs": []
    },
    {
      "cell_type": "markdown",
      "source": [
        "**Output:**"
      ],
      "metadata": {
        "id": "PVu88xzO_m2i"
      }
    },
    {
      "cell_type": "code",
      "source": [
        "3/4\n",
        "5/8\n"
      ],
      "metadata": {
        "id": "ure9xXIV_pe6"
      },
      "execution_count": null,
      "outputs": []
    },
    {
      "cell_type": "markdown",
      "source": [
        "## Q10. Demonstrate operator overloading by creating a class Vector and overriding the add method to add two vectors."
      ],
      "metadata": {
        "id": "PGBZkicQ_wh6"
      }
    },
    {
      "cell_type": "code",
      "source": [
        "class Vector:\n",
        "    def __init__(self, x, y):\n",
        "        self.x = x\n",
        "        self.y = y\n",
        "\n",
        "    # Overloading the '+' operator\n",
        "    def __add__(self, other):\n",
        "        return Vector(self.x + other.x, self.y + other.y)\n",
        "\n",
        "    # String representation for easy printing\n",
        "    def __str__(self):\n",
        "        return f\"Vector({self.x}, {self.y})\"\n",
        "\n",
        "# Example usage\n",
        "v1 = Vector(2, 3)\n",
        "v2 = Vector(4, 5)\n",
        "v3 = v1 + v2  # Calls v1.__add__(v2)\n",
        "\n",
        "print(v1)  # Output: Vector(2, 3)\n",
        "print(v2)  # Output: Vector(4, 5)\n",
        "print(v3)  # Output: Vector(6, 8)\n"
      ],
      "metadata": {
        "id": "jljCFOix_4Vh"
      },
      "execution_count": null,
      "outputs": []
    },
    {
      "cell_type": "markdown",
      "source": [
        "**Output:**"
      ],
      "metadata": {
        "id": "2QjUCc9uAQgl"
      }
    },
    {
      "cell_type": "code",
      "source": [
        "Vector(2, 3)\n",
        "Vector(4, 5)\n",
        "Vector(6, 8)\n"
      ],
      "metadata": {
        "id": "gPposWeaATOS"
      },
      "execution_count": null,
      "outputs": []
    },
    {
      "cell_type": "markdown",
      "source": [
        "## Q11. Create a class Person with attributes name and age. Add a method greet() that prints \"Hello, my name is {name} and I am {age} years old.\""
      ],
      "metadata": {
        "id": "SOKIdalQAWfp"
      }
    },
    {
      "cell_type": "code",
      "source": [
        "class Person:\n",
        "    def __init__(self, name, age):\n",
        "        self.name = name\n",
        "        self.age = age\n",
        "\n",
        "    # Method to greet\n",
        "    def greet(self):\n",
        "        print(f\"Hello, my name is {self.name} and I am {self.age} years old.\")\n",
        "\n",
        "# Example usage\n",
        "person1 = Person(\"Alice\", 25)\n",
        "person2 = Person(\"Bob\", 30)\n",
        "\n",
        "person1.greet()  # Output: Hello, my name is Alice and I am 25 years old.\n",
        "person2.greet()  # Output: Hello, my name is Bob and I am 30 years old.\n"
      ],
      "metadata": {
        "id": "alZyM7S3AdIq"
      },
      "execution_count": null,
      "outputs": []
    },
    {
      "cell_type": "markdown",
      "source": [
        "**Output:**"
      ],
      "metadata": {
        "id": "vLXQXmX2An3T"
      }
    },
    {
      "cell_type": "code",
      "source": [
        "Hello, my name is Alice and I am 25 years old.\n",
        "Hello, my name is Bob and I am 30 years old.\n"
      ],
      "metadata": {
        "id": "Up5xPlf2AqVK"
      },
      "execution_count": null,
      "outputs": []
    },
    {
      "cell_type": "markdown",
      "source": [
        "## Q12. Implement a class Student with attributes name and grades. Create a method average_grade() to compute the average of the grades."
      ],
      "metadata": {
        "id": "sXmZfXaNAuVa"
      }
    },
    {
      "cell_type": "code",
      "source": [
        "class Student:\n",
        "    def __init__(self, name, grades):\n",
        "        self.name = name\n",
        "        self.grades = grades  # grades should be a list of numbers\n",
        "\n",
        "    # Method to calculate average grade\n",
        "    def average_grade(self):\n",
        "        if not self.grades:\n",
        "            return 0  # Handle empty list\n",
        "        return sum(self.grades) / len(self.grades)\n",
        "\n",
        "# Example usage\n",
        "student1 = Student(\"Alice\", [85, 90, 78, 92])\n",
        "student2 = Student(\"Bob\", [70, 75, 80])\n",
        "\n",
        "print(f\"{student1.name}'s average grade: {student1.average_grade():.2f}\")\n",
        "print(f\"{student2.name}'s average grade: {student2.average_grade():.2f}\")\n"
      ],
      "metadata": {
        "id": "CGV2aZLDA1vT"
      },
      "execution_count": null,
      "outputs": []
    },
    {
      "cell_type": "markdown",
      "source": [
        "**Output:**"
      ],
      "metadata": {
        "id": "fde689CYBGoT"
      }
    },
    {
      "cell_type": "code",
      "source": [
        "Alice's average grade: 86.25\n",
        "Bob's average grade: 75.00\n"
      ],
      "metadata": {
        "id": "PqZP_56IBJdk"
      },
      "execution_count": null,
      "outputs": []
    },
    {
      "cell_type": "markdown",
      "source": [
        "## Q13. Create a class Rectangle with methods set_dimensions() to set the dimensions and area() to calculate the area."
      ],
      "metadata": {
        "id": "NgZeAZnrBTnj"
      }
    },
    {
      "cell_type": "code",
      "source": [
        "class Rectangle:\n",
        "    def __init__(self):\n",
        "        self.length = 0\n",
        "        self.width = 0\n",
        "\n",
        "    # Method to set the dimensions\n",
        "    def set_dimensions(self, length, width):\n",
        "        self.length = length\n",
        "        self.width = width\n",
        "\n",
        "    # Method to calculate area\n",
        "    def area(self):\n",
        "        return self.length * self.width\n",
        "\n",
        "# Example usage\n",
        "rect = Rectangle()\n",
        "rect.set_dimensions(5, 3)\n",
        "print(f\"Area of the rectangle: {rect.area()}\")\n"
      ],
      "metadata": {
        "id": "TOm_Q6yaBoar"
      },
      "execution_count": null,
      "outputs": []
    },
    {
      "cell_type": "markdown",
      "source": [
        "**Output:**"
      ],
      "metadata": {
        "id": "fuFY602kBtPz"
      }
    },
    {
      "cell_type": "code",
      "source": [
        "Area of the rectangle: 15\n"
      ],
      "metadata": {
        "id": "QATLeNi7BxhL"
      },
      "execution_count": null,
      "outputs": []
    },
    {
      "cell_type": "markdown",
      "source": [
        "## Q14. Create a class Employee with a method calculate_salary() that computes the salary based on hours worked and hourly rate. Create a derived class Manager that adds a bonus to the salary."
      ],
      "metadata": {
        "id": "K9VsFt3fB1k7"
      }
    },
    {
      "cell_type": "code",
      "source": [
        "# Base class\n",
        "class Employee:\n",
        "    def __init__(self, name, hours_worked, hourly_rate):\n",
        "        self.name = name\n",
        "        self.hours_worked = hours_worked\n",
        "        self.hourly_rate = hourly_rate\n",
        "\n",
        "    # Method to calculate salary\n",
        "    def calculate_salary(self):\n",
        "        return self.hours_worked * self.hourly_rate\n",
        "\n",
        "# Derived class\n",
        "class Manager(Employee):\n",
        "    def __init__(self, name, hours_worked, hourly_rate, bonus):\n",
        "        super().__init__(name, hours_worked, hourly_rate)\n",
        "        self.bonus = bonus\n",
        "\n",
        "    # Override calculate_salary to include bonus\n",
        "    def calculate_salary(self):\n",
        "        base_salary = super().calculate_salary()\n",
        "        return base_salary + self.bonus\n",
        "\n",
        "# Example usage\n",
        "emp = Employee(\"Alice\", 40, 20)\n",
        "mgr = Manager(\"Bob\", 40, 25, 500)\n",
        "\n",
        "print(f\"{emp.name}'s Salary: ${emp.calculate_salary()}\")\n",
        "print(f\"{mgr.name}'s Salary: ${mgr.calculate_salary()}\")\n"
      ],
      "metadata": {
        "id": "M99sjSvFB8tr"
      },
      "execution_count": null,
      "outputs": []
    },
    {
      "cell_type": "markdown",
      "source": [
        "**Output:**"
      ],
      "metadata": {
        "id": "s9gC2f2qCN3i"
      }
    },
    {
      "cell_type": "code",
      "source": [
        "Alice's Salary: $800\n",
        "Bob's Salary: $1500\n"
      ],
      "metadata": {
        "id": "uBkl94KYCQaj"
      },
      "execution_count": null,
      "outputs": []
    },
    {
      "cell_type": "markdown",
      "source": [
        "## Q15. Create a class Product with attributes name, price, and quantity. Implement a method total_price() that calculates the total price of the product."
      ],
      "metadata": {
        "id": "rzPorw8LCTOy"
      }
    },
    {
      "cell_type": "code",
      "source": [
        "class Product:\n",
        "    def __init__(self, name, price, quantity):\n",
        "        self.name = name\n",
        "        self.price = price\n",
        "        self.quantity = quantity\n",
        "\n",
        "    # Method to calculate total price\n",
        "    def total_price(self):\n",
        "        return self.price * self.quantity\n",
        "\n",
        "# Example usage\n",
        "product1 = Product(\"Laptop\", 800, 2)\n",
        "product2 = Product(\"Phone\", 500, 3)\n",
        "\n",
        "print(f\"Total price of {product1.name}: ${product1.total_price()}\")\n",
        "print(f\"Total price of {product2.name}: ${product2.total_price()}\")\n"
      ],
      "metadata": {
        "id": "DW2fU7jvCY3y"
      },
      "execution_count": null,
      "outputs": []
    },
    {
      "cell_type": "markdown",
      "source": [
        "**Output:**"
      ],
      "metadata": {
        "id": "l9Hxk0SeCkEE"
      }
    },
    {
      "cell_type": "code",
      "source": [
        "Total price of Laptop: $1600\n",
        "Total price of Phone: $1500\n"
      ],
      "metadata": {
        "id": "71diUcBcCm_0"
      },
      "execution_count": null,
      "outputs": []
    },
    {
      "cell_type": "markdown",
      "source": [
        "## Q16. Create a class Animal with an abstract method sound(). Create two derived classes Cow and Sheep that implement the sound() method."
      ],
      "metadata": {
        "id": "hutIHMb9CsRq"
      }
    },
    {
      "cell_type": "code",
      "source": [
        "from abc import ABC, abstractmethod\n",
        "\n",
        "# Abstract base class\n",
        "class Animal(ABC):\n",
        "    @abstractmethod\n",
        "    def sound(self):\n",
        "        pass  # Must be implemented by subclasses\n",
        "\n",
        "# Derived class Cow\n",
        "class Cow(Animal):\n",
        "    def sound(self):\n",
        "        print(\"Cow says Moo!\")\n",
        "\n",
        "# Derived class Sheep\n",
        "class Sheep(Animal):\n",
        "    def sound(self):\n",
        "        print(\"Sheep says Baa!\")\n",
        "\n",
        "# Example usage\n",
        "animals = [Cow(), Sheep()]\n",
        "\n",
        "for animal in animals:\n",
        "    animal.sound()\n"
      ],
      "metadata": {
        "id": "z1A9AQNCCyRN"
      },
      "execution_count": null,
      "outputs": []
    },
    {
      "cell_type": "markdown",
      "source": [
        "**Output:**"
      ],
      "metadata": {
        "id": "5K-U62sEC8NE"
      }
    },
    {
      "cell_type": "code",
      "source": [
        "Cow says Moo!\n",
        "Sheep says Baa!\n"
      ],
      "metadata": {
        "id": "JlkBVFDpC_3N"
      },
      "execution_count": null,
      "outputs": []
    },
    {
      "cell_type": "markdown",
      "source": [
        "## Q17. Create a class Book with attributes title, author, and year_published. Add a method get_book_info() that returns a formatted string with the book's details."
      ],
      "metadata": {
        "id": "82sAkz3mDCYl"
      }
    },
    {
      "cell_type": "code",
      "source": [
        "class Book:\n",
        "    def __init__(self, title, author, year_published):\n",
        "        self.title = title\n",
        "        self.author = author\n",
        "        self.year_published = year_published\n",
        "\n",
        "    # Method to return book information\n",
        "    def get_book_info(self):\n",
        "        return f\"Title: {self.title}, Author: {self.author}, Year Published: {self.year_published}\"\n",
        "\n",
        "# Example usage\n",
        "book1 = Book(\"1984\", \"George Orwell\", 1949)\n",
        "book2 = Book(\"To Kill a Mockingbird\", \"Harper Lee\", 1960)\n",
        "\n",
        "print(book1.get_book_info())\n",
        "print(book2.get_book_info())\n"
      ],
      "metadata": {
        "id": "L6OJG4UEDMAD"
      },
      "execution_count": null,
      "outputs": []
    },
    {
      "cell_type": "markdown",
      "source": [
        "**Output:**"
      ],
      "metadata": {
        "id": "tkBCDyn3DZkU"
      }
    },
    {
      "cell_type": "code",
      "source": [
        "Title: 1984, Author: George Orwell, Year Published: 1949\n",
        "Title: To Kill a Mockingbird, Author: Harper Lee, Year Published: 1960\n"
      ],
      "metadata": {
        "id": "ULom8IpeDcI0"
      },
      "execution_count": null,
      "outputs": []
    },
    {
      "cell_type": "markdown",
      "source": [
        "## Q18. Create a class House with attributes address and price. Create a derived class Mansion that adds an attribute number_of_rooms."
      ],
      "metadata": {
        "id": "EO_bUFfQDfYD"
      }
    },
    {
      "cell_type": "code",
      "source": [
        "# Base class\n",
        "class House:\n",
        "    def __init__(self, address, price):\n",
        "        self.address = address\n",
        "        self.price = price\n",
        "\n",
        "    # Method to display house info\n",
        "    def display_info(self):\n",
        "        print(f\"Address: {self.address}, Price: ${self.price}\")\n",
        "\n",
        "# Derived class\n",
        "class Mansion(House):\n",
        "    def __init__(self, address, price, number_of_rooms):\n",
        "        super().__init__(address, price)  # Initialize base class attributes\n",
        "        self.number_of_rooms = number_of_rooms\n",
        "\n",
        "    # Override display_info to include number of rooms\n",
        "    def display_info(self):\n",
        "        super().display_info()\n",
        "        print(f\"Number of Rooms: {self.number_of_rooms}\")\n",
        "\n",
        "# Example usage\n",
        "house = House(\"123 Main St\", 250000)\n",
        "mansion = Mansion(\"456 Luxury Ave\", 2000000, 10)\n",
        "\n",
        "house.display_info()\n",
        "print()\n",
        "mansion.display_info()\n"
      ],
      "metadata": {
        "id": "eyZXfl9vDloM"
      },
      "execution_count": null,
      "outputs": []
    },
    {
      "cell_type": "markdown",
      "source": [
        "**Output:**"
      ],
      "metadata": {
        "id": "aveh9PkWD6EL"
      }
    },
    {
      "cell_type": "code",
      "source": [
        "Address: 123 Main St, Price: $250000\n",
        "\n",
        "Address: 456 Luxury Ave, Price: $2000000\n",
        "Number of Rooms: 10\n"
      ],
      "metadata": {
        "id": "rz1Z6aXrD9Yj"
      },
      "execution_count": null,
      "outputs": []
    }
  ]
}