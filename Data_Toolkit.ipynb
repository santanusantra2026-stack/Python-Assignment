{
  "nbformat": 4,
  "nbformat_minor": 0,
  "metadata": {
    "colab": {
      "provenance": []
    },
    "kernelspec": {
      "name": "python3",
      "display_name": "Python 3"
    },
    "language_info": {
      "name": "python"
    }
  },
  "cells": [
    {
      "cell_type": "markdown",
      "source": [
        "# **Data Toolkit Questions**\n",
        "# ***Data Toolkit Theory Questions***\n"
      ],
      "metadata": {
        "id": "gaXbkwzV-UMB"
      }
    },
    {
      "cell_type": "markdown",
      "source": [
        "## Q1. What is NumPy, and why is it widely used in Python?"
      ],
      "metadata": {
        "id": "SPEQU5VP-_wI"
      }
    },
    {
      "cell_type": "markdown",
      "source": [
        "NumPy (short for Numerical Python) is a powerful open-source library in Python used for numerical and scientific computing. It provides efficient tools for working with large, multi-dimensional arrays and matrices, along with a collection of high-performance mathematical functions to operate on these arrays."
      ],
      "metadata": {
        "id": "m9JblTCB_Wwe"
      }
    },
    {
      "cell_type": "markdown",
      "source": [
        "### **Key Features of NumPy**\n",
        "\n",
        "**1. N-dimensional Array Object (ndarray)**\n",
        "\n",
        "The core feature of NumPy is its powerful ndarray, a fast, flexible container for large data sets of homogeneous types (e.g., all floats or all ints).\n",
        "\n",
        "It supports element-wise operations, slicing, broadcasting, and vectorization.\n",
        "\n",
        "**2. Performance**\n",
        "\n",
        "NumPy is implemented in C, which makes it much faster than native Python lists for numerical operations.\n",
        "\n",
        "It uses vectorized operations (no need for explicit Python loops).\n",
        "\n",
        "**3. Mathematical Functions**\n",
        "\n",
        "Provides functions for linear algebra, Fourier transforms, random number generation, statistics, etc.\n",
        "\n",
        "Examples: numpy.dot(), numpy.linalg.inv(), numpy.fft.fft(), numpy.mean().\n",
        "\n",
        "**4. Broadcasting**\n",
        "\n",
        "Allows arithmetic operations between arrays of different shapes, making code shorter and faster.\n",
        "\n",
        "**5. Integration**\n",
        "\n",
        "- Works seamlessly with other Python libraries such as:\n",
        "\n",
        "- Pandas (data analysis)\n",
        "\n",
        "- Matplotlib (plotting)\n",
        "\n",
        "- SciPy (scientific computing)\n",
        "\n",
        "- TensorFlow / PyTorch (machine learning)"
      ],
      "metadata": {
        "id": "3AgA6A1P_ks-"
      }
    },
    {
      "cell_type": "markdown",
      "source": [
        "### **Why NumPy Is Widely Used**"
      ],
      "metadata": {
        "id": "E8HVfSvPAOOf"
      }
    },
    {
      "cell_type": "code",
      "source": [
        "| Advantage             | Explanation                                                                                      |\n",
        "| --------------------- | ------------------------------------------------------------------------------------------------ |\n",
        "| **Speed**             | NumPy operations run much faster than equivalent Python loops because they use optimized C code. |\n",
        "| **Convenience**       | Clean, readable syntax for array operations without writing explicit loops.                      |\n",
        "| **Interoperability**  | Foundation for many data science and ML libraries.                                               |\n",
        "| **Memory Efficiency** | Stores data more compactly than Python lists.                                                    |\n",
        "| **Vectorization**     | Allows you to perform batch operations on entire datasets efficiently.                           |\n"
      ],
      "metadata": {
        "id": "sxhImbOwALRP"
      },
      "execution_count": null,
      "outputs": []
    },
    {
      "cell_type": "markdown",
      "source": [
        "### **Example**"
      ],
      "metadata": {
        "id": "iHY9Iqq-AS4u"
      }
    },
    {
      "cell_type": "code",
      "source": [
        "import numpy as np\n",
        "\n",
        "# Create a 2D array\n",
        "a = np.array([[1, 2, 3], [4, 5, 6]])\n",
        "\n",
        "# Perform operations\n",
        "print(a + 10)          # Add 10 to each element\n",
        "print(a.mean())        # Compute the mean\n",
        "print(a @ a.T)         # Matrix multiplication\n"
      ],
      "metadata": {
        "id": "pD8mwWPeAWt2"
      },
      "execution_count": null,
      "outputs": []
    },
    {
      "cell_type": "markdown",
      "source": [
        "**Output:**"
      ],
      "metadata": {
        "id": "yVlmMX0xAZbJ"
      }
    },
    {
      "cell_type": "code",
      "source": [
        "[[11 12 13]\n",
        " [14 15 16]]\n",
        "3.5\n",
        "[[14 32]\n",
        " [32 77]]\n"
      ],
      "metadata": {
        "id": "c8HwaFWdAcc4"
      },
      "execution_count": null,
      "outputs": []
    },
    {
      "cell_type": "markdown",
      "source": [
        "## Q2. How does broadcasting work in NumPy?"
      ],
      "metadata": {
        "id": "bzZrlk3_AjS-"
      }
    },
    {
      "cell_type": "markdown",
      "source": [
        "### **What Is Broadcasting?**\n",
        "\n",
        "Broadcasting is NumPy’s way of making arrays with different shapes compatible for element-wise operations.\n",
        "\n",
        "When performing arithmetic operations (+, -, *, /, etc.) between two arrays, NumPy automatically “stretches” the smaller array along its dimensions to match the shape of the larger one — without actually copying the data in memory."
      ],
      "metadata": {
        "id": "k_8mz2qmAtf_"
      }
    },
    {
      "cell_type": "markdown",
      "source": [
        "### **Broadcasting Rules**\n",
        "\n",
        "When NumPy operates on two arrays, it compares their shapes (tuples of dimensions) element by element, starting from the trailing (rightmost) dimension.\n",
        "\n",
        "Two dimensions are compatible when:\n",
        "\n",
        "1. They are equal, or\n",
        "\n",
        "2. One of them is 1\n",
        "\n",
        "If all dimensions are compatible according to these rules, NumPy can broadcast them."
      ],
      "metadata": {
        "id": "54-TDgAHA-MQ"
      }
    },
    {
      "cell_type": "markdown",
      "source": [
        "### **Examples**\n",
        "**Example 1: Simple Scalar Broadcasting**"
      ],
      "metadata": {
        "id": "N9ql5_b2BIEm"
      }
    },
    {
      "cell_type": "code",
      "source": [
        "import numpy as np\n",
        "\n",
        "a = np.array([1, 2, 3])\n",
        "b = 2\n",
        "\n",
        "print(a * b)\n"
      ],
      "metadata": {
        "id": "Ix2svWJNBMt_"
      },
      "execution_count": null,
      "outputs": []
    },
    {
      "cell_type": "markdown",
      "source": [
        "### **How it works:**"
      ],
      "metadata": {
        "id": "vh8oMbaFBK_f"
      }
    },
    {
      "cell_type": "markdown",
      "source": [
        "- a.shape → (3,)\n",
        "\n",
        "- b.shape → ()\n",
        "\n",
        "- NumPy “stretches” b to (3,)"
      ],
      "metadata": {
        "id": "u-8csOoRBSN_"
      }
    },
    {
      "cell_type": "markdown",
      "source": [
        "**Output:**"
      ],
      "metadata": {
        "id": "mPaIcj60Ba1X"
      }
    },
    {
      "cell_type": "code",
      "source": [
        "[2 4 6]\n"
      ],
      "metadata": {
        "id": "gTeeUbHvBj2v"
      },
      "execution_count": null,
      "outputs": []
    },
    {
      "cell_type": "markdown",
      "source": [
        "### **Example 2: Row Vector + Column Vector**"
      ],
      "metadata": {
        "id": "jDzKXBpwBl_-"
      }
    },
    {
      "cell_type": "code",
      "source": [
        "a = np.array([[1], [2], [3]])  # shape (3,1)\n",
        "b = np.array([10, 20, 30])     # shape (3,)\n",
        "\n",
        "print(a + b)\n"
      ],
      "metadata": {
        "id": "3GO3IkJrBp7h"
      },
      "execution_count": null,
      "outputs": []
    },
    {
      "cell_type": "markdown",
      "source": [
        "**How it works:**\n",
        "- a shape → (3,1)\n",
        "\n",
        "- b shape → (3,) → treated as (1,3)\n",
        "\n",
        "- After broadcasting → (3,3)"
      ],
      "metadata": {
        "id": "NHNPH2teBsFX"
      }
    },
    {
      "cell_type": "markdown",
      "source": [
        "**Output:**"
      ],
      "metadata": {
        "id": "Bk-fki5eB5s6"
      }
    },
    {
      "cell_type": "code",
      "source": [
        "[[11 21 31]\n",
        " [12 22 32]\n",
        " [13 23 33]]\n"
      ],
      "metadata": {
        "id": "i-BD-x1gBvqg"
      },
      "execution_count": null,
      "outputs": []
    },
    {
      "cell_type": "markdown",
      "source": [
        "### **Example 3: 2D + 1D (Column Broadcasting)**"
      ],
      "metadata": {
        "id": "LBena21cB8pv"
      }
    },
    {
      "cell_type": "code",
      "source": [
        "a = np.array([[1, 2, 3],\n",
        "              [4, 5, 6]])\n",
        "b = np.array([10, 20, 30])\n",
        "\n",
        "print(a + b)\n"
      ],
      "metadata": {
        "id": "oKdfqwnPCAQf"
      },
      "execution_count": null,
      "outputs": []
    },
    {
      "cell_type": "markdown",
      "source": [
        "### **How it works:**\n",
        "\n",
        "- a shape → (2,3)\n",
        "\n",
        "- b shape → (3,)\n",
        "\n",
        "- b is broadcast to (2,3)"
      ],
      "metadata": {
        "id": "tMHXXkIFCB33"
      }
    },
    {
      "cell_type": "markdown",
      "source": [
        "**Output:**"
      ],
      "metadata": {
        "id": "mth3I8ydCKRX"
      }
    },
    {
      "cell_type": "code",
      "source": [
        "[[11 22 33]\n",
        " [14 25 36]]\n"
      ],
      "metadata": {
        "id": "ELtSPJqqCNQH"
      },
      "execution_count": null,
      "outputs": []
    },
    {
      "cell_type": "markdown",
      "source": [
        "### **When Broadcasting Fails**"
      ],
      "metadata": {
        "id": "ObahBQpJCQCX"
      }
    },
    {
      "cell_type": "markdown",
      "source": [
        "If the shapes aren’t compatible (cannot satisfy the rules), NumPy raises a ValueError.\n",
        "\n",
        "Example:"
      ],
      "metadata": {
        "id": "pyYyyFOfCV6v"
      }
    },
    {
      "cell_type": "code",
      "source": [
        "a = np.ones((3, 2))\n",
        "b = np.ones((3, 3))\n",
        "\n",
        "a + b  # ❌ incompatible shapes\n"
      ],
      "metadata": {
        "id": "q34SvcQrCTKH"
      },
      "execution_count": null,
      "outputs": []
    },
    {
      "cell_type": "markdown",
      "source": [
        "Error:"
      ],
      "metadata": {
        "id": "llFQ04jhCZLI"
      }
    },
    {
      "cell_type": "code",
      "source": [
        "ValueError: operands could not be broadcast together with shapes (3,2) (3,3)\n"
      ],
      "metadata": {
        "id": "JnjIcjPfCbk4"
      },
      "execution_count": null,
      "outputs": []
    },
    {
      "cell_type": "markdown",
      "source": [
        "## Q3. What is a Pandas DataFrame?"
      ],
      "metadata": {
        "id": "l33RCbRyFTDQ"
      }
    },
    {
      "cell_type": "markdown",
      "source": [
        "A Pandas DataFrame is a 2D labeled data structure (like an Excel sheet) used for storing and manipulating tabular data in Python.\n",
        "\n",
        "Built on NumPy, it allows each column to have a different data type.\n",
        "\n",
        "Columns = Series, Rows = Records."
      ],
      "metadata": {
        "id": "Od6Q4nzqCdDf"
      }
    },
    {
      "cell_type": "markdown",
      "source": [
        "### **Example:**"
      ],
      "metadata": {
        "id": "SbZOsEuuFiHA"
      }
    },
    {
      "cell_type": "code",
      "source": [
        "import pandas as pd\n",
        "data = {'Name': ['Alice', 'Bob'], 'Age': [25, 30]}\n",
        "df = pd.DataFrame(data)\n",
        "print(df)\n"
      ],
      "metadata": {
        "id": "UHp3JEWdFkWg"
      },
      "execution_count": null,
      "outputs": []
    },
    {
      "cell_type": "markdown",
      "source": [
        "**Output:**"
      ],
      "metadata": {
        "id": "Gn_I5oq8FmOw"
      }
    },
    {
      "cell_type": "code",
      "source": [
        "   Name  Age\n",
        "0  Alice   25\n",
        "1    Bob   30\n"
      ],
      "metadata": {
        "id": "_C_ieZhxFo1w"
      },
      "execution_count": null,
      "outputs": []
    },
    {
      "cell_type": "markdown",
      "source": [
        "### **Key Features:**\n",
        "\n",
        "- Easy data selection: df['Age'], df.loc[0]\n",
        "\n",
        "- Filtering: df[df['Age'] > 25]\n",
        "\n",
        "- Stats: df.describe()\n",
        "\n",
        "- File I/O: pd.read_csv(), df.to_excel()"
      ],
      "metadata": {
        "id": "UQWNkvBDFqjE"
      }
    },
    {
      "cell_type": "markdown",
      "source": [
        "### **In short:**\n",
        "A DataFrame is a fast, flexible, and user-friendly structure for data analysis — the backbone of Python data science."
      ],
      "metadata": {
        "id": "yc_MdcpbFy84"
      }
    },
    {
      "cell_type": "markdown",
      "source": [
        "## Q4. Explain the use of the groupby() method in Pandas."
      ],
      "metadata": {
        "id": "o1UnBdrWF33A"
      }
    },
    {
      "cell_type": "markdown",
      "source": [
        "The groupby() method in Pandas is used to split data into groups, apply a function, and combine the results — a process often called “split-apply-combine.”\n",
        "\n",
        "It’s great for summarizing or analyzing data by categories (like “group by” in SQL or Excel Pivot Tables)."
      ],
      "metadata": {
        "id": "vl-PteTbHCMR"
      }
    },
    {
      "cell_type": "markdown",
      "source": [
        "### **Basic Syntax**"
      ],
      "metadata": {
        "id": "87bQeVhYHMTJ"
      }
    },
    {
      "cell_type": "code",
      "source": [
        "df.groupby('column_name')\n"
      ],
      "metadata": {
        "id": "37mgj7vsHPlB"
      },
      "execution_count": null,
      "outputs": []
    },
    {
      "cell_type": "markdown",
      "source": [
        "You can then apply functions like sum(), mean(), count(), etc."
      ],
      "metadata": {
        "id": "BbP5H21HHRlZ"
      }
    },
    {
      "cell_type": "markdown",
      "source": [
        "### **Example**"
      ],
      "metadata": {
        "id": "EwELtEAIHTxR"
      }
    },
    {
      "cell_type": "code",
      "source": [
        "import pandas as pd\n",
        "\n",
        "data = {'Department': ['HR', 'HR', 'IT', 'IT', 'Sales'],\n",
        "        'Salary': [4000, 4500, 6000, 6500, 5500]}\n",
        "\n",
        "df = pd.DataFrame(data)\n",
        "\n",
        "grouped = df.groupby('Department')['Salary'].mean()\n",
        "print(grouped)\n"
      ],
      "metadata": {
        "id": "AEHQHWURHXRa"
      },
      "execution_count": null,
      "outputs": []
    },
    {
      "cell_type": "markdown",
      "source": [
        "**Output:**"
      ],
      "metadata": {
        "id": "qPVmb4F1HZLp"
      }
    },
    {
      "cell_type": "code",
      "source": [
        "Department\n",
        "HR       4250.0\n",
        "IT       6250.0\n",
        "Sales    5500.0\n",
        "Name: Salary, dtype: float64\n"
      ],
      "metadata": {
        "id": "w8J0kWQwHb-J"
      },
      "execution_count": null,
      "outputs": []
    },
    {
      "cell_type": "markdown",
      "source": [
        "### **Common Operations**"
      ],
      "metadata": {
        "id": "C582dm9yHdx5"
      }
    },
    {
      "cell_type": "code",
      "source": [
        "| Operation        | Example                                                  | Description              |\n",
        "| ---------------- | -------------------------------------------------------- | ------------------------ |\n",
        "| **Mean**         | `df.groupby('Dept')['Salary'].mean()`                    | Avg salary per dept      |\n",
        "| **Count**        | `df.groupby('Dept').count()`                             | Count of rows per group  |\n",
        "| **Sum**          | `df.groupby('Dept')['Salary'].sum()`                     | Total salary per dept    |\n",
        "| **Multiple agg** | `df.groupby('Dept')['Salary'].agg(['min','max','mean'])` | Multiple stats per group |\n"
      ],
      "metadata": {
        "id": "OF3Dz4RwHh4y"
      },
      "execution_count": null,
      "outputs": []
    },
    {
      "cell_type": "markdown",
      "source": [
        "### **In Short**\n",
        "\n",
        "groupby() lets you easily analyze, summarize, and transform data by groups — making it one of the most powerful tools in Pandas for data analysis."
      ],
      "metadata": {
        "id": "qxtZB0HdHj9q"
      }
    },
    {
      "cell_type": "markdown",
      "source": [
        "## Q5. Why is Seaborn preferred for statistical visualizations?"
      ],
      "metadata": {
        "id": "WQA8W-a8HoGB"
      }
    },
    {
      "cell_type": "markdown",
      "source": [
        "Seaborn is preferred for statistical visualizations in Python because it’s built specifically to make data exploration and statistical analysis easier and more visually appealing than with plain Matplotlib."
      ],
      "metadata": {
        "id": "cWPmV_zaHvyp"
      }
    },
    {
      "cell_type": "markdown",
      "source": [
        "### **Key Reasons Seaborn Is Preferred**\n",
        "\n",
        "**1. High-Level Interface**\n",
        "\n",
        "- Simplifies complex plots with concise code.\n",
        "\n",
        "- Example:"
      ],
      "metadata": {
        "id": "P4PDNOyZH5_5"
      }
    },
    {
      "cell_type": "code",
      "source": [
        "import seaborn as sns\n",
        "sns.boxplot(x='category', y='value', data=df)\n"
      ],
      "metadata": {
        "id": "Kf2nvie3ICzy"
      },
      "execution_count": null,
      "outputs": []
    },
    {
      "cell_type": "markdown",
      "source": [
        "**2. Beautiful Default Styles**\n",
        "\n",
        "- Automatically applies elegant color palettes and layouts for publication-quality visuals.\n",
        "\n",
        "**3. Built-in Statistical Support**\n",
        "\n",
        "- Handles common statistical tasks like:\n",
        "\n",
        "- Regression (sns.regplot())\n",
        "\n",
        "- Distribution (sns.histplot(), sns.kdeplot())\n",
        "\n",
        "- Categorical comparisons (sns.boxplot(), sns.violinplot())"
      ],
      "metadata": {
        "id": "EA8UK831IDab"
      }
    },
    {
      "cell_type": "markdown",
      "source": [
        "**4. Integration with Pandas**\n",
        "\n",
        "- Works directly with DataFrames — no need for manual array handling.\n",
        "\n",
        "**5. Automatic Aggregation**\n",
        "\n",
        "- Can compute summary statistics (like means, confidence intervals) automatically.\n",
        "\n",
        "**6. Complex Plots Made Easy**\n",
        "\n",
        "- Easily create heatmaps, pair plots, and multi-variable relationships (sns.pairplot(), sns.heatmap())."
      ],
      "metadata": {
        "id": "jpX-t8FGIiSi"
      }
    },
    {
      "cell_type": "markdown",
      "source": [
        "### **In Short**\n",
        "\n",
        "Seaborn is preferred because it combines statistical intelligence, aesthetic design, and ease of use, making it perfect for data exploration and storytelling through visuals."
      ],
      "metadata": {
        "id": "jSz99tWiI6Xi"
      }
    },
    {
      "cell_type": "markdown",
      "source": [
        "## Q6. What are the differences between NumPy arrays and Python list?"
      ],
      "metadata": {
        "id": "tS_Gidg-I_iy"
      }
    },
    {
      "cell_type": "markdown",
      "source": [
        "Here’s a clear comparison between NumPy arrays and Python lists:"
      ],
      "metadata": {
        "id": "1lLd_cXOJNJ7"
      }
    },
    {
      "cell_type": "code",
      "source": [
        "| Feature                     | **NumPy Array**                                              | **Python List**                                    |\n",
        "| --------------------------- | ------------------------------------------------------------ | -------------------------------------------------- |\n",
        "| **Data Type**               | Homogeneous (all elements must be of the same type)          | Heterogeneous (can store different data types)     |\n",
        "| **Performance**             | Much faster (uses C-based vectorized operations)             | Slower (interpreted Python loops)                  |\n",
        "| **Memory Usage**            | More efficient (compact storage)                             | Less efficient (stores type info for each element) |\n",
        "| **Mathematical Operations** | Supports element-wise operations directly (`a + b`, `a * 2`) | Requires loops or list comprehensions              |\n",
        "| **Dimensionality**          | Supports multi-dimensional arrays (matrices, tensors)        | Only 1D (nested lists needed for 2D)               |\n",
        "| **Functionality**           | Rich library for linear algebra, stats, etc.                 | Limited built-in functionality                     |\n",
        "| **Broadcasting**            | Automatically expands dimensions for compatible shapes       | Not supported                                      |\n"
      ],
      "metadata": {
        "id": "eJwS89QqJZPy"
      },
      "execution_count": null,
      "outputs": []
    },
    {
      "cell_type": "markdown",
      "source": [
        "### **Example:**"
      ],
      "metadata": {
        "id": "4lA5GweHJhWS"
      }
    },
    {
      "cell_type": "code",
      "source": [
        "import numpy as np\n",
        "\n",
        "# NumPy array\n",
        "a = np.array([1, 2, 3])\n",
        "print(a * 2)  # [2 4 6]\n",
        "\n",
        "# Python list\n",
        "b = [1, 2, 3]\n",
        "print([x * 2 for x in b])  # [2, 4, 6]\n"
      ],
      "metadata": {
        "id": "jhkfU-ciJnQj"
      },
      "execution_count": null,
      "outputs": []
    },
    {
      "cell_type": "markdown",
      "source": [
        "### **In Short**\n",
        "\n",
        "- Use Python lists for general-purpose data storage.\n",
        "\n",
        "- Use NumPy arrays for numerical computations — they’re faster, smaller, and more powerful."
      ],
      "metadata": {
        "id": "d7nf-ZRJJpM6"
      }
    },
    {
      "cell_type": "markdown",
      "source": [
        "## Q7. What is a heatmap, and when should it be used?"
      ],
      "metadata": {
        "id": "xQz9aSJiJw3T"
      }
    },
    {
      "cell_type": "markdown",
      "source": [
        "A heatmap is a data visualization that uses color intensity to represent the magnitude of values in a matrix or 2D dataset.\n",
        "\n",
        "It’s a powerful way to see patterns, correlations, or anomalies at a glance — especially in large datasets."
      ],
      "metadata": {
        "id": "agDF0TTcJ4yi"
      }
    },
    {
      "cell_type": "markdown",
      "source": [
        "### **Definition**\n",
        "\n",
        "A heatmap displays data where:\n",
        "\n",
        "- Each cell represents a value.\n",
        "\n",
        "- Color shows how large or small that value is (e.g., darker = higher)."
      ],
      "metadata": {
        "id": "8UzhmpuyKATC"
      }
    },
    {
      "cell_type": "markdown",
      "source": [
        "### **Example (with Seaborn)**"
      ],
      "metadata": {
        "id": "-RhrRduhKF88"
      }
    },
    {
      "cell_type": "code",
      "source": [
        "import seaborn as sns\n",
        "import numpy as np\n",
        "import matplotlib.pyplot as plt\n",
        "\n",
        "data = np.random.rand(4, 5)\n",
        "sns.heatmap(data, annot=True, cmap='coolwarm')\n",
        "plt.show()\n"
      ],
      "metadata": {
        "id": "GrrS2DgbKKCD"
      },
      "execution_count": null,
      "outputs": []
    },
    {
      "cell_type": "markdown",
      "source": [
        "This creates a 4×5 grid where color intensity indicates the magnitude of each number."
      ],
      "metadata": {
        "id": "XMezyrNvKL96"
      }
    },
    {
      "cell_type": "markdown",
      "source": [
        "### **When to Use a Heatmap**\n",
        "\n",
        "- To show correlations between variables (e.g., sns.heatmap(df.corr()))\n",
        "\n",
        "- To visualize confusion matrices in machine learning\n",
        "\n",
        "- To compare many values at once in a table\n",
        "\n",
        "- To spot patterns or clusters in large datasets"
      ],
      "metadata": {
        "id": "9L7rcqm-KOOy"
      }
    },
    {
      "cell_type": "markdown",
      "source": [
        "### **In Short**\n",
        "\n",
        "A heatmap turns numeric data into a color-coded visual summary, making it ideal for identifying trends, relationships, and outliers in 2D data."
      ],
      "metadata": {
        "id": "ekwHMZWwKZpj"
      }
    },
    {
      "cell_type": "markdown",
      "source": [
        "## Q8. What does the term “vectorized operation” mean in NumPy?"
      ],
      "metadata": {
        "id": "E2ey46qCKcmL"
      }
    },
    {
      "cell_type": "markdown",
      "source": [
        "In NumPy, a vectorized operation means performing an operation on entire arrays (vectors, matrices, etc.) at once, without using explicit Python loops.\n",
        "\n",
        "These operations are executed using fast, low-level C code, making them much faster and more efficient than looping through elements manually."
      ],
      "metadata": {
        "id": "rULLAqTOPU4E"
      }
    },
    {
      "cell_type": "markdown",
      "source": [
        "### **Example**"
      ],
      "metadata": {
        "id": "8GFBdeesPfd1"
      }
    },
    {
      "cell_type": "code",
      "source": [
        "import numpy as np\n",
        "\n",
        "a = np.array([1, 2, 3, 4])\n",
        "\n",
        "# Vectorized operation\n",
        "b = a * 2\n",
        "print(b)\n"
      ],
      "metadata": {
        "id": "G1vd4bPgPi99"
      },
      "execution_count": null,
      "outputs": []
    },
    {
      "cell_type": "markdown",
      "source": [
        "**Output:**"
      ],
      "metadata": {
        "id": "of8ybAysPmj_"
      }
    },
    {
      "cell_type": "code",
      "source": [
        "[2 4 6 8]\n"
      ],
      "metadata": {
        "id": "9hkjXhVDPoFm"
      },
      "execution_count": null,
      "outputs": []
    },
    {
      "cell_type": "markdown",
      "source": [
        "NumPy multiplies all elements by 2 in one step — no loop needed."
      ],
      "metadata": {
        "id": "DQliGWChPp3-"
      }
    },
    {
      "cell_type": "markdown",
      "source": [
        "### **Without Vectorization (Plain Python)**"
      ],
      "metadata": {
        "id": "_RHRUYw1PtrV"
      }
    },
    {
      "cell_type": "code",
      "source": [
        "lst = [1, 2, 3, 4]\n",
        "result = [x * 2 for x in lst]\n"
      ],
      "metadata": {
        "id": "wSJz9u2EPyBl"
      },
      "execution_count": null,
      "outputs": []
    },
    {
      "cell_type": "markdown",
      "source": [
        "This uses an explicit loop, which is slower and less concise."
      ],
      "metadata": {
        "id": "j63ySZGFPzzW"
      }
    },
    {
      "cell_type": "markdown",
      "source": [
        "### **Benefits of Vectorized Operations**"
      ],
      "metadata": {
        "id": "n2icVh05P12N"
      }
    },
    {
      "cell_type": "code",
      "source": [
        "| Benefit        | Description                                            |\n",
        "| -------------- | ------------------------------------------------------ |\n",
        "| **Speed**      | Uses optimized C code — much faster than Python loops. |\n",
        "| **Simplicity** | Cleaner, more readable syntax.                         |\n",
        "| **Efficiency** | Minimizes memory overhead and intermediate steps.      |\n"
      ],
      "metadata": {
        "id": "kM8bLBxIP55V"
      },
      "execution_count": null,
      "outputs": []
    },
    {
      "cell_type": "markdown",
      "source": [
        "### **In Short**\n",
        "\n",
        "A vectorized operation in NumPy means performing mathematical operations on whole arrays at once, making your code faster, cleaner, and more efficient."
      ],
      "metadata": {
        "id": "5y7MZ07lP790"
      }
    },
    {
      "cell_type": "markdown",
      "source": [
        "## Q9. How does Matplotlib differ from Plotly?"
      ],
      "metadata": {
        "id": "btFhnBS6QAA9"
      }
    },
    {
      "cell_type": "markdown",
      "source": [
        "Here’s a clear comparison between Matplotlib and Plotly, two popular Python libraries for data visualization 👇"
      ],
      "metadata": {
        "id": "Pkr_yE_9QJBe"
      }
    },
    {
      "cell_type": "code",
      "source": [
        "| Feature           | **Matplotlib**                            | **Plotly**                                                     |\n",
        "| ----------------- | ----------------------------------------- | -------------------------------------------------------------- |\n",
        "| **Type**          | Static, 2D plotting library               | Interactive, web-based plotting library                        |\n",
        "| **Interactivity** | Limited (mostly static images)            | Highly interactive (hover, zoom, click)                        |\n",
        "| **Ease of Use**   | Requires more code for styling and layout | Easier to create attractive plots quickly                      |\n",
        "| **Customization** | Extremely flexible and detailed control   | Limited deep customization (but visually appealing by default) |\n",
        "| **Output Format** | Static images (PNG, PDF, SVG)             | Interactive HTML, web dashboards                               |\n",
        "| **Use Cases**     | Scientific publications, static reports   | Dashboards, data exploration, web apps                         |\n",
        "| **Integration**   | Works well with Seaborn and Pandas        | Integrates with Dash for interactive web apps                  |\n"
      ],
      "metadata": {
        "id": "2070EL8PQTbm"
      },
      "execution_count": null,
      "outputs": []
    },
    {
      "cell_type": "markdown",
      "source": [
        "### **Example Comparison**\n",
        "**Matplotlib:**"
      ],
      "metadata": {
        "id": "HbQpzk3IQRsl"
      }
    },
    {
      "cell_type": "code",
      "source": [
        "import matplotlib.pyplot as plt\n",
        "\n",
        "plt.plot([1, 2, 3], [4, 5, 6])\n",
        "plt.title(\"Matplotlib Plot\")\n",
        "plt.show()\n"
      ],
      "metadata": {
        "id": "oqjZWyVmQZWO"
      },
      "execution_count": null,
      "outputs": []
    },
    {
      "cell_type": "markdown",
      "source": [
        "**Plotly:**"
      ],
      "metadata": {
        "id": "eN7da-xIQfke"
      }
    },
    {
      "cell_type": "code",
      "source": [
        "import plotly.express as px\n",
        "\n",
        "fig = px.line(x=[1, 2, 3], y=[4, 5, 6], title=\"Plotly Plot\")\n",
        "fig.show()\n"
      ],
      "metadata": {
        "id": "PHeXjqS_Qiwd"
      },
      "execution_count": null,
      "outputs": []
    },
    {
      "cell_type": "markdown",
      "source": [
        "### **In Short**\n",
        "\n",
        "- Use Matplotlib for static, publication-quality charts.\n",
        "\n",
        "- Use Plotly for interactive, web-ready visualizations and dashboards."
      ],
      "metadata": {
        "id": "k2zpydKbQkpF"
      }
    },
    {
      "cell_type": "markdown",
      "source": [
        "## Q10. What is the significance of hierarchical indexing in Pandas?"
      ],
      "metadata": {
        "id": "R2Ntu2oCQsSe"
      }
    },
    {
      "cell_type": "markdown",
      "source": [
        "Hierarchical indexing (or MultiIndex) in Pandas allows a DataFrame or Series to have multiple levels of row or column labels, enabling more complex and structured data organization.\n",
        "\n",
        "It’s like having nested labels, which is useful for working with multi-dimensional data in a 2D structure."
      ],
      "metadata": {
        "id": "iBAHk81RQ2Qe"
      }
    },
    {
      "cell_type": "markdown",
      "source": [
        "### **Key Significance**\n",
        "\n",
        "**1. Organize Complex Data**\n",
        "\n",
        "- Useful when data has multiple categorical variables (e.g., Year → Month → Day).\n",
        "\n",
        "**2. Powerful Data Selection**\n",
        "\n",
        "- Allows slicing and querying at different levels efficiently.\n",
        "\n",
        "**3. Aggregation and Grouping**\n",
        "\n",
        "- Simplifies operations like sum(), mean(), or pivoting over multiple categories.\n",
        "\n",
        "**4. Memory Efficient**\n",
        "\n",
        "- Can represent high-dimensional data without creating extra columns."
      ],
      "metadata": {
        "id": "hD4mGxqhQ8i9"
      }
    },
    {
      "cell_type": "markdown",
      "source": [
        "### **Example**"
      ],
      "metadata": {
        "id": "1TnS8MPeRQgF"
      }
    },
    {
      "cell_type": "code",
      "source": [
        "import pandas as pd\n",
        "import numpy as np\n",
        "\n",
        "arrays = [['2023', '2023', '2024', '2024'], ['Jan', 'Feb', 'Jan', 'Feb']]\n",
        "index = pd.MultiIndex.from_arrays(arrays, names=('Year', 'Month'))\n",
        "data = pd.Series([100, 150, 200, 250], index=index)\n",
        "\n",
        "print(data)\n"
      ],
      "metadata": {
        "id": "Ed_FbJ8pRUBO"
      },
      "execution_count": null,
      "outputs": []
    },
    {
      "cell_type": "markdown",
      "source": [
        "**Output:**"
      ],
      "metadata": {
        "id": "C_KulQXeRWLO"
      }
    },
    {
      "cell_type": "code",
      "source": [
        "Year  Month\n",
        "2023  Jan      100\n",
        "      Feb      150\n",
        "2024  Jan      200\n",
        "      Feb      250\n",
        "dtype: int64\n"
      ],
      "metadata": {
        "id": "cTLtWMugRY1V"
      },
      "execution_count": null,
      "outputs": []
    },
    {
      "cell_type": "markdown",
      "source": [
        "Now you can do:"
      ],
      "metadata": {
        "id": "zmKetbpGRaot"
      }
    },
    {
      "cell_type": "code",
      "source": [
        "data['2023']          # All months in 2023\n",
        "data.loc[('2024', 'Feb')]  # Specific year & month\n"
      ],
      "metadata": {
        "id": "7HlJdzHzRfze"
      },
      "execution_count": null,
      "outputs": []
    },
    {
      "cell_type": "markdown",
      "source": [
        "### **In Short**\n",
        "\n",
        "Hierarchical indexing lets Pandas store and manipulate multi-dimensional data elegantly within a 2D table, making grouping, slicing, and aggregation much more intuitive."
      ],
      "metadata": {
        "id": "kN_aUamTRdi5"
      }
    },
    {
      "cell_type": "markdown",
      "source": [
        "## Q11. What is the role of Seaborn’s pairplot() function?"
      ],
      "metadata": {
        "id": "wgHWalklRnB9"
      }
    },
    {
      "cell_type": "markdown",
      "source": [
        "Seaborn’s pairplot() function is used to visualize pairwise relationships in a dataset. It automatically creates a matrix of plots showing scatterplots for each pair of numerical variables and histograms or density plots on the diagonal for individual distributions.\n",
        "\n",
        "It’s extremely useful for exploratory data analysis (EDA) to detect correlations, patterns, and outliers."
      ],
      "metadata": {
        "id": "sT2OkgIgRxCP"
      }
    },
    {
      "cell_type": "markdown",
      "source": [
        "### **Key Features**\n",
        "\n",
        "**1. Scatterplots for each pair of variables**\n",
        "\n",
        "- Shows relationships between two numerical columns.\n",
        "\n",
        "**2. Histograms or KDE plots on the diagonal**\n",
        "\n",
        "- Displays the distribution of each variable.\n",
        "\n",
        "**3. Hue support**\n",
        "\n",
        "- Can color points by a categorical variable for grouping.\n",
        "\n",
        "**4. Quick EDA**\n",
        "\n",
        "Gives a compact overview of variable interactions in one plot."
      ],
      "metadata": {
        "id": "jzcCD6YxR5Wd"
      }
    },
    {
      "cell_type": "markdown",
      "source": [
        "### **Example**"
      ],
      "metadata": {
        "id": "CLs9yz8VSNWG"
      }
    },
    {
      "cell_type": "code",
      "source": [
        "import seaborn as sns\n",
        "import pandas as pd\n",
        "\n",
        "df = sns.load_dataset('iris')\n",
        "\n",
        "# Pairplot with color by species\n",
        "sns.pairplot(df, hue='species')\n"
      ],
      "metadata": {
        "id": "n4S0BrvLSO-o"
      },
      "execution_count": null,
      "outputs": []
    },
    {
      "cell_type": "markdown",
      "source": [
        "**What it does:**\n",
        "\n",
        "- Diagonal: histograms of sepal_length, sepal_width, etc.\n",
        "\n",
        "- Off-diagonal: scatterplots of every variable against every other.\n",
        "\n",
        "- Colors points by species."
      ],
      "metadata": {
        "id": "OO_9QIdNSQzt"
      }
    },
    {
      "cell_type": "markdown",
      "source": [
        "### **In Short**\n",
        "\n",
        "pairplot() is a fast way to visualize relationships and distributions among multiple variables in a dataset, making it a go-to tool for exploratory data analysis."
      ],
      "metadata": {
        "id": "msEKx2yHSbsV"
      }
    },
    {
      "cell_type": "markdown",
      "source": [
        "## Q12. What is the purpose of the describe() function in Pandas?"
      ],
      "metadata": {
        "id": "VpkU4x7vSfrH"
      }
    },
    {
      "cell_type": "markdown",
      "source": [
        "The describe() function in Pandas is used to generate summary statistics of a DataFrame or Series. It provides a quick overview of the data’s distribution, central tendency, and spread, which is very useful for exploratory data analysis (EDA)."
      ],
      "metadata": {
        "id": "tLbe9JPXSnay"
      }
    },
    {
      "cell_type": "markdown",
      "source": [
        "### **Key Features**\n",
        "\n",
        "For numeric data, describe() returns:"
      ],
      "metadata": {
        "id": "fu4p_vq2Svou"
      }
    },
    {
      "cell_type": "code",
      "source": [
        "| Statistic | Description                    |\n",
        "| --------- | ------------------------------ |\n",
        "| `count`   | Number of non-missing values   |\n",
        "| `mean`    | Average value                  |\n",
        "| `std`     | Standard deviation             |\n",
        "| `min`     | Minimum value                  |\n",
        "| `25%`     | 1st quartile (25th percentile) |\n",
        "| `50%`     | Median (50th percentile)       |\n",
        "| `75%`     | 3rd quartile (75th percentile) |\n",
        "| `max`     | Maximum value                  |\n"
      ],
      "metadata": {
        "id": "nde2ndHjS3fH"
      },
      "execution_count": null,
      "outputs": []
    },
    {
      "cell_type": "markdown",
      "source": [
        "For categorical data (object or category dtype), it returns:\n",
        "\n",
        "- count — number of non-missing values\n",
        "\n",
        "- unique — number of unique categories\n",
        "\n",
        "- top — most frequent value\n",
        "\n",
        "- freq — frequency of the top value"
      ],
      "metadata": {
        "id": "RqLwWQViS4ju"
      }
    },
    {
      "cell_type": "markdown",
      "source": [
        "### **Example**"
      ],
      "metadata": {
        "id": "r5B320uLS_Em"
      }
    },
    {
      "cell_type": "code",
      "source": [
        "import pandas as pd\n",
        "\n",
        "data = {'Age': [25, 30, 22, 35, 28],\n",
        "        'Salary': [5000, 6000, 4500, 7000, 5200]}\n",
        "\n",
        "df = pd.DataFrame(data)\n",
        "\n",
        "print(df.describe())\n"
      ],
      "metadata": {
        "id": "oZYUn2QoTDYO"
      },
      "execution_count": null,
      "outputs": []
    },
    {
      "cell_type": "markdown",
      "source": [
        "**Output:**"
      ],
      "metadata": {
        "id": "Z1R_E--qTFVU"
      }
    },
    {
      "cell_type": "code",
      "source": [
        "             Age       Salary\n",
        "count   5.000000     5.000000\n",
        "mean   28.000000  5540.000000\n",
        "std     4.183301   899.998889\n",
        "min    22.000000  4500.000000\n",
        "25%    25.000000  5000.000000\n",
        "50%    28.000000  5200.000000\n",
        "75%    30.000000  6000.000000\n",
        "max    35.000000  7000.000000\n"
      ],
      "metadata": {
        "id": "p3TlrYc5TH0G"
      },
      "execution_count": null,
      "outputs": []
    },
    {
      "cell_type": "markdown",
      "source": [
        "### **In Short**\n",
        "\n",
        "describe() provides a fast, comprehensive summary of your data, helping you understand its distribution, central values, and spread with a single command."
      ],
      "metadata": {
        "id": "RTcOI3HoTJj2"
      }
    },
    {
      "cell_type": "markdown",
      "source": [
        "## Q13. Why is handling missing data important in Pandas?"
      ],
      "metadata": {
        "id": "J9gir1lVTOIZ"
      }
    },
    {
      "cell_type": "markdown",
      "source": [
        "Handling missing data is crucial in Pandas because missing or NaN values can break analysis, lead to incorrect results, or cause errors in computations and visualizations. Proper handling ensures data integrity and accurate insights."
      ],
      "metadata": {
        "id": "KgXoLSx-TVAm"
      }
    },
    {
      "cell_type": "markdown",
      "source": [
        "### **Key Reasons**\n",
        "\n",
        "**1. Prevent Errors**\n",
        "\n",
        "- Many functions (e.g., mathematical operations, machine learning models) fail or give inaccurate results if NaN values exist.\n",
        "\n",
        "**2. Accurate Statistics**\n",
        "\n",
        "- Calculating mean, sum, or correlations with missing data may produce misleading results.\n",
        "\n",
        "**3. Data Consistency**\n",
        "\n",
        "- Cleaning missing values ensures that datasets are consistent and ready for analysis.\n",
        "\n",
        "**4. Better Modeling**\n",
        "\n",
        "- Machine learning algorithms typically cannot handle missing values directly."
      ],
      "metadata": {
        "id": "MchEWG2ATZzx"
      }
    },
    {
      "cell_type": "markdown",
      "source": [
        "### **Common Handling Methods in Pandas**"
      ],
      "metadata": {
        "id": "5RI2qnUVTsaI"
      }
    },
    {
      "cell_type": "code",
      "source": [
        "| Method                    | Example                     | Description                                   |\n",
        "| ------------------------- | --------------------------- | --------------------------------------------- |\n",
        "| **Drop missing**          | `df.dropna()`               | Removes rows or columns with `NaN` values     |\n",
        "| **Fill missing**          | `df.fillna(0)`              | Replace `NaN` with a specific value           |\n",
        "| **Forward/Backward Fill** | `df.fillna(method='ffill')` | Propagate previous/next values                |\n",
        "| **Interpolation**         | `df.interpolate()`          | Estimate missing values from surrounding data |\n"
      ],
      "metadata": {
        "id": "fmuuzDPTTvd2"
      },
      "execution_count": null,
      "outputs": []
    },
    {
      "cell_type": "markdown",
      "source": [
        "### **Example**"
      ],
      "metadata": {
        "id": "hX2Xij69TwQ-"
      }
    },
    {
      "cell_type": "code",
      "source": [
        "import pandas as pd\n",
        "import numpy as np\n",
        "\n",
        "df = pd.DataFrame({'A': [1, np.nan, 3], 'B': [4, 5, np.nan]})\n",
        "\n",
        "# Fill missing values with 0\n",
        "df_filled = df.fillna(0)\n",
        "print(df_filled)\n"
      ],
      "metadata": {
        "id": "CehL1LYATz6-"
      },
      "execution_count": null,
      "outputs": []
    },
    {
      "cell_type": "markdown",
      "source": [
        "**Output:**"
      ],
      "metadata": {
        "id": "1A3QtdY4T2RY"
      }
    },
    {
      "cell_type": "code",
      "source": [
        "     A    B\n",
        "0  1.0  4.0\n",
        "1  0.0  5.0\n",
        "2  3.0  0.0\n"
      ],
      "metadata": {
        "id": "nnZW72YnT5X3"
      },
      "execution_count": null,
      "outputs": []
    },
    {
      "cell_type": "markdown",
      "source": [
        "### **In Short**\n",
        "\n",
        "Handling missing data is essential for accurate analysis, reliable statistics, and error-free computations. Ignoring it can lead to biased insights or program crashes."
      ],
      "metadata": {
        "id": "CvLj2GGcT7QH"
      }
    },
    {
      "cell_type": "markdown",
      "source": [
        "## Q14. What are the benefits of using Plotly for data visualization?"
      ],
      "metadata": {
        "id": "3uPeFx1lT_bH"
      }
    },
    {
      "cell_type": "markdown",
      "source": [
        "Plotly is a powerful Python library for creating interactive, web-ready visualizations. Its benefits over traditional static plots include enhanced interactivity, aesthetics, and flexibility."
      ],
      "metadata": {
        "id": "cSSqLJstVQyJ"
      }
    },
    {
      "cell_type": "markdown",
      "source": [
        "### **Key Benefits of Plotly**\n",
        "\n",
        "**1. Interactivity**\n",
        "\n",
        "- Hover over points to see details, zoom, pan, and select data.\n",
        "\n",
        "- Great for exploratory data analysis and dashboards.\n",
        "\n",
        "**2. Web-Ready & Shareable**\n",
        "\n",
        "- Plots can be exported as interactive HTML files or embedded in web apps using Dash.\n",
        "\n",
        "**3. Wide Range of Plots**\n",
        "\n",
        "- Supports scatter, line, bar, heatmaps, 3D plots, maps, and more.\n",
        "\n",
        "**4. Integration with Pandas**\n",
        "\n",
        "- Works directly with DataFrames, making data handling seamless.\n",
        "\n",
        "**5. Customizable & Aesthetic**\n",
        "\n",
        "- Default visuals are attractive, with flexible styling options for color, layout, and annotations.\n",
        "\n",
        "**6. Dynamic Dashboards**\n",
        "\n",
        "- Works with Dash to create fully interactive dashboards for web apps.\n",
        "\n",
        "**7. Cross-Language Support**\n",
        "\n",
        "- Can be used with Python, R, MATLAB, Julia, and JavaScript."
      ],
      "metadata": {
        "id": "rhDeimXfVXRA"
      }
    },
    {
      "cell_type": "markdown",
      "source": [
        "### **Example**"
      ],
      "metadata": {
        "id": "W8rJtS7sV3LT"
      }
    },
    {
      "cell_type": "code",
      "source": [
        "import plotly.express as px\n",
        "\n",
        "df = px.data.iris()\n",
        "fig = px.scatter(df, x='sepal_width', y='sepal_length', color='species', size='petal_length')\n",
        "fig.show()\n"
      ],
      "metadata": {
        "id": "Gte1eEXkVUHo"
      },
      "execution_count": null,
      "outputs": []
    },
    {
      "cell_type": "markdown",
      "source": [
        "✅ The resulting plot is interactive, allowing zooming, panning, and hover tooltips."
      ],
      "metadata": {
        "id": "KLtmZ-kMV-xr"
      }
    },
    {
      "cell_type": "markdown",
      "source": [
        "### **In Short**\n",
        "\n",
        "Plotly excels in creating interactive, visually appealing, and shareable plots, making it ideal for data exploration, dashboards, and presentation-ready visualizations."
      ],
      "metadata": {
        "id": "T_ULvDFsWBS3"
      }
    },
    {
      "cell_type": "markdown",
      "source": [
        "## Q15. How does NumPy handle multidimensional arrays?"
      ],
      "metadata": {
        "id": "QGwVILP4WHWB"
      }
    },
    {
      "cell_type": "markdown",
      "source": [
        "NumPy handles multidimensional arrays using its core data structure called the ndarray (N-dimensional array). This allows you to store and manipulate data with more than one dimension (e.g., matrices, tensors) efficiently."
      ],
      "metadata": {
        "id": "iML1t3axWOrZ"
      }
    },
    {
      "cell_type": "markdown",
      "source": [
        "### **Key Points**\n",
        "\n",
        "**1. Array Dimensions (Axes)**\n",
        "\n",
        "- Each dimension is called an axis.\n",
        "\n",
        "- Example:\n",
        "\n",
        "  - 1D array → axis 0\n",
        "\n",
        "  - 2D array (matrix) → axis 0 = rows, axis 1 = columns\n",
        "\n",
        "  - 3D array → axis 0 = “depth,” axis 1 = rows, axis 2 = columns\n",
        "\n",
        "**2. Shape**\n",
        "\n",
        "- NumPy arrays have a .shape attribute: (rows, columns, ...)\n",
        "\n",
        "- Example: a 3×4 matrix → shape = (3, 4)\n",
        "\n",
        "**3. Creation**\n",
        "\n",
        "- Can create multidimensional arrays using np.array, np.zeros, np.ones, np.random.rand, etc."
      ],
      "metadata": {
        "id": "8AEm23KmWWUp"
      }
    },
    {
      "cell_type": "markdown",
      "source": [
        "### **Example**"
      ],
      "metadata": {
        "id": "2CRwWrcoW2Np"
      }
    },
    {
      "cell_type": "code",
      "source": [
        "import numpy as np\n",
        "\n",
        "# 2D array (matrix)\n",
        "matrix = np.array([[1, 2, 3],\n",
        "                   [4, 5, 6]])\n",
        "print(matrix.shape)  # Output: (2, 3)\n",
        "\n",
        "# 3D array (tensor)\n",
        "tensor = np.array([[[1,2],[3,4]],\n",
        "                   [[5,6],[7,8]]])\n",
        "print(tensor.shape)  # Output: (2, 2, 2)\n"
      ],
      "metadata": {
        "id": "4nQwosiPW56X"
      },
      "execution_count": null,
      "outputs": []
    },
    {
      "cell_type": "markdown",
      "source": [
        "### **Operations on Multidimensional Arrays**\n",
        "\n",
        "- **Element-wise operations:** add, multiply, etc.\n",
        "\n",
        "- **Indexing and slicing** along multiple axes.\n",
        "\n",
        "- **Reshaping:** array.reshape(new_shape)\n",
        "\n",
        "- **Aggregation along axes:** sum(axis=0), mean(axis=1)\n",
        "\n",
        "- **Matrix operations:** dot(), matmul(), transpose()"
      ],
      "metadata": {
        "id": "BZ5LJLxVW8nb"
      }
    },
    {
      "cell_type": "markdown",
      "source": [
        "### **In Short**\n",
        "\n",
        "NumPy handles multidimensional arrays by providing a flexible, efficient ndarray that supports arbitrary dimensions, vectorized operations, and advanced indexing, making it ideal for numerical computing and linear algebra."
      ],
      "metadata": {
        "id": "xf-XQD0aXQoK"
      }
    },
    {
      "cell_type": "markdown",
      "source": [
        "## Q16. What is the role of Bokeh in data visualization?"
      ],
      "metadata": {
        "id": "DeT74u-JXWLK"
      }
    },
    {
      "cell_type": "markdown",
      "source": [
        "Bokeh is a Python library for creating interactive, web-based visualizations. Its main role is to help users build sophisticated and dynamic plots that can be viewed in web browsers or integrated into dashboards and web applications."
      ],
      "metadata": {
        "id": "uJF6XI9bXc1x"
      }
    },
    {
      "cell_type": "markdown",
      "source": [
        "### **Key Roles and Features of Bokeh**\n",
        "\n",
        "**1. Interactive Visualizations**\n",
        "\n",
        "- Supports zooming, panning, hover tools, sliders, and other widgets.\n",
        "\n",
        "- Ideal for exploring data dynamically.\n",
        "\n",
        "**2. Web-Ready Plots**\n",
        "\n",
        "- Generates HTML/JavaScript plots that can be embedded in web pages.\n",
        "\n",
        "- No need for additional web frameworks to view plots.\n",
        "\n",
        "**3. High-Level and Low-Level Interfaces**\n",
        "\n",
        "- High-level (bokeh.plotting) for quick plots.\n",
        "\n",
        "- Low-level (bokeh.models) for fine-grained control over interactivity and layout.\n",
        "\n",
        "**4. Integration with Pandas**\n",
        "\n",
        "- Works directly with DataFrames for fast visualization.\n",
        "\n",
        "**5. Dashboards and Apps**\n",
        "\n",
        "- Supports interactive dashboards, often used with Bokeh Server.\n",
        "\n",
        "**6. Real-Time Streaming**\n",
        "\n",
        "- Can update plots in real-time for live data applications."
      ],
      "metadata": {
        "id": "IUudv4EuXlUA"
      }
    },
    {
      "cell_type": "markdown",
      "source": [
        "### **Example**"
      ],
      "metadata": {
        "id": "bv7nFs6QYL4Q"
      }
    },
    {
      "cell_type": "code",
      "source": [
        "from bokeh.plotting import figure, show\n",
        "\n",
        "# Create a figure\n",
        "p = figure(title=\"Simple Line Plot\", x_axis_label='x', y_axis_label='y')\n",
        "p.line([1, 2, 3, 4], [4, 7, 2, 5], line_width=2)\n",
        "\n",
        "# Display plot in browser\n",
        "show(p)\n"
      ],
      "metadata": {
        "id": "CMzXZesAYN5i"
      },
      "execution_count": null,
      "outputs": []
    },
    {
      "cell_type": "markdown",
      "source": [
        "✅ This creates an interactive line plot that can be zoomed and hovered over in a browser."
      ],
      "metadata": {
        "id": "NKYJ3A-oYP-h"
      }
    },
    {
      "cell_type": "markdown",
      "source": [
        "### **In Short**\n",
        "\n",
        "Bokeh’s role is to enable interactive, browser-based, and real-time visualizations, making it ideal for data exploration, dashboards, and web apps."
      ],
      "metadata": {
        "id": "hTp517WYYSn5"
      }
    },
    {
      "cell_type": "markdown",
      "source": [
        "## Q17. Explain the difference between apply() and map() in Pandas."
      ],
      "metadata": {
        "id": "U3TaHFvSYWTB"
      }
    },
    {
      "cell_type": "markdown",
      "source": [
        "In Pandas, both apply() and map() are used to apply functions to data, but they differ in scope, flexibility, and use cases."
      ],
      "metadata": {
        "id": "p28iDcPsYd3C"
      }
    },
    {
      "cell_type": "markdown",
      "source": [
        "### **Key Differences**"
      ],
      "metadata": {
        "id": "xi2UXH_VYlnJ"
      }
    },
    {
      "cell_type": "code",
      "source": [
        "| Feature                  | **`map()`**                                   | **`apply()`**                                                     |\n",
        "| ------------------------ | --------------------------------------------- | ----------------------------------------------------------------- |\n",
        "| **Scope**                | Works on **Series only**                      | Works on **Series and DataFrames**                                |\n",
        "| **Function Application** | Element-wise                                  | Can be element-wise (Series) or row/column-wise (DataFrame)       |\n",
        "| **Input**                | Single values from a Series                   | Single values (Series) or entire rows/columns (DataFrame)         |\n",
        "| **Output**               | Series of same length                         | Series or DataFrame depending on function                         |\n",
        "| **Flexibility**          | Less flexible, mainly for transforming values | More flexible, can aggregate, transform, or return custom objects |\n",
        "| **Use Case**             | Replace or transform each element             | Apply custom functions to rows, columns, or entire Series         |\n"
      ],
      "metadata": {
        "id": "6SXxqO_EYq-G"
      },
      "execution_count": null,
      "outputs": []
    },
    {
      "cell_type": "markdown",
      "source": [
        "### **Examples**"
      ],
      "metadata": {
        "id": "IUa7o2xvYtOR"
      }
    },
    {
      "cell_type": "markdown",
      "source": [
        "Using map() on a Series"
      ],
      "metadata": {
        "id": "C8Weds67YzVQ"
      }
    },
    {
      "cell_type": "code",
      "source": [
        "import pandas as pd\n",
        "\n",
        "s = pd.Series([1, 2, 3])\n",
        "squared = s.map(lambda x: x**2)\n",
        "print(squared)\n"
      ],
      "metadata": {
        "id": "VzfqeOtXYw46"
      },
      "execution_count": null,
      "outputs": []
    },
    {
      "cell_type": "markdown",
      "source": [
        "**Output:**"
      ],
      "metadata": {
        "id": "95KYj2KDY2ES"
      }
    },
    {
      "cell_type": "code",
      "source": [
        "0    1\n",
        "1    4\n",
        "2    9\n",
        "dtype: int64\n"
      ],
      "metadata": {
        "id": "pBzNQ2c8Y5Fz"
      },
      "execution_count": null,
      "outputs": []
    },
    {
      "cell_type": "markdown",
      "source": [
        "Using apply() on a DataFrame"
      ],
      "metadata": {
        "id": "tNAVlxc3Y7DS"
      }
    },
    {
      "cell_type": "code",
      "source": [
        "df = pd.DataFrame({'A':[1,2,3], 'B':[4,5,6]})\n",
        "sum_row = df.apply(lambda row: row.sum(), axis=1)  # sum along rows\n",
        "print(sum_row)\n"
      ],
      "metadata": {
        "id": "2UX6rkQsY951"
      },
      "execution_count": null,
      "outputs": []
    },
    {
      "cell_type": "markdown",
      "source": [
        "**Output:**"
      ],
      "metadata": {
        "id": "-oAli562ZAPh"
      }
    },
    {
      "cell_type": "code",
      "source": [
        "0     5\n",
        "1     7\n",
        "2     9\n",
        "dtype: int64\n"
      ],
      "metadata": {
        "id": "cWBWVl8XZCmi"
      },
      "execution_count": null,
      "outputs": []
    },
    {
      "cell_type": "markdown",
      "source": [
        "### **In Short**\n",
        "\n",
        "- Use map() for element-wise transformations on a Series.\n",
        "\n",
        "- Use apply() for flexible row/column-wise operations on Series or DataFrames.\n",
        "\n",
        "This distinction is key for efficient and readable Pandas code."
      ],
      "metadata": {
        "id": "33mVUUlhZEjC"
      }
    },
    {
      "cell_type": "markdown",
      "source": [
        "## Q18. What are some advanced features of NumPy?"
      ],
      "metadata": {
        "id": "fpadV5n4ZKtW"
      }
    },
    {
      "cell_type": "markdown",
      "source": [
        "NumPy is not just about arrays and basic math — it offers a variety of advanced features that make it a cornerstone of scientific computing in Python. Here are some key advanced features:"
      ],
      "metadata": {
        "id": "R3bBfUmTZSSx"
      }
    },
    {
      "cell_type": "markdown",
      "source": [
        "### **Advanced Features of NumPy**\n",
        "\n",
        "**1. Broadcasting**\n",
        "\n",
        "- Enables arithmetic operations between arrays of different shapes without explicit loops.\n",
        "\n",
        "- Example: adding a 1D array to each row of a 2D array.\n",
        "\n",
        "**2. Vectorized Operations**\n",
        "\n",
        "- Perform operations on entire arrays at once for speed and efficiency.\n",
        "\n",
        "**3. Multidimensional Arrays & Indexing**\n",
        "\n",
        "- Supports N-dimensional arrays (tensors) and advanced indexing techniques:\n",
        "\n",
        "   - Boolean indexing\n",
        "\n",
        "   - Fancy indexing with arrays of indices\n",
        "\n",
        "   - Slicing along multiple axes\n",
        "\n",
        "**4. Linear Algebra Functions**\n",
        "\n",
        "- Built-in support for:\n",
        "\n",
        "   - Matrix multiplication: np.dot(), @ operator\n",
        "\n",
        "   - Determinant: np.linalg.det()\n",
        "\n",
        "   - Eigenvalues: np.linalg.eig()\n",
        "\n",
        "   - Inverse, rank, and solving linear systems\n",
        "\n",
        "**5. Random Number Generation**\n",
        "\n",
        "- Powerful random module: np.random for uniform, normal, multinomial, permutation, etc.\n",
        "\n",
        "- Can seed for reproducibility.\n",
        "\n",
        "**6. Fourier Transform & Signal Processing**\n",
        "\n",
        "- np.fft module for fast Fourier transforms.\n",
        "\n",
        "**7. Polynomials & Mathematical Functions**\n",
        "\n",
        "- Polynomial fitting: np.polyfit()\n",
        "\n",
        "- Exponential, logarithmic, trigonometric, and hyperbolic functions.\n",
        "\n",
        "**8. Masked Arrays**\n",
        "\n",
        "- Handle invalid or missing data efficiently with np.ma module.\n",
        "\n",
        "**9. Memory-Efficient Operations**\n",
        "\n",
        "- Views instead of copies, in-place operations, and broadcasting reduce memory usage.\n",
        "\n",
        "**10. Structured Arrays**\n",
        "\n",
        "- Store heterogeneous data (like a table) within a NumPy array."
      ],
      "metadata": {
        "id": "ZlE3h9SPZX4K"
      }
    },
    {
      "cell_type": "markdown",
      "source": [
        "### **Example: Broadcasting & Vectorization**"
      ],
      "metadata": {
        "id": "nqAreDV5amZE"
      }
    },
    {
      "cell_type": "code",
      "source": [
        "import numpy as np\n",
        "\n",
        "# 2D array\n",
        "a = np.array([[1, 2, 3], [4, 5, 6]])\n",
        "\n",
        "# 1D array\n",
        "b = np.array([10, 20, 30])\n",
        "\n",
        "# Broadcast addition\n",
        "c = a + b\n",
        "print(c)\n"
      ],
      "metadata": {
        "id": "jEAt4E0Oatb0"
      },
      "execution_count": null,
      "outputs": []
    },
    {
      "cell_type": "markdown",
      "source": [
        "**Output:**"
      ],
      "metadata": {
        "id": "_KEOYuuVawOL"
      }
    },
    {
      "cell_type": "code",
      "source": [
        "[[11 22 33]\n",
        " [14 25 36]]\n"
      ],
      "metadata": {
        "id": "WSDEToT1azK6"
      },
      "execution_count": null,
      "outputs": []
    },
    {
      "cell_type": "markdown",
      "source": [
        "### **In Short**\n",
        "\n",
        "NumPy’s advanced features like broadcasting, vectorization, multidimensional arrays, linear algebra, and random number generation make it a fast, flexible, and powerful library for numerical and scientific computing.\n",
        "\n",
        "These capabilities are why it underpins Pandas, SciPy, TensorFlow, PyTorch, and most Python-based data science tools."
      ],
      "metadata": {
        "id": "zur-u5MLa08U"
      }
    },
    {
      "cell_type": "markdown",
      "source": [
        "## Q19.  How does Pandas simplify time series analysis?"
      ],
      "metadata": {
        "id": "mJ4TYtAJa_fj"
      }
    },
    {
      "cell_type": "markdown",
      "source": [
        "Pandas provides a rich set of tools that make time series analysis in Python fast, flexible, and intuitive. Its built-in functionality handles dates, times, and temporal indexing, which would otherwise require extensive manual coding."
      ],
      "metadata": {
        "id": "_2p0Q2kRbJoF"
      }
    },
    {
      "cell_type": "markdown",
      "source": [
        "### **Key Ways Pandas Simplifies Time Series Analysis**\n",
        "\n",
        "**1. Datetime Handling**\n",
        "\n",
        "- Convert strings to datetime easily: pd.to_datetime()\n",
        "\n",
        "- Extract components like year, month, day, hour: df['date'].dt.month\n",
        "\n",
        "**2. Datetime Indexing**\n",
        "\n",
        "- Set a column as a DatetimeIndex for fast slicing, e.g., df['2023-01':'2023-03']\n",
        "\n",
        "**3. Resampling**\n",
        "\n",
        "- Change frequency of data (e.g., daily → monthly) using .resample()\n",
        "\n",
        "- Aggregate with functions like mean(), sum(), ohlc()\n",
        "\n",
        "**4. Shifting & Lagging**\n",
        "\n",
        "- Shift data in time for trend or correlation analysis: .shift()\n",
        "\n",
        "**5. Rolling & Moving Windows**\n",
        "\n",
        "- Apply moving averages, rolling sums, or other aggregations: .rolling(window=3).mean()\n",
        "\n",
        "**6. Time Zone Handling**\n",
        "\n",
        "- Convert between time zones using .tz_localize() and .tz_convert()\n",
        "\n",
        "**7. Frequency Conversion**\n",
        "\n",
        "- Convert irregular time series to regular intervals: .asfreq('D'), .asfreq('M')\n",
        "\n",
        "**8. Visualization Integration**\n",
        "\n",
        "- Works seamlessly with Matplotlib or Seaborn for time-based plots."
      ],
      "metadata": {
        "id": "zAR24FG0bO7k"
      }
    },
    {
      "cell_type": "markdown",
      "source": [
        "### **Example: Resampling and Rolling Mean**"
      ],
      "metadata": {
        "id": "mjfxQIDDcL-D"
      }
    },
    {
      "cell_type": "code",
      "source": [
        "import pandas as pd\n",
        "\n",
        "# Sample daily data\n",
        "dates = pd.date_range('2023-01-01', periods=7)\n",
        "data = pd.DataFrame({'Value': [10, 12, 15, 14, 16, 18, 20]}, index=dates)\n",
        "\n",
        "# Resample to 3-day frequency (sum)\n",
        "print(data.resample('3D').sum())\n",
        "\n",
        "# 3-day rolling mean\n",
        "print(data.rolling(window=3).mean())\n"
      ],
      "metadata": {
        "id": "jjl6LZGacQXi"
      },
      "execution_count": null,
      "outputs": []
    },
    {
      "cell_type": "markdown",
      "source": [
        "### **In Short**\n",
        "\n",
        "Pandas simplifies time series analysis by providing easy datetime handling, indexing, resampling, rolling operations, and plotting, allowing analysts to focus on insights rather than low-level data manipulation."
      ],
      "metadata": {
        "id": "wFztQw19cTmb"
      }
    },
    {
      "cell_type": "markdown",
      "source": [
        "## Q20. What is the role of a pivot table in Pandas?"
      ],
      "metadata": {
        "id": "Zh5CSDLvcZxi"
      }
    },
    {
      "cell_type": "markdown",
      "source": [
        "A pivot table in Pandas is used to summarize, aggregate, and reorganize data in a tabular form, similar to Excel pivot tables. It allows you to group data by one or more keys and compute aggregations like sum, mean, or count."
      ],
      "metadata": {
        "id": "PwYVhsbickyz"
      }
    },
    {
      "cell_type": "markdown",
      "source": [
        "### **Key Roles of a Pivot Table**\n",
        "\n",
        "**1. Data Summarization**\n",
        "\n",
        "- Quickly compute aggregates (sum, mean, count, etc.) for grouped data.\n",
        "\n",
        "**2. Data Organization**\n",
        "\n",
        "- Rearrange data into a matrix-like format with rows and columns representing different categories.\n",
        "\n",
        "**3. Multi-Level Grouping**\n",
        "\n",
        "- Group data by multiple variables using index and columns.\n",
        "\n",
        "**4. Flexible Aggregation**\n",
        "\n",
        "- Apply custom aggregation functions with the aggfunc parameter."
      ],
      "metadata": {
        "id": "F9zjj4uhct06"
      }
    },
    {
      "cell_type": "markdown",
      "source": [
        "### **Example**"
      ],
      "metadata": {
        "id": "piPyzEEIdDpS"
      }
    },
    {
      "cell_type": "code",
      "source": [
        "import pandas as pd\n",
        "\n",
        "data = {'Department': ['HR', 'HR', 'IT', 'IT', 'Sales'],\n",
        "        'Employee': ['Alice','Bob','Charlie','David','Eve'],\n",
        "        'Salary': [4000, 4500, 6000, 6500, 5500]}\n",
        "\n",
        "df = pd.DataFrame(data)\n",
        "\n",
        "# Create pivot table: average salary per department\n",
        "pivot = df.pivot_table(values='Salary', index='Department', aggfunc='mean')\n",
        "print(pivot)\n"
      ],
      "metadata": {
        "id": "Q5NxUFtFdFuP"
      },
      "execution_count": null,
      "outputs": []
    },
    {
      "cell_type": "markdown",
      "source": [
        "**Output:**"
      ],
      "metadata": {
        "id": "6tsChzhsdIPz"
      }
    },
    {
      "cell_type": "code",
      "source": [
        "           Salary\n",
        "Department\n",
        "HR          4250.0\n",
        "IT          6250.0\n",
        "Sales       5500.0\n"
      ],
      "metadata": {
        "id": "1_x2G5w2da_7"
      },
      "execution_count": null,
      "outputs": []
    },
    {
      "cell_type": "markdown",
      "source": [
        "✅ You can also add multiple aggregation functions:"
      ],
      "metadata": {
        "id": "tAmUBe7mdM7c"
      }
    },
    {
      "cell_type": "code",
      "source": [
        "df.pivot_table(values='Salary', index='Department', aggfunc=['mean','sum','max'])\n"
      ],
      "metadata": {
        "id": "TwhnXyh2dP46"
      },
      "execution_count": null,
      "outputs": []
    },
    {
      "cell_type": "markdown",
      "source": [
        "### **In Short**\n",
        "\n",
        "A pivot table in Pandas is used to summarize and reorganize data efficiently, making it easier to analyze grouped data and extract meaningful insights."
      ],
      "metadata": {
        "id": "GAlH1A0_dT8D"
      }
    },
    {
      "cell_type": "markdown",
      "source": [
        "## Q21. Why is NumPy’s array slicing faster than Python’s list slicing?\n"
      ],
      "metadata": {
        "id": "01OM5CWRdXqs"
      }
    },
    {
      "cell_type": "markdown",
      "source": [
        "NumPy’s array slicing is faster than Python’s list slicing because of how the data is stored and accessed in memory.\n",
        "Here’s why:"
      ],
      "metadata": {
        "id": "IQ1M3Vl8dnLr"
      }
    },
    {
      "cell_type": "markdown",
      "source": [
        "### **Key Reasons**\n",
        "\n",
        "**1. Contiguous Memory Storage**\n",
        "\n",
        "- NumPy arrays store elements in a continuous block of memory, whereas Python lists store pointers to separate objects scattered in memory.\n",
        "\n",
        "- This allows NumPy to access and slice data without following pointers, making operations faster.\n",
        "\n",
        "**2. Vectorized Operations**\n",
        "\n",
        "- Slicing in NumPy doesn’t create a copy by default; it creates a view on the same data.\n",
        "\n",
        "- No element-by-element copying occurs, unlike Python lists.\n",
        "\n",
        "**3. Homogeneous Data Types**\n",
        "\n",
        "- NumPy arrays are homogeneous (all elements have the same type), enabling optimized, low-level C operations.\n",
        "\n",
        "- Python lists can hold mixed types, requiring more overhead during slicing.\n",
        "\n",
        "**4. Optimized C Implementation**\n",
        "\n",
        "- NumPy is implemented in C, so slicing operations are executed at compiled speed, not interpreted Python speed."
      ],
      "metadata": {
        "id": "zEQ5N3BMdvcb"
      }
    },
    {
      "cell_type": "markdown",
      "source": [
        "### **Example**"
      ],
      "metadata": {
        "id": "-6rSjGWveOJ0"
      }
    },
    {
      "cell_type": "code",
      "source": [
        "import numpy as np\n",
        "import time\n",
        "\n",
        "# NumPy array\n",
        "arr = np.arange(1000000)\n",
        "start = time.time()\n",
        "slice_arr = arr[100:1000000:10]\n",
        "end = time.time()\n",
        "print(\"NumPy slicing:\", end - start)\n",
        "\n",
        "# Python list\n",
        "lst = list(range(1000000))\n",
        "start = time.time()\n",
        "slice_lst = lst[100:1000000:10]\n",
        "end = time.time()\n",
        "print(\"List slicing:\", end - start)\n"
      ],
      "metadata": {
        "id": "QOBQe089eQK7"
      },
      "execution_count": null,
      "outputs": []
    },
    {
      "cell_type": "markdown",
      "source": [
        "✅ On large data, NumPy slicing is significantly faster."
      ],
      "metadata": {
        "id": "bcshbWC2eSVh"
      }
    },
    {
      "cell_type": "markdown",
      "source": [
        "### **In Short**\n",
        "\n",
        "NumPy slicing is faster because it uses contiguous memory, vectorized operations, homogeneous data types, and low-level C optimizations, while Python lists require pointer dereferencing and per-element handling."
      ],
      "metadata": {
        "id": "Z-d1O1ZKeVPU"
      }
    },
    {
      "cell_type": "markdown",
      "source": [
        "## Q22. What are some common use cases for Seaborn?"
      ],
      "metadata": {
        "id": "ZBBv8H-weZST"
      }
    },
    {
      "cell_type": "markdown",
      "source": [
        "Seaborn is a high-level Python library for statistical data visualization, built on Matplotlib. It’s widely used because it makes it easy to create attractive and informative plots for data analysis."
      ],
      "metadata": {
        "id": "tX-gTgcuehWl"
      }
    },
    {
      "cell_type": "markdown",
      "source": [
        "### **Common Use Cases for Seaborn**\n",
        "\n",
        "**1. Visualizing Distributions**\n",
        "\n",
        "- sns.histplot(), sns.kdeplot(), sns.displot()\n",
        "\n",
        "- Explore the distribution of a single variable.\n",
        "\n",
        "**2. Comparing Categories**\n",
        "\n",
        "- sns.boxplot(), sns.violinplot(), sns.barplot()\n",
        "\n",
        "- Compare values across categories, detect outliers, and see spread.\n",
        "\n",
        "**3. Analyzing Relationships**\n",
        "\n",
        "- sns.scatterplot(), sns.lineplot(), sns.lmplot()\n",
        "\n",
        "- Visualize correlations or trends between two or more variables.\n",
        "\n",
        "**4. Pairwise Relationships**\n",
        "\n",
        "- sns.pairplot()\n",
        "\n",
        "- Plot multiple scatterplots and histograms to explore interactions between variables.\n",
        "\n",
        "**5. Correlation Analysis**\n",
        "\n",
        "- sns.heatmap(df.corr(), annot=True)\n",
        "\n",
        "- Visualize correlation matrices for quick insight into relationships.\n",
        "\n",
        "**6. Time Series and Trends**\n",
        "\n",
        "- sns.lineplot() with hue or style\n",
        "\n",
        "- Explore trends over time or ordered data.\n",
        "\n",
        "**7. Categorical Data Analysis**\n",
        "\n",
        "- Count plots: sns.countplot()\n",
        "\n",
        "- Quickly summarize categorical distributions.\n",
        "\n",
        "**8. Enhanced Styling**\n",
        "\n",
        "- Built-in color palettes, themes, and aesthetics for publication-ready visuals."
      ],
      "metadata": {
        "id": "auCp-jQ6eloe"
      }
    },
    {
      "cell_type": "markdown",
      "source": [
        "### **In Short**\n",
        "\n",
        "Seaborn is ideal for exploratory data analysis (EDA), helping to visualize distributions, relationships, correlations, and categorical comparisons in a statistically meaningful and visually appealing way."
      ],
      "metadata": {
        "id": "__1g5_PxfTHD"
      }
    },
    {
      "cell_type": "code",
      "source": [
        "'''\n",
        "This answer of Data Toolkit Theory Questions\n",
        "'''"
      ],
      "metadata": {
        "id": "YQQKjbJdmKzg"
      },
      "execution_count": null,
      "outputs": []
    },
    {
      "cell_type": "markdown",
      "source": [
        "# ***Data Toolkit Practical Questions***"
      ],
      "metadata": {
        "id": "kaU9TLKkfXH9"
      }
    },
    {
      "cell_type": "markdown",
      "source": [
        "## Q1. How do you create a 2D NumPy array and calculate the sum of each row?"
      ],
      "metadata": {
        "id": "Tg-jAsDtfmDM"
      }
    },
    {
      "cell_type": "code",
      "source": [
        "import numpy as np\n",
        "\n",
        "# Create a 2D array (3 rows, 4 columns)\n",
        "arr = np.array([[1, 2, 3, 4],\n",
        "                [5, 6, 7, 8],\n",
        "                [9, 10, 11, 12]])\n",
        "\n",
        "# Sum of each row\n",
        "row_sums = np.sum(arr, axis=1)\n",
        "\n",
        "print(\"Array:\")\n",
        "print(arr)\n",
        "print(\"Sum of each row:\", row_sums)\n"
      ],
      "metadata": {
        "id": "3PjRZbFggCLz"
      },
      "execution_count": null,
      "outputs": []
    },
    {
      "cell_type": "markdown",
      "source": [
        "**Output:**"
      ],
      "metadata": {
        "id": "pjVrEZzPf6Z9"
      }
    },
    {
      "cell_type": "code",
      "source": [
        "Array:\n",
        "[[ 1  2  3  4]\n",
        " [ 5  6  7  8]\n",
        " [ 9 10 11 12]]\n",
        "Sum of each row: [10 26 42]\n"
      ],
      "metadata": {
        "id": "qHKKvTHMfsLx"
      },
      "execution_count": null,
      "outputs": []
    },
    {
      "cell_type": "markdown",
      "source": [
        "## Q2. Write a Pandas script to find the mean of a specific column in a DataFrame."
      ],
      "metadata": {
        "id": "vjOV6OlvgGBl"
      }
    },
    {
      "cell_type": "code",
      "source": [
        "import pandas as pd\n",
        "\n",
        "# Sample data\n",
        "data = {\n",
        "    'Name': ['Alice', 'Bob', 'Charlie', 'David'],\n",
        "    'Age': [25, 30, 35, 40],\n",
        "    'Salary': [5000, 6000, 7000, 8000]\n",
        "}\n",
        "\n",
        "# Create DataFrame\n",
        "df = pd.DataFrame(data)\n",
        "\n",
        "# Calculate mean of the 'Salary' column\n",
        "mean_salary = df['Salary'].mean()\n",
        "\n",
        "print(\"Mean Salary:\", mean_salary)\n"
      ],
      "metadata": {
        "id": "2v-6f8bdgOce"
      },
      "execution_count": null,
      "outputs": []
    },
    {
      "cell_type": "markdown",
      "source": [
        "**Output:**"
      ],
      "metadata": {
        "id": "U33C53bWgVuF"
      }
    },
    {
      "cell_type": "code",
      "source": [
        "Mean Salary: 6500.0\n"
      ],
      "metadata": {
        "id": "sJAlAWtIgZU8"
      },
      "execution_count": null,
      "outputs": []
    },
    {
      "cell_type": "markdown",
      "source": [
        "## Q3. Create a scatter plot using Matplotlib."
      ],
      "metadata": {
        "id": "HsT2fv5agbUl"
      }
    },
    {
      "cell_type": "code",
      "source": [
        "import matplotlib.pyplot as plt\n",
        "\n",
        "# Sample data\n",
        "x = [1, 2, 3, 4, 5]\n",
        "y = [5, 7, 4, 6, 8]\n",
        "\n",
        "# Create scatter plot\n",
        "plt.scatter(x, y, color='blue', marker='o')\n",
        "\n",
        "# Add title and labels\n",
        "plt.title(\"Sample Scatter Plot\")\n",
        "plt.xlabel(\"X-axis\")\n",
        "plt.ylabel(\"Y-axis\")\n",
        "\n",
        "# Show plot\n",
        "plt.show()\n"
      ],
      "metadata": {
        "id": "l_dwte5pgj0L"
      },
      "execution_count": null,
      "outputs": []
    },
    {
      "cell_type": "markdown",
      "source": [
        "## Q4. How do you calculate the correlation matrix using Seaborn and visualize it with a heatmap?"
      ],
      "metadata": {
        "id": "7iBTdB9Chnk2"
      }
    },
    {
      "cell_type": "code",
      "source": [
        "import pandas as pd\n",
        "import seaborn as sns\n",
        "import matplotlib.pyplot as plt\n",
        "\n",
        "# Sample data\n",
        "data = {\n",
        "    'A': [1, 2, 3, 4, 5],\n",
        "    'B': [5, 4, 3, 2, 1],\n",
        "    'C': [2, 3, 4, 5, 6]\n",
        "}\n",
        "\n",
        "df = pd.DataFrame(data)\n",
        "\n",
        "# Calculate correlation matrix\n",
        "corr_matrix = df.corr()\n",
        "print(\"Correlation Matrix:\")\n",
        "print(corr_matrix)\n",
        "\n",
        "# Visualize with heatmap\n",
        "sns.heatmap(corr_matrix, annot=True, cmap='coolwarm')\n",
        "plt.title(\"Correlation Heatmap\")\n",
        "plt.show()\n"
      ],
      "metadata": {
        "id": "-f-cD5H6hwxw"
      },
      "execution_count": null,
      "outputs": []
    },
    {
      "cell_type": "markdown",
      "source": [
        "## Q5. Generate a bar plot using Plotly."
      ],
      "metadata": {
        "id": "-paMwTPOiFj3"
      }
    },
    {
      "cell_type": "code",
      "source": [
        "import plotly.express as px\n",
        "import pandas as pd\n",
        "\n",
        "# Sample data\n",
        "data = {\n",
        "    'Fruits': ['Apples', 'Bananas', 'Cherries', 'Dates'],\n",
        "    'Quantity': [10, 15, 7, 12]\n",
        "}\n",
        "\n",
        "df = pd.DataFrame(data)\n",
        "\n",
        "# Create bar plot\n",
        "fig = px.bar(df, x='Fruits', y='Quantity',\n",
        "             title='Fruit Quantities',\n",
        "             color='Quantity',  # optional, colors bars by value\n",
        "             text='Quantity')   # optional, display values on bars\n",
        "\n",
        "# Show plot\n",
        "fig.show()\n"
      ],
      "metadata": {
        "id": "_HtqLP3SiOTG"
      },
      "execution_count": null,
      "outputs": []
    },
    {
      "cell_type": "markdown",
      "source": [
        "## Q6. Create a DataFrame and add a new column based on an existing column."
      ],
      "metadata": {
        "id": "Th-3EUhJiXQX"
      }
    },
    {
      "cell_type": "code",
      "source": [
        "import pandas as pd\n",
        "\n",
        "# Create a sample DataFrame\n",
        "data = {\n",
        "    'Name': ['Alice', 'Bob', 'Charlie', 'David'],\n",
        "    'Salary': [5000, 6000, 7000, 8000]\n",
        "}\n",
        "\n",
        "df = pd.DataFrame(data)\n",
        "\n",
        "# Add a new column 'Tax' which is 10% of 'Salary'\n",
        "df['Tax'] = df['Salary'] * 0.10\n",
        "\n",
        "print(df)\n"
      ],
      "metadata": {
        "id": "AAVUs7xlifcG"
      },
      "execution_count": null,
      "outputs": []
    },
    {
      "cell_type": "markdown",
      "source": [
        "**Output:**"
      ],
      "metadata": {
        "id": "Mzm7Ech7iyMO"
      }
    },
    {
      "cell_type": "code",
      "source": [
        "      Name  Salary    Tax\n",
        "0    Alice    5000  500.0\n",
        "1      Bob    6000  600.0\n",
        "2  Charlie    7000  700.0\n",
        "3    David    8000  800.0\n"
      ],
      "metadata": {
        "id": "EImrqlu4i3K1"
      },
      "execution_count": null,
      "outputs": []
    },
    {
      "cell_type": "markdown",
      "source": [
        "## Q7. Write a program to perform element-wise multiplication of two NumPy arrays."
      ],
      "metadata": {
        "id": "Ig5tmAZWi5DM"
      }
    },
    {
      "cell_type": "code",
      "source": [
        "import numpy as np\n",
        "\n",
        "# Define two arrays\n",
        "arr1 = np.array([1, 2, 3, 4])\n",
        "arr2 = np.array([5, 6, 7, 8])\n",
        "\n",
        "# Element-wise multiplication\n",
        "result = arr1 * arr2\n",
        "\n",
        "print(\"Array 1:\", arr1)\n",
        "print(\"Array 2:\", arr2)\n",
        "print(\"Element-wise multiplication:\", result)\n"
      ],
      "metadata": {
        "id": "YQ1Iv_50jBPH"
      },
      "execution_count": null,
      "outputs": []
    },
    {
      "cell_type": "markdown",
      "source": [
        "**Output:**"
      ],
      "metadata": {
        "id": "KTBLKsuOjMbp"
      }
    },
    {
      "cell_type": "code",
      "source": [
        "Array 1: [1 2 3 4]\n",
        "Array 2: [5 6 7 8]\n",
        "Element-wise multiplication: [ 5 12 21 32]\n"
      ],
      "metadata": {
        "id": "6HSTwLkCjRb2"
      },
      "execution_count": null,
      "outputs": []
    },
    {
      "cell_type": "markdown",
      "source": [
        "## Q8. Create a line plot with multiple lines using Matplotlib."
      ],
      "metadata": {
        "id": "hTxrvgjrjTst"
      }
    },
    {
      "cell_type": "code",
      "source": [
        "import matplotlib.pyplot as plt\n",
        "\n",
        "# Sample data\n",
        "x = [1, 2, 3, 4, 5]\n",
        "y1 = [2, 3, 5, 7, 11]\n",
        "y2 = [1, 4, 6, 8, 10]\n",
        "\n",
        "# Create line plot\n",
        "plt.plot(x, y1, label='Series 1', color='blue', marker='o')\n",
        "plt.plot(x, y2, label='Series 2', color='red', marker='s')\n",
        "\n",
        "# Add title and labels\n",
        "plt.title(\"Multiple Line Plot Example\")\n",
        "plt.xlabel(\"X-axis\")\n",
        "plt.ylabel(\"Y-axis\")\n",
        "\n",
        "# Show legend\n",
        "plt.legend()\n",
        "\n",
        "# Display plot\n",
        "plt.show()\n"
      ],
      "metadata": {
        "id": "fxtannNPjedF"
      },
      "execution_count": null,
      "outputs": []
    },
    {
      "cell_type": "markdown",
      "source": [
        "## Q9. Generate a Pandas DataFrame and filter rows where a column value is greater than a threshold."
      ],
      "metadata": {
        "id": "Aa81994wjnbT"
      }
    },
    {
      "cell_type": "code",
      "source": [
        "import pandas as pd\n",
        "\n",
        "# Create a sample DataFrame\n",
        "data = {\n",
        "    'Name': ['Alice', 'Bob', 'Charlie', 'David'],\n",
        "    'Age': [25, 30, 35, 40],\n",
        "    'Salary': [5000, 6000, 7000, 8000]\n",
        "}\n",
        "\n",
        "df = pd.DataFrame(data)\n",
        "\n",
        "# Filter rows where Salary is greater than 6000\n",
        "filtered_df = df[df['Salary'] > 6000]\n",
        "\n",
        "print(filtered_df)\n"
      ],
      "metadata": {
        "id": "6u8FclDrj1lQ"
      },
      "execution_count": null,
      "outputs": []
    },
    {
      "cell_type": "markdown",
      "source": [
        "**Output:**"
      ],
      "metadata": {
        "id": "liDvfunUj5cd"
      }
    },
    {
      "cell_type": "code",
      "source": [
        "      Name  Age  Salary\n",
        "2  Charlie   35    7000\n",
        "3    David   40    8000\n"
      ],
      "metadata": {
        "id": "B6MeRI1Zj81u"
      },
      "execution_count": null,
      "outputs": []
    },
    {
      "cell_type": "markdown",
      "source": [
        "## Q10. Create a histogram using Seaborn to visualize a distribution."
      ],
      "metadata": {
        "id": "62bzcslWj_J_"
      }
    },
    {
      "cell_type": "code",
      "source": [
        "import seaborn as sns\n",
        "import matplotlib.pyplot as plt\n",
        "\n",
        "# Sample data\n",
        "data = [12, 15, 13, 15, 18, 20, 15, 17, 19, 21, 13, 16, 18]\n",
        "\n",
        "# Create histogram\n",
        "sns.histplot(data, bins=5, kde=True, color='skyblue')\n",
        "\n",
        "# Add title and labels\n",
        "plt.title(\"Histogram of Sample Data\")\n",
        "plt.xlabel(\"Value\")\n",
        "plt.ylabel(\"Frequency\")\n",
        "\n",
        "# Show plot\n",
        "plt.show()\n"
      ],
      "metadata": {
        "id": "o8KzNkU1kS_n"
      },
      "execution_count": null,
      "outputs": []
    },
    {
      "cell_type": "markdown",
      "source": [
        "## Q11. Perform matrix multiplication using NumPy."
      ],
      "metadata": {
        "id": "UdvdVbJKkYYh"
      }
    },
    {
      "cell_type": "code",
      "source": [
        "import numpy as np\n",
        "\n",
        "# Define two matrices\n",
        "A = np.array([[1, 2],\n",
        "              [3, 4]])\n",
        "\n",
        "B = np.array([[5, 6],\n",
        "              [7, 8]])\n",
        "\n",
        "# Matrix multiplication\n",
        "C = np.dot(A, B)   # Method 1\n",
        "# Alternatively, using @ operator: C = A @ B\n",
        "\n",
        "print(\"Matrix A:\")\n",
        "print(A)\n",
        "print(\"Matrix B:\")\n",
        "print(B)\n",
        "print(\"Matrix Multiplication Result (A x B):\")\n",
        "print(C)\n"
      ],
      "metadata": {
        "id": "uMaZuh7Kklrt"
      },
      "execution_count": null,
      "outputs": []
    },
    {
      "cell_type": "markdown",
      "source": [
        "**Output:**"
      ],
      "metadata": {
        "id": "POYTmzDxks2n"
      }
    },
    {
      "cell_type": "code",
      "source": [
        "Matrix A:\n",
        "[[1 2]\n",
        " [3 4]]\n",
        "Matrix B:\n",
        "[[5 6]\n",
        " [7 8]]\n",
        "Matrix Multiplication Result (A x B):\n",
        "[[19 22]\n",
        " [43 50]]\n"
      ],
      "metadata": {
        "id": "QzhAplphkvbA"
      },
      "execution_count": null,
      "outputs": []
    },
    {
      "cell_type": "markdown",
      "source": [
        "## Q12. Use Pandas to load a CSV file and display its first 5 rows."
      ],
      "metadata": {
        "id": "YtPovdJgkymo"
      }
    },
    {
      "cell_type": "code",
      "source": [
        "import pandas as pd\n",
        "\n",
        "# Load CSV file\n",
        "df = pd.read_csv('data.csv')  # Replace 'data.csv' with your file path\n",
        "\n",
        "# Display the first 5 rows\n",
        "print(df.head())\n"
      ],
      "metadata": {
        "id": "mCxqBLiik7UP"
      },
      "execution_count": null,
      "outputs": []
    },
    {
      "cell_type": "markdown",
      "source": [
        "## Q13. Create a 3D scatter plot using Plotly."
      ],
      "metadata": {
        "id": "zvIW060Cleth"
      }
    },
    {
      "cell_type": "code",
      "source": [
        "import plotly.express as px\n",
        "import pandas as pd\n",
        "\n",
        "# Sample data\n",
        "data = {\n",
        "    'X': [1, 2, 3, 4, 5],\n",
        "    'Y': [5, 4, 3, 2, 1],\n",
        "    'Z': [2, 3, 4, 5, 6],\n",
        "    'Category': ['A', 'B', 'A', 'B', 'A']\n",
        "}\n",
        "\n",
        "df = pd.DataFrame(data)\n",
        "\n",
        "# Create 3D scatter plot\n",
        "fig = px.scatter_3d(df, x='X', y='Y', z='Z', color='Category', size='Z',\n",
        "                    title='3D Scatter Plot Example')\n",
        "\n",
        "# Show plot\n",
        "fig.show()\n"
      ],
      "metadata": {
        "id": "6dT3xSbvljwQ"
      },
      "execution_count": null,
      "outputs": []
    },
    {
      "cell_type": "code",
      "source": [
        "'''\n",
        "This is the answer of Data Toolkit Practical Questions\n",
        "'''"
      ],
      "metadata": {
        "id": "Umy0wSmgmXhf"
      },
      "execution_count": null,
      "outputs": []
    }
  ]
}